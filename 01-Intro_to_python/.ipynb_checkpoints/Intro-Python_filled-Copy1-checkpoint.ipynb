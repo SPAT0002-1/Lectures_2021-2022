{
 "cells": [
  {
   "cell_type": "markdown",
   "metadata": {
    "nbpresent": {
     "id": "c943686b-5dee-4246-ad31-1df7aadfefd5"
    }
   },
   "source": [
    "# Introduction to `python` programming language\n",
    "\n",
    "## TOC\n",
    "\n",
    "- [1. Introduction to Python](#III)\n",
    "    * 1.1 [Motivation](#IIIa)\n",
    "    * 1.2 [History](#IIIb)\n",
    "    * 1.3 [What is an interpreted language ?](#IIIc)\n",
    "    * 1.4 [First steps](#IIId)\n",
    "    * 1.5 [Container objects](#IIIe)\n",
    "        - 1.5.1 [Lists](#I.5.1-Lists:)\n",
    "        - 1.5.2 [Sets](#1.5.2-Sets:)\n",
    "        - 1.5.3 [Tuples](#1.5.3-Tuples)\n",
    "        - 1.5.4 [Lists, sets and tuple methods](#1.5.4-Lists,-sets-and-tuple-methods:)\n",
    "        - 1.5.5 [Dictionnaries](#1.5.5-Dictionaries)\n",
    "    * 1.6 [Functions](#IIIf)\n",
    "        - 1.6.1 [Docstrings](#1.6.1-Functions-and-docstrings)\n",
    "        - 1.6.2 [`*args` and `**kwargs`](#1.6.2-Args-and-kwargs)\n",
    "    * 1.7 [Control flow statements](#IIIg)\n",
    "        - 1.7.1 `if` [statements](#1.7.1-if-statements)\n",
    "        - 1.7.2 `for` [loops](#1.7.2-for-loops)\n",
    "        - 1.7.3 `while` [loops](#1.7.3-while-loops)\n",
    "        - 1.7.4 [List comprehensions](#1.7.4-List-Comprehensions)\n",
    "    * 1.8 [Arithmetic operators](#1.8-Arithmetic-and-comparison-operators)\n",
    "    * 1.9 [Python Coding recommendations](#IIIh)\n",
    "    * 1.10 [Summary](#1.10-Summary)\n",
    "- [2. About Jupyter](#IV)\n",
    "- [3. References and Additional material](#V)"
   ]
  },
  {
   "cell_type": "markdown",
   "metadata": {
    "nbpresent": {
     "id": "58ceb83b-b2bd-4eab-b643-1c824ea88e23"
    }
   },
   "source": [
    "## 1. Landing on Planet Python <a class=\"anchor\" id=\"III\"></a>\n",
    "\n",
    "### 1.1 Why should we learn `python` ? <a class=\"anchor\" id=\"IIIa\"></a>\n",
    "\n",
    "Is it Yet Another Language ? No, this is, in my opinion, the most important programming language you should masterize before the end of your cursus. In the last (two) decade(s), `Python` became one of the most popular/used language in data science and in particular in astronomy. The reasons for this are rooted in several of the advantages of `Python`:\n",
    "- Readability\n",
    "- Flexibility\n",
    "- High-level language\n",
    "- Robust methods for binding with `C`, `C++` and `FORTRAN` libraries (speed, legacy)\n",
    "- Growing number of libraries (coordinated by a very active community) and modules dedicated to specific scientific problems\n",
    "- You can use basically one single scripting language for every task you may need to do in astronomy. \n",
    "- Data reduction for a growing number of space observatories are running in python. This is the case for ALMA ([CASA](https://casa.nrao.edu/) environment calls C/C++ programs within ipython), JWST (not yet launched but [data reduction tools](https://jwst.stsci.edu/observing-programs/data-analysis-toolbox) are develloped in python), `HST`, `Chandra` (there is `CIAO` modules for python), ... and many others. All the data reduction developped within iraf are available through `pyraf`. The only noticable exception remains `ESO` data reduction tools ... but `python` still allows you to analyze the data. So most of the time, you can *reduce* and *analyse* your data within the same environment ! You may even be able, some times, to query them through `python`.\n",
    "\n",
    "If you are not yet convinced, I encourage you to have a look to this Nature paper (Nature 518, 7537) by J.M. Perkel http://www.nature.com/news/programming-pick-up-python-1.16833?WT.ec_id=NATURE-20150206  \n",
    "The following quote from this paper summarizes what I have just said before: \n",
    "> \" With the explosive growth of 'big data' in disciplines such as bioinformatics, neuroscience and astronomy, programming know-how is becoming ever more crucial. Researchers who can write code in Python can deftly manage their data sets, and work much more efficiently on a whole host of research-related tasks — from crunching numbers to cleaning up, analysing and visualizing data. Whereas some programming languages, such as MATLAB and R, focus on mathematical and statistical operations, Python is a general-purpose language, along the lines of C and C++ (the languages in which much commercial software and operating systems are written). As such, it is perhaps more complicated, Brown says, but also more capable: it is amenable to everything from automating small sets of instructions, to building websites, to fully fledged applications.\""
   ]
  },
  {
   "cell_type": "markdown",
   "metadata": {
    "nbpresent": {
     "id": "8ec6dcdd-7150-40d2-9f67-86008b2c954d"
    }
   },
   "source": [
    "### 1.2 A Brief history   <a class=\"anchor\" id=\"IIIb\"></a>\n",
    "\n",
    "The inventor of this language is the Dutch programer Guido Van Rossum. It was conceptualized in the late 1980s. Guido van Rossum worked at that time in a project called Amoeba, a distributed operating system. He programmed in a language called ABC but was not fully happy with that language. \n",
    "In an interview with Bill Venners (January 2003 ; http://www.python-course.eu/history_and_philosophy.php), Guido van Rossum said: \n",
    "> \"I remembered all my experience and some of my frustration with ABC. I decided to try to design a simple scripting language that possessed some of ABC's better properties, but without its problems. So I started typing. I created a simple virtual machine, a simple parser, and a simple runtime. I made my own version of the various ABC parts that I liked. I created a basic syntax, used indentation for statement grouping instead of curly braces or begin-end blocks, and developed a small number of powerful data types: a hash table ( or dictionary, as we call it), a list, strings, and numbers. \" \n",
    "\n",
    "... and as explained in another interview, this started as an holiday occupation. In 1996, Van Rossum said ( https://www.python.org/doc/essays/foreword/ ): \n",
    "> Over six years ago, in December 1989, I was looking for a \"hobby\" programming project that would keep me occupied during the week around Christmas. My office ... would be closed, but I had a home computer, and not much else on my hands. I decided to write an interpreter for the new scripting language I had been thinking about lately: a descendant of ABC that would appeal to Unix/C hackers. I chose Python as a working title for the project, being in a slightly irreverent mood (and a big fan of Monty Python's Flying Circus).\n",
    "\n",
    "(BTW, imagine the same quote simply between \" \" ... would it be so easy to read ! Identation is one of the things that makes of python a readable langue.) \n",
    "\n",
    "So, the naming `Python` has nothing to do with the snake, but refers to the BBC show [Monty Python's Flying Circus](https://www.youtube.com/watch?v=T70-HTlKRXo) "
   ]
  },
  {
   "cell_type": "markdown",
   "metadata": {
    "nbpresent": {
     "id": "3735cbb7-f24a-4823-8a8d-7395259177bf"
    }
   },
   "source": [
    "### 1.3 What is an interpreted language ? <a class=\"anchor\" id=\"IIIc\"></a>\n",
    "\n",
    "Programming languages are generally categorized in two classes: *compiled* and *interpreted*. `python` may be seen as an *interpreted* language (although at some level it is *compiled*). One speaks of **compiled** language when a code is executed natively through the operating system after an operation, called *compilation* that converts the original code into a code natively understandable by the machine. *Instead*, when the code is evaluated line by line through another program (which is NOT the OS) which handles its execution (in principle this execution is done in a language natively understood by the machine, also called *low-level* language) via *interpretation*, one speaks of an **interpreted** language. \n",
    "\n",
    "Why is this important? Although a given language often exists in different flavours/implementations that are either interpreted or compiled, the difference has an impact on the language properties. \n",
    "\n",
    "#### Advantages of interpreted language:\n",
    "1. platform independence (you can easily transport a code from one machine to another)\n",
    "2. dynamic typing / flexibility (you do not have to do \"compile/recompile/test/recompile\" all the time !; you can run individual commands without writing a full script.)\n",
    "3. ease of debugging (it is easier to get source code information in interpreted languages)\n",
    "4. small program size (since interpreted languages have flexibility to choose instruction code)\n",
    "5. automatic memory management    \n",
    "\n",
    "#### Disadvantages of interpreted language: \n",
    "1. Speed\n",
    "2. Speed\n",
    "3. Speed\n",
    "\n",
    "`Python` is effectively a (very) high-level language, which means that there is *a lot* of built-in data-types (and we will spend most of the remaining of this class to go though the most important ones: arrays, dictionnary, lists). This variety of data types is part of the reason why python became so popular as it can deal easily with many different kind of input/outputs. \n",
    "\n",
    "Examples of compiled/interpreted languages:    \n",
    "\n",
    "| Name | Category |\n",
    "|:-----|:---------|\n",
    "| C/C++| Compiled |\n",
    "| Fortran | Compiled |\n",
    "| Perl | Interpreted |\n",
    "| Python | Interpreted (but compiled to byte code) |\n",
    "| MATLAB  | Interpreted | \n"
   ]
  },
  {
   "cell_type": "markdown",
   "metadata": {
    "nbpresent": {
     "id": "03d92f58-54e3-4bf9-b86a-908a93201ba8"
    }
   },
   "source": [
    "### 1.4 First steps  <a class=\"anchor\" id=\"IIId\"></a>\n",
    "\n",
    "*When do we start ?*  Now.    \n",
    "We have two ways to run python, either interactively, or from scripts. *Interactive* use is favoured when you want to do small exploratory analysis, test part of codes, visualise some results, while scripts will be used in general to run (and re-run) more complex programs.    \n",
    "\n",
    "To run Python code interactively, one can use the standard Python prompt, which can be launched by typing `python` in a terminal. Instead, one can use a feature enhanced prompt, `ipython`, where \"i\" stands for interactive (which also means that IPython is an *interpreter*). This is an add-on package that adds many features to the default Python shell, including the ability to edit and navigate the history of previous commands, as well as the ability to tab-complete variable and function names. You can also write several commands one after the other before executing them by typing `Ctrl Enter` between each command instead of `Enter`. For some versions of ipython, this is rather `Ctrl o`. `IPython` allows you also to use any shell command by preceding it with a `!` as we did at the beginning of this Notebook (If this does not work, try without the `!`). This is basically telling Ipython that this shell is activated in the *code* cells of this Jupyter Notebook.    \n",
    "     \n",
    "Once you have launched `ipython`, you can proceed as follows to type your first `python` commands: \n",
    "``` python\n",
    "x = 10\n",
    "x\n",
    "\n",
    "Out[1]: 10\n",
    "```\n",
    "     \n",
    "As you can see in that example, in python you can define variable \"*on the fly*\", there is in general no need to declare a variable and its type before using it. We'll come back to this later in the course. \n",
    "    \n",
    "**Note:** Depending of how/which version of python has been installed (syntax differs between python 2.7 and python 3.6), you may run ipython with command `ipython2` or `ipython3` (or `ipython` the latter being linked to either `ipython2` or `ipython3`). "
   ]
  },
  {
   "cell_type": "code",
   "execution_count": 1,
   "metadata": {},
   "outputs": [],
   "source": [
    "a = 5 "
   ]
  },
  {
   "cell_type": "code",
   "execution_count": 2,
   "metadata": {
    "nbpresent": {
     "id": "7b99bace-8929-4e92-bf9f-3fd2bc2ffdea"
    }
   },
   "outputs": [
    {
     "name": "stdout",
     "output_type": "stream",
     "text": [
      "Hello Sir\n"
     ]
    }
   ],
   "source": [
    "# Use this cell to experiment typing commands. You can also run a ipython shell in a separate terminal\n",
    "print(\"Hello Sir\")"
   ]
  },
  {
   "cell_type": "code",
   "execution_count": 3,
   "metadata": {
    "nbpresent": {
     "id": "d126b4ea-9196-4d8f-a4c0-dfc876ccc08c"
    }
   },
   "outputs": [
    {
     "name": "stdout",
     "output_type": "stream",
     "text": [
      "a = 5\n",
      "# Use this cell to experiment typing commands. You can also run a ipython shell in a separate terminal\n",
      "print(\"Hello Sir\")\n",
      "%history\n"
     ]
    }
   ],
   "source": [
    "%history"
   ]
  },
  {
   "cell_type": "code",
   "execution_count": 4,
   "metadata": {},
   "outputs": [
    {
     "name": "stdout",
     "output_type": "stream",
     "text": [
      "3\n"
     ]
    }
   ],
   "source": [
    "a = 3\n",
    "print(a)"
   ]
  },
  {
   "cell_type": "code",
   "execution_count": 5,
   "metadata": {},
   "outputs": [
    {
     "name": "stdout",
     "output_type": "stream",
     "text": [
      "3\n"
     ]
    },
    {
     "data": {
      "text/plain": [
       "(4, 3)"
      ]
     },
     "execution_count": 5,
     "metadata": {},
     "output_type": "execute_result"
    }
   ],
   "source": [
    "b = 3 \n",
    "print(a) \n",
    "c= 4\n",
    "c, b "
   ]
  },
  {
   "cell_type": "code",
   "execution_count": 6,
   "metadata": {},
   "outputs": [
    {
     "name": "stdout",
     "output_type": "stream",
     "text": [
      "3 Hello\n"
     ]
    }
   ],
   "source": [
    "A = \"Hello\"\n",
    "print(a, A)"
   ]
  },
  {
   "cell_type": "code",
   "execution_count": 7,
   "metadata": {},
   "outputs": [
    {
     "name": "stdout",
     "output_type": "stream",
     "text": [
      "Type of a =  <class 'int'>\n",
      "Type of b is <class 'float'>\n"
     ]
    }
   ],
   "source": [
    "print(\"Type of a = \", type(a))\n",
    "b = 3.\n",
    "print(\"Type of b is\", type(b))"
   ]
  },
  {
   "cell_type": "code",
   "execution_count": 8,
   "metadata": {},
   "outputs": [
    {
     "name": "stdout",
     "output_type": "stream",
     "text": [
      "The value of variable a is 3\n"
     ]
    }
   ],
   "source": [
    "print(\"The value of variable a is\", a)"
   ]
  },
  {
   "cell_type": "markdown",
   "metadata": {
    "nbpresent": {
     "id": "ff7b37eb-efe5-4164-813e-2e7259bd9c46"
    }
   },
   "source": [
    "It is important to note that in `python`, variables are *CASE sensitive*, so `x` and `X` refer to two *different* objects.\n",
    "\n",
    "You can do operations, assign values to variables but also *print text*. For this, you can do\n",
    "``` python\n",
    "print(\"Hello world\")\n",
    "```\n",
    "but you can also do \n",
    "``` python\n",
    "\"Hello world !\"\n",
    "```\n",
    "\n",
    "You can also print the result of an operation and some text, separating the objects to be printed with `,`:\n",
    "``` python\n",
    "print('Result=', x/2) \n",
    "\n",
    "```\n",
    "\n",
    "You have also a possibility to format the output (we'll see this in more details later):\n",
    "\n",
    "``` python\n",
    "print('Result= %.2f, %.i' %(x, x/2) )   # .2f = float with 2 digits ; .i = integer\n",
    "\n",
    "```\n",
    "\n",
    "**Notes**: \n",
    "- If you use version 2 of python, you'll type `print \"mytext\"` , but with version 3 of python, you need to type `print(\"mytext\")`. \n",
    "- Operations work as expected. Note however a difference of behaviour between python 2 and 3 for the DIVISION of two integers: it gives an integer (3/2 = 1) in python 2, but a float in python 3. To get a float, you can convert number into float (float(x) or add a `.` after integers to define them as floats (`3` is an integer but `2.` is a float).\n",
    "- Unless `r` or `R` is preceding a string, escape sequences *in strings* are interpreted according to rules similar to standard `C`. The most common escape sequences are `\"\\n\"` (adds a new line at the end of the string), `\"\\t\"` (adds a tab), `\"\\b\"` (Backspace). Note that typing in an interactive shell `Hello \\n`, or print r`Hello \\n` wont' have the same effect. When `r` or `R` is preceding the string, the backslash is left in the string. See https://docs.python.org/2.0/ref/strings.html for more details regarding string formatting. (We'll come back to strings and number formatting later). "
   ]
  },
  {
   "cell_type": "code",
   "execution_count": 9,
   "metadata": {
    "nbpresent": {
     "id": "f40e7e53-91ad-453e-a343-c61fad9c1abb"
    }
   },
   "outputs": [
    {
     "name": "stdout",
     "output_type": "stream",
     "text": [
      "Result 2\n",
      "Result 5.000\n",
      "Result 5.002e+05\n",
      "Type of z is  <class 'float'>\n"
     ]
    }
   ],
   "source": [
    "x = 10.\n",
    "y = 2\n",
    "z = x / y\n",
    "w = 500240.\n",
    "print('Result %.i' %y)\n",
    "print('Result %.3f' %z)\n",
    "print('Result %.3e' %w)\n",
    "print('Type of z is ', type(z))"
   ]
  },
  {
   "cell_type": "code",
   "execution_count": 2,
   "metadata": {},
   "outputs": [
    {
     "data": {
      "text/plain": [
       "range"
      ]
     },
     "execution_count": 2,
     "metadata": {},
     "output_type": "execute_result"
    }
   ],
   "source": [
    "type(range(3))"
   ]
  },
  {
   "cell_type": "code",
   "execution_count": 10,
   "metadata": {
    "nbpresent": {
     "id": "9d6d6524-bc2f-411a-aac7-fb728098e028"
    }
   },
   "outputs": [
    {
     "name": "stdout",
     "output_type": "stream",
     "text": [
      "<class 'float'> <class 'int'> 10.0\n"
     ]
    }
   ],
   "source": [
    "print(type(x), type(y), x)\n",
    "# Try it out"
   ]
  },
  {
   "cell_type": "markdown",
   "metadata": {
    "nbpresent": {
     "id": "ea9f57b8-a6c8-4a6d-9b41-ac0e727b180c"
    }
   },
   "source": [
    "When you use an `ipython` shell, you can access the command history by pressing up/down arrows. This feature doesn't work within jupyter.      \n",
    "\n",
    "While the interactive Python mode is very useful for exploring and trying out code, you will eventually want to write a script to record and reproduce what you did, or to do things that are too complex to type in interactively (defining functions, classes, etc.). To write a Python script, just use your favorite code editor to put the code in a file with a .py extension. For example, we can create a file called test.py containing:\n",
    "``` python\n",
    "x = 10\n",
    "print(x)\n",
    "```\n",
    "And then you can run it within a terminal by typing `python test.py`\n",
    "\n",
    "**Note:** It is also possible to make Python scripts executable. Simply add `#!/usr/bin/env python` on the first line of your test.py script and change the file permission to make it executable with `chmod +x test.py`. Now the script can be run without the preceeding python command; instead you can just type `./test.py` in the command line. Note that this will only work on Linux and Macs, not on Windows."
   ]
  },
  {
   "cell_type": "markdown",
   "metadata": {
    "nbpresent": {
     "id": "ff843397-97a8-4362-825f-986dcba96c27"
    }
   },
   "source": [
    "It can sometimes be useful to run a script to set things up, and to continue in interactive mode. This can be done using the `%run` IPython command to run the script, which then gets executed.     \n",
    "\n",
    "``` python\n",
    "%run test.py\n",
    "```\n",
    "This way, the IPython session then has access to the last state of the variables from the script."
   ]
  },
  {
   "cell_type": "code",
   "execution_count": 11,
   "metadata": {},
   "outputs": [
    {
     "name": "stdout",
     "output_type": "stream",
     "text": [
      "Help on built-in function print in module builtins:\n",
      "\n",
      "print(...)\n",
      "    print(value, ..., sep=' ', end='\\n', file=sys.stdout, flush=False)\n",
      "    \n",
      "    Prints the values to a stream, or to sys.stdout by default.\n",
      "    Optional keyword arguments:\n",
      "    file:  a file-like object (stream); defaults to the current sys.stdout.\n",
      "    sep:   string inserted between values, default a space.\n",
      "    end:   string appended after the last value, default a newline.\n",
      "    flush: whether to forcibly flush the stream.\n",
      "\n"
     ]
    }
   ],
   "source": [
    "help(print)"
   ]
  },
  {
   "cell_type": "code",
   "execution_count": 12,
   "metadata": {},
   "outputs": [
    {
     "name": "stdout",
     "output_type": "stream",
     "text": [
      "\n"
     ]
    }
   ],
   "source": [
    "print()"
   ]
  },
  {
   "cell_type": "code",
   "execution_count": 13,
   "metadata": {},
   "outputs": [
    {
     "name": "stdout",
     "output_type": "stream",
     "text": [
      "\u001b[31mIntro-Linux.ipynb\u001b[m\u001b[m               Jupyter.ipynb\r\n",
      "Intro-Python_filled-Copy1.ipynb Untitled.ipynb\r\n",
      "\u001b[31mIntro-Python_filled.ipynb\u001b[m\u001b[m       test.py\r\n",
      "\u001b[31mIntroduction.ipynb\u001b[m\u001b[m\r\n"
     ]
    }
   ],
   "source": [
    "!ls"
   ]
  },
  {
   "cell_type": "code",
   "execution_count": 14,
   "metadata": {
    "nbpresent": {
     "id": "dbc00205-2123-4ca4-abb9-4dd0deb2b346"
    }
   },
   "outputs": [
    {
     "name": "stdout",
     "output_type": "stream",
     "text": [
      "10\n",
      "y = 25\n"
     ]
    }
   ],
   "source": [
    "%run 'test.py'\n",
    "# Try creating a file using a text editor (e.g. run nano or gedit in a terminal, or search for a an editor in a menu) \n",
    "# and launch the editor from a terminal window or in a cell of a jupyter notebook (Do not forget the `!` in that case)"
   ]
  },
  {
   "cell_type": "markdown",
   "metadata": {
    "nbpresent": {
     "id": "3f0c1867-2f8b-423c-8be2-c36955da99e0"
    }
   },
   "source": [
    "Later on, we will learn functional programming and how to call modules and execute user defined functions in an interactive prompt or within a standalone program. "
   ]
  },
  {
   "cell_type": "markdown",
   "metadata": {
    "nbpresent": {
     "id": "d283d81b-28ee-4be4-b84d-52006dd64e02"
    }
   },
   "source": [
    "### 1.5 Container Objects  <a class=\"anchor\" id=\"IIIe\"></a>\n",
    "\n",
    "Besides strings, and numeric variables (floats, integer), there is in python a variety of container types. These containers include **lists**, **tuples**, **sets** and **dictionaries**"
   ]
  },
  {
   "cell_type": "markdown",
   "metadata": {
    "nbpresent": {
     "id": "9cb72dfe-2771-4234-98a7-47933e6dc652"
    }
   },
   "source": [
    "#### 1.5.1 Lists: \n",
    "\n",
    "A list is an *ordered* sequence of objects that can be accessed by item indexing via square brackets `[ ]`. In python, indexing **is always zero-based**, i.e. the first index of a list (but this is also true for arrays -that we will study later-) is zero.\n",
    "\n",
    "**Example:**\n",
    "``` python\n",
    "L = [1,2,3,4]\n",
    "L[0] \n",
    "    Out: 1\n",
    "L[2]\n",
    "    Out: 3\n",
    "```\n",
    "\n",
    "An important characteristic of lists is that they can include objects of *various types*, including other lists. \n",
    "\n",
    "**Example:**\n",
    "``` python\n",
    "L2 = [1., L, 'hello world']\n",
    "L2[2]\n",
    "    Out: 'hello world'\n",
    "```"
   ]
  },
  {
   "cell_type": "code",
   "execution_count": 15,
   "metadata": {
    "nbpresent": {
     "id": "67d8eefe-a4b9-419b-8d1e-8039493d90d6"
    }
   },
   "outputs": [
    {
     "data": {
      "text/plain": [
       "'hello world'"
      ]
     },
     "execution_count": 15,
     "metadata": {},
     "output_type": "execute_result"
    }
   ],
   "source": [
    "L=[1,2,3,4]\n",
    "L2 = [1., L, 'hello world']\n",
    "L2[2]"
   ]
  },
  {
   "cell_type": "markdown",
   "metadata": {
    "nbpresent": {
     "id": "e4e8417d-a462-4948-a340-c89f4d988d44"
    }
   },
   "source": [
    "To access several elements of a list/a sublist, this is called **index slicing**, you can use the semicolon `:`. The slicing can work in various ways:   \n",
    "**Example: **\n",
    "``` python\n",
    "L[0:2]   # First two elements of a list  ; note that item with index #2 is EXCLUDED\n",
    "L[:2]    # First two elements, 0 is implicit\n",
    "L[::2]   # every 2 elements (from the first one with index 0)\n",
    "L[-2:]   # Last two items \n",
    "L[i:]    # From the item i until the end (last entry is implicit). No error message if i > len(L) \n",
    "L[::-1]  # All items in reverse order\n",
    "    \n",
    "```\n",
    "List can be generated also using the function list()\n",
    "\n",
    "One way to remember how slices work is to think of the indices as pointing between characters, with the left edge of the first character numbered 0. Then the right edge of the last character of a string of n characters has index n, for example:\n",
    "``` python\n",
    " +---+---+---+---+---+---+\n",
    " | P | y | t | h | o | n |\n",
    " +---+---+---+---+---+---+\n",
    " 0   1   2   3   4   5   6\n",
    "-6  -5  -4  -3  -2  -1\n",
    "```\n",
    "The first row of numbers gives the position of the indices 0...6 (hereabove, in the string `'python'`); the second row gives the corresponding negative indices. The slice `[i:j]` from `i` to `j` consists of all characters between the edges labeled `i` and `j`, respectively.  \n",
    "\n",
    "By calling item \\# i, one gets the item at the right side of i. This is why calling item `n` of a list or string or (...) of size `n` will result an error message: there is no item on the right side of position `n` (n=6 in the example above).   \n",
    "\n",
    "For non-negative indices, the length of a slice is the difference of the indices, if both are within bounds. \n",
    "\n",
    "\n",
    "**Notes**: \n",
    "- A list is an *[iterable](https://docs.python.org/2/glossary.html#term-iterable)*, which means that one can iterate over the elements of a list. (`list.__iter__()`, `enumerate(list)`). This also means that there is special *methods* that allow you to get e.g. its length (`list.__len__()` or `len(list)`). \n",
    "- Contrary to a `string`, a `list` is mutable, which means that you can replace values of elements, or even clear elements of a list. For example `L[2:4] = []`, will clear elements \\#2 and \\#3 of list `L`.    \n",
    "- *Slicing* in `python` works for any *[sequence](https://docs.python.org/2/glossary.html#term-sequence)* type  object. This includes built-in iterables (i.e. `string`, `list`, `tuple`), but also non iterable objects such as `dict` whose length can also be accessed with method `len()`. "
   ]
  },
  {
   "cell_type": "code",
   "execution_count": 16,
   "metadata": {
    "nbpresent": {
     "id": "c206a7a1-051b-4041-ad3e-ef807dc37013"
    }
   },
   "outputs": [
    {
     "name": "stdout",
     "output_type": "stream",
     "text": [
      "P\n",
      "y\n",
      "t\n",
      "h\n",
      "o\n",
      "n\n"
     ]
    }
   ],
   "source": [
    "# use this cell to experiment with lists as described in the above examples, \n",
    "# and experiment with the various ways to slice through a list as described above\n",
    "L = ['P', 'y', 't', 'h', 'o', 'n']\n",
    "for ll in L:\n",
    "    print(ll)"
   ]
  },
  {
   "cell_type": "code",
   "execution_count": 23,
   "metadata": {},
   "outputs": [
    {
     "data": {
      "text/plain": [
       "(['P', 'y'], ['o', 'n'], ['o'], ['n', 'o', 'h', 't', 'y', 'P'], ['o', 'n'])"
      ]
     },
     "execution_count": 23,
     "metadata": {},
     "output_type": "execute_result"
    }
   ],
   "source": [
    "L[0:2], L[-2::], L[-2:-1], L[::-1], L[-2:]"
   ]
  },
  {
   "cell_type": "code",
   "execution_count": 32,
   "metadata": {},
   "outputs": [
    {
     "data": {
      "text/plain": [
       "6"
      ]
     },
     "execution_count": 32,
     "metadata": {},
     "output_type": "execute_result"
    }
   ],
   "source": [
    "L = ['P', 'y', 't', 'h', 'o', 'n']\n",
    "len(L)"
   ]
  },
  {
   "cell_type": "markdown",
   "metadata": {
    "nbpresent": {
     "id": "e9cbadd1-4e47-4356-91ce-bf2871014f7f"
    }
   },
   "source": [
    "#### 1.5.2 Sets:\n",
    "\n",
    "A **set** is a bit like a list BUT its elements are **unordered** and **unique** (no repetition).  \n",
    "A set is built using the function `set([])`\n",
    "\n",
    "**Example:**\n",
    "``` python \n",
    "S = set([1,1,2,4,3,5])\n",
    "\n",
    "S = {1,1,2,4,3,5}  # Another way to define a set object !\n",
    "```\n",
    "Use the cell below to see the output of `set` (`set` did not exist before python 2.6)\n"
   ]
  },
  {
   "cell_type": "code",
   "execution_count": 25,
   "metadata": {
    "nbpresent": {
     "id": "7214e273-2b7a-4883-b83d-6851231b0563"
    }
   },
   "outputs": [
    {
     "data": {
      "text/plain": [
       "{1, 2, 3, 4, 5}"
      ]
     },
     "execution_count": 25,
     "metadata": {},
     "output_type": "execute_result"
    }
   ],
   "source": [
    "S = {1,1,2,4,3,5}\n",
    "S"
   ]
  },
  {
   "cell_type": "code",
   "execution_count": 28,
   "metadata": {},
   "outputs": [
    {
     "data": {
      "text/plain": [
       "{1, 2, 3, 4, 5, 10, 19}"
      ]
     },
     "execution_count": 28,
     "metadata": {},
     "output_type": "execute_result"
    }
   ],
   "source": [
    "S = {1,2,5,2,1,3,19, 10, 4}\n",
    "S"
   ]
  },
  {
   "cell_type": "code",
   "execution_count": 26,
   "metadata": {
    "nbpresent": {
     "id": "d1e75721-c39c-43d7-b7be-d9ba21021f74"
    }
   },
   "outputs": [
    {
     "ename": "TypeError",
     "evalue": "'set' object is not subscriptable",
     "output_type": "error",
     "traceback": [
      "\u001b[0;31m---------------------------------------------------------------------------\u001b[0m",
      "\u001b[0;31mTypeError\u001b[0m                                 Traceback (most recent call last)",
      "\u001b[0;32m<ipython-input-26-535b18a9339c>\u001b[0m in \u001b[0;36m<module>\u001b[0;34m()\u001b[0m\n\u001b[0;32m----> 1\u001b[0;31m \u001b[0mS\u001b[0m\u001b[0;34m[\u001b[0m\u001b[0;36m1\u001b[0m\u001b[0;34m:\u001b[0m\u001b[0;36m3\u001b[0m\u001b[0;34m]\u001b[0m\u001b[0;34m\u001b[0m\u001b[0;34m\u001b[0m\u001b[0m\n\u001b[0m",
      "\u001b[0;31mTypeError\u001b[0m: 'set' object is not subscriptable"
     ]
    }
   ],
   "source": [
    "S[1:3]"
   ]
  },
  {
   "cell_type": "markdown",
   "metadata": {
    "nbpresent": {
     "id": "36e33cde-c585-4a5c-b194-656607c0c818"
    }
   },
   "source": [
    "#### 1.5.3 Tuples\n",
    "\n",
    "Tuples are similar to lists but they are separated by parentheses `( )` instead of square brackets `[ ]`.   \n",
    "They support indexing and slicing like lists. However, Tuples (like strings) are **immutable**, which means that once they are created, the items cannot be changed. \n",
    "\n",
    "**Example:**\n",
    "``` python\n",
    "L = [1,2,3,4]  # this is a List\n",
    "T = (1,2,3,4)  # this is a Tuple\n",
    "```"
   ]
  },
  {
   "cell_type": "code",
   "execution_count": 29,
   "metadata": {},
   "outputs": [],
   "source": [
    "L = [1,2,3,4]  # this is a List\n",
    "T = (1,2,3,4)  # this is a Tuple"
   ]
  },
  {
   "cell_type": "code",
   "execution_count": 34,
   "metadata": {
    "nbpresent": {
     "id": "4db800e8-bc31-42e6-9420-584f723312f8"
    }
   },
   "outputs": [
    {
     "ename": "TypeError",
     "evalue": "'tuple' object does not support item assignment",
     "output_type": "error",
     "traceback": [
      "\u001b[0;31m---------------------------------------------------------------------------\u001b[0m",
      "\u001b[0;31mTypeError\u001b[0m                                 Traceback (most recent call last)",
      "\u001b[0;32m<ipython-input-34-6d2e125bd135>\u001b[0m in \u001b[0;36m<module>\u001b[0;34m()\u001b[0m\n\u001b[1;32m      3\u001b[0m \u001b[0mT\u001b[0m \u001b[0;34m=\u001b[0m \u001b[0;34m(\u001b[0m\u001b[0;36m0\u001b[0m\u001b[0;34m,\u001b[0m\u001b[0;36m1\u001b[0m\u001b[0;34m,\u001b[0m\u001b[0;36m2\u001b[0m\u001b[0;34m,\u001b[0m\u001b[0;36m3\u001b[0m\u001b[0;34m,\u001b[0m\u001b[0;36m4\u001b[0m\u001b[0;34m)\u001b[0m\u001b[0;34m\u001b[0m\u001b[0;34m\u001b[0m\u001b[0m\n\u001b[1;32m      4\u001b[0m \u001b[0mL\u001b[0m\u001b[0;34m[\u001b[0m\u001b[0;36m1\u001b[0m\u001b[0;34m]\u001b[0m \u001b[0;34m=\u001b[0m \u001b[0;36m9\u001b[0m\u001b[0;34m\u001b[0m\u001b[0;34m\u001b[0m\u001b[0m\n\u001b[0;32m----> 5\u001b[0;31m \u001b[0mT\u001b[0m\u001b[0;34m[\u001b[0m\u001b[0;36m1\u001b[0m\u001b[0;34m]\u001b[0m \u001b[0;34m=\u001b[0m \u001b[0;36m9\u001b[0m\u001b[0;34m\u001b[0m\u001b[0;34m\u001b[0m\u001b[0m\n\u001b[0m\u001b[1;32m      6\u001b[0m \u001b[0mL\u001b[0m\u001b[0;34m,\u001b[0m \u001b[0mT\u001b[0m\u001b[0;34m\u001b[0m\u001b[0;34m\u001b[0m\u001b[0m\n",
      "\u001b[0;31mTypeError\u001b[0m: 'tuple' object does not support item assignment"
     ]
    }
   ],
   "source": [
    "# Create a list of length 5, and assign a value to item #2. Do the same with a tuple. What is the difference ? \n",
    "L = [0,1,2,3,4]\n",
    "T = (0,1,2,3,4)\n",
    "L[1] = 9\n",
    "T[1] = 9\n",
    "L, T "
   ]
  },
  {
   "cell_type": "markdown",
   "metadata": {
    "nbpresent": {
     "id": "c856176f-5222-4cbd-b43d-3b9ee775f83b"
    }
   },
   "source": [
    "#### 1.5.4 Lists, sets and tuple methods:\n",
    "\n",
    "There is many operations that can be done on lists, sets and tuples and that you may want to do very soon.\n",
    "\n",
    "- Add and remove elements from a list:\n",
    "``` python\n",
    "L.append(5) # Append an object at the end of a list\n",
    "L.insert(3, 'q')  # insert a string \"q\" at location 3. \n",
    "L.pop()     # Removes last object (or object at a specified index) of a list\n",
    "L.extend([6,8])  # Extend list, 'in-place'\n",
    "```\n",
    "- Concatenate and repeat lists:\n",
    "``` python\n",
    "L + L     # Concatenation\n",
    "    Out: [1,2,3,4,1,2,3,4]\n",
    "2 * L     # Repetition\n",
    "    Out: [1, 2, 3, 4, 1, 2, 3, 4]\n",
    "```\n",
    "- Sort elements of a list:\n",
    "\n",
    "``` python\n",
    "L.sort()   # sort in-place\n",
    "\n",
    "```\n",
    "\n",
    "- Conversion of lists to other types:\n",
    "\t* Convert list to a tuple (Remember that tuple are immutable -> cannot be changed !):   \n",
    "        `tuple(mylist)` \n",
    "\t* Convert list to set: (set is a unordered collection of unique items => duplicates are LOST!)    \n",
    "        `set(mylist)`\n",
    "    * Convert list of strings to strings:    \n",
    "        `''.join(Ls)`  \n",
    "\n",
    "**Notes**: \n",
    "- For a more exhaustive overview of the methods applicable to lists, consult the [Data Structure section](https://docs.python.org/2/tutorial/datastructures.html#more-on-lists) of the Python tutorial.\n",
    "- Convert list of integers to strings:\n",
    "    ``` python\n",
    "        listOfNumbers = [1, 2, 3]\n",
    "        strOfNumbers = ''.join(str(n) for n in listOfNumbers)\n",
    "\t```"
   ]
  },
  {
   "cell_type": "code",
   "execution_count": 35,
   "metadata": {
    "nbpresent": {
     "id": "f752f776-cc87-4dc1-bda0-c3549ef25c5e"
    }
   },
   "outputs": [
    {
     "name": "stdout",
     "output_type": "stream",
     "text": [
      "[0, 9, 2, 3, 4]\n",
      "[0, 9, 2, 3, 4, 5]\n"
     ]
    }
   ],
   "source": [
    "# Experiment with list and tuple methods \n",
    "print(L)\n",
    "L.append(5)\n",
    "print(L)"
   ]
  },
  {
   "cell_type": "code",
   "execution_count": 36,
   "metadata": {},
   "outputs": [
    {
     "data": {
      "text/plain": [
       "[0, 9, 'l', 2, 3, 4, 5]"
      ]
     },
     "execution_count": 36,
     "metadata": {},
     "output_type": "execute_result"
    }
   ],
   "source": [
    "L.insert(2, 'l')\n",
    "L"
   ]
  },
  {
   "cell_type": "code",
   "execution_count": 37,
   "metadata": {},
   "outputs": [
    {
     "data": {
      "text/plain": [
       "[0, 9, 2, 3, 4, 5]"
      ]
     },
     "execution_count": 37,
     "metadata": {},
     "output_type": "execute_result"
    }
   ],
   "source": [
    "L.pop(2)\n",
    "L"
   ]
  },
  {
   "cell_type": "code",
   "execution_count": 38,
   "metadata": {},
   "outputs": [
    {
     "data": {
      "text/plain": [
       "[0, 9, 2, 3, 4, 5, 6, 7]"
      ]
     },
     "execution_count": 38,
     "metadata": {},
     "output_type": "execute_result"
    }
   ],
   "source": [
    "L.extend([6,7])\n",
    "L"
   ]
  },
  {
   "cell_type": "code",
   "execution_count": 45,
   "metadata": {},
   "outputs": [
    {
     "data": {
      "text/plain": [
       "[0, 9, 2, 3, 4, 5, 6, 7, 0, 9, 2, 3, 4, 5, 6, 7]"
      ]
     },
     "execution_count": 45,
     "metadata": {},
     "output_type": "execute_result"
    }
   ],
   "source": [
    "L+L"
   ]
  },
  {
   "cell_type": "code",
   "execution_count": 48,
   "metadata": {},
   "outputs": [
    {
     "data": {
      "text/plain": [
       "[0, 9, 2, 3, 4, 5, 6, 7, 0, 9, 2, 3, 4, 5, 6, 7, 0, 9, 2, 3, 4, 5, 6, 7]"
      ]
     },
     "execution_count": 48,
     "metadata": {},
     "output_type": "execute_result"
    }
   ],
   "source": [
    "3*L"
   ]
  },
  {
   "cell_type": "code",
   "execution_count": 50,
   "metadata": {},
   "outputs": [
    {
     "data": {
      "text/plain": [
       "[0, 2, 3, 4, 5, 6, 7, 9]"
      ]
     },
     "execution_count": 50,
     "metadata": {},
     "output_type": "execute_result"
    }
   ],
   "source": [
    "L.sort()\n",
    "L"
   ]
  },
  {
   "cell_type": "code",
   "execution_count": 60,
   "metadata": {},
   "outputs": [
    {
     "data": {
      "text/plain": [
       "['q', 6, 5, 2, 13, 10]"
      ]
     },
     "execution_count": 60,
     "metadata": {},
     "output_type": "execute_result"
    }
   ],
   "source": [
    "L2 = [10, 'q', 5,6, 13, 2]\n",
    "L2.sort(key=str, reverse=True)\n",
    "L2"
   ]
  },
  {
   "cell_type": "code",
   "execution_count": 65,
   "metadata": {
    "nbpresent": {
     "id": "745b3e7f-b8d6-4e9b-aa6d-db8fe7d327af"
    }
   },
   "outputs": [
    {
     "name": "stdout",
     "output_type": "stream",
     "text": [
      "[1, 2, 4, 5, 6, ['q', 'r']]\n"
     ]
    }
   ],
   "source": [
    "# Create a list of 6 integers, remove the 3rd one. Add a list of 2 strings. \n",
    "# Then use L.append(9) and L.extend([17, 24]) and compare the output at each step\n",
    "L = [1,2,3,4,5,6]\n",
    "L.pop(2)\n",
    "L.append(['q', 'r'])\n",
    "print(L)"
   ]
  },
  {
   "cell_type": "code",
   "execution_count": 66,
   "metadata": {},
   "outputs": [
    {
     "name": "stdout",
     "output_type": "stream",
     "text": [
      "[1, 2, 4, 5, 6, ['q', 'r'], 9]\n"
     ]
    }
   ],
   "source": [
    "L.append(9)\n",
    "print(L)"
   ]
  },
  {
   "cell_type": "code",
   "execution_count": 67,
   "metadata": {},
   "outputs": [
    {
     "name": "stdout",
     "output_type": "stream",
     "text": [
      "[1, 2, 4, 5, 6, ['q', 'r'], 9, 17, 24]\n"
     ]
    }
   ],
   "source": [
    "L.extend([17, 24])\n",
    "print(L)"
   ]
  },
  {
   "cell_type": "markdown",
   "metadata": {
    "nbpresent": {
     "id": "520494ec-974a-43f5-bd3e-e3d1e105f174"
    }
   },
   "source": [
    "#### 1.5.5 Dictionaries\n",
    "\n",
    "Another common built-in `Python` object is the **dictionary**. The dictionnary stores unordered sequence(s) of key-value pairs. It is defined using curly brackets `{ }`, and like lists allows mixing of types. It is a bit like a `list` for which each element has a label such that you can access this element by its label instead of accessing it by its position.    \n",
    "**Example:**\n",
    "``` python\n",
    "D = {'one': 1, 'two': 2, 'three': 3, 'four': L}  # L is a list as defined above\n",
    "D['two']\n",
    "    Out:  2\n",
    "D = dict(one=1, two=2, three=3, four=L)  # Another way to create a dictionary \n",
    "```\n",
    "\n",
    "Dictionaries are often found as input/outputs of built-in or contributed functions. They work in fact behind the scene when you define new variables that you use within an `ipython` or `juPyter` session. You may have a look behind the curtain by calling `globals()` in the code-cell below. \n",
    "\n",
    "Also a dictionnary is NOT an iterable, you can get its lenght using the method `len(). "
   ]
  },
  {
   "cell_type": "code",
   "execution_count": 68,
   "metadata": {
    "nbpresent": {
     "id": "83332953-7cb8-4484-a890-1dc824dacf58"
    }
   },
   "outputs": [
    {
     "data": {
      "text/plain": [
       "{'one': 1,\n",
       " 'two': 2,\n",
       " 'three': 3,\n",
       " 'four': [1, 2, 4, 5, 6, ['q', 'r'], 9, 17, 24]}"
      ]
     },
     "execution_count": 68,
     "metadata": {},
     "output_type": "execute_result"
    }
   ],
   "source": [
    "# Use this cell  to play with dictionaries\n",
    "D = {'one': 1, 'two': 2, 'three': 3, 'four': L}  # L is a list as defined above\n",
    "D"
   ]
  },
  {
   "cell_type": "code",
   "execution_count": 69,
   "metadata": {},
   "outputs": [
    {
     "data": {
      "text/plain": [
       "{'one': 1,\n",
       " 'two': 2,\n",
       " 'three': 3,\n",
       " 'four': [1, 2, 4, 5, 6, ['q', 'r'], 9, 17, 24]}"
      ]
     },
     "execution_count": 69,
     "metadata": {},
     "output_type": "execute_result"
    }
   ],
   "source": [
    "L=[2,3]\n",
    "D"
   ]
  },
  {
   "cell_type": "code",
   "execution_count": 70,
   "metadata": {
    "nbpresent": {
     "id": "ae969c8f-1d9f-4a0b-89cf-66e64484ff26"
    }
   },
   "outputs": [
    {
     "data": {
      "text/plain": [
       "{'__name__': '__main__',\n",
       " '__doc__': 'Module created for script run in IPython',\n",
       " '__package__': None,\n",
       " '__loader__': None,\n",
       " '__spec__': None,\n",
       " '__builtin__': <module 'builtins' (built-in)>,\n",
       " '__builtins__': <module 'builtins' (built-in)>,\n",
       " '_ih': ['',\n",
       "  'a = 5 ',\n",
       "  '# Use this cell to experiment typing commands. You can also run a ipython shell in a separate terminal\\nprint(\"Hello Sir\")',\n",
       "  \"get_ipython().magic('history')\",\n",
       "  'a = 3\\nprint(a)',\n",
       "  'b = 3 \\nprint(a) \\nc= 4\\nc, b ',\n",
       "  'A = \"Hello\"\\nprint(a, A)',\n",
       "  'print(\"Type of a = \", type(a))\\nb = 3.\\nprint(\"Type of b is\", type(b))',\n",
       "  'print(\"The value of variable a is\", a)',\n",
       "  \"x = 10.\\ny = 2\\nz = x / y\\nw = 500240.\\nprint('Result %.i' %y)\\nprint('Result %.3f' %z)\\nprint('Result %.3e' %w)\\nprint('Type of z is ', type(z))\",\n",
       "  'print(type(x), type(y), x)\\n# Try it out',\n",
       "  'help(print)',\n",
       "  'print()',\n",
       "  \"get_ipython().system('ls')\",\n",
       "  'get_ipython().magic(\"run \\'test.py\\'\")\\n# Try creating a file using a text editor (e.g. run nano or gedit in a terminal, or search for a an editor in a menu) \\n# and launch the editor from a terminal window or in a cell of a jupyter notebook (Do not forget the `!` in that case)',\n",
       "  \"L=[1,2,3,4]\\nL2 = [1., L, 'hello world']\\nL2[2]\",\n",
       "  \"# use this cell to experiment with lists as described in the above examples, \\n# and experiment with the various ways to slice through a list as described above\\nL = ['P', 'y', 't', 'h', 'o', 'n']\\nfor ll in L:\\n    print(ll)\",\n",
       "  'L[0:2]',\n",
       "  'L[0:2], L[-2::]',\n",
       "  'L[0:2], L[-2::], L[-2,-1]',\n",
       "  'L[0:2], L[-2::], L[-2:-1]',\n",
       "  'L[0:2], L[-2::], L[-2:-1], L[::0]',\n",
       "  'L[0:2], L[-2::], L[-2:-1], L[::-1]',\n",
       "  'L[0:2], L[-2::], L[-2:-1], L[::-1], L[-2:]',\n",
       "  'S = {1,1,2,4,3,5}',\n",
       "  'S = {1,1,2,4,3,5}\\nS',\n",
       "  'S[1:3]',\n",
       "  'S[0]',\n",
       "  'S = {1,2,5,2,1,3,19, 10, 4}\\nS',\n",
       "  'L = [1,2,3,4]  # this is a List\\nT = (1,2,3,4)  # this is a Tuple',\n",
       "  'len(L)',\n",
       "  'L',\n",
       "  \"L = ['P', 'y', 't', 'h', 'o', 'n']\\nlen(L)\",\n",
       "  '# Create a list of length 5, and assign a value to item #2. Do the same with a tuple. What is the difference ? \\nL = [0,1,2,3,4]\\nT = [0,1,2,3,4]\\nL[1] = 9\\nT[1] = 9\\nL, T ',\n",
       "  '# Create a list of length 5, and assign a value to item #2. Do the same with a tuple. What is the difference ? \\nL = [0,1,2,3,4]\\nT = (0,1,2,3,4)\\nL[1] = 9\\nT[1] = 9\\nL, T ',\n",
       "  '# Experiment with list and tuple methods \\nprint(L)\\nL.append(5)\\nprint(L)',\n",
       "  \"L.insert(2, 'l')\\nL\",\n",
       "  'L.pop(2)\\nL',\n",
       "  'L.extend([6,7])\\nL',\n",
       "  'L.extend(3,4)',\n",
       "  'L.extend(3)\\nL',\n",
       "  'T.extend([3])',\n",
       "  'L+L',\n",
       "  '2*L',\n",
       "  'L-L',\n",
       "  'L+L',\n",
       "  '1.3*L',\n",
       "  '3.*L',\n",
       "  '3*L',\n",
       "  'L.sort()',\n",
       "  'L.sort()\\nL',\n",
       "  'L2 = [10, 4, 5,6, 13, 2]\\nL2.sort()\\nL2',\n",
       "  \"L2 = [10, 'q', 5,6, 13, 2]\\nL2.sort()\\nL2\",\n",
       "  '# Create a list of 6 integers, remove the 3rd one. Add a list of 2 strings. \\n# Then use L.append(9) and L.extend([17, 24]) and compare the output at each step',\n",
       "  'L2 = [10, 3., 5,6, 13, 2]\\nL2.sort()\\nL2',\n",
       "  'L2 = [10, 3., 5,6, 13, 2]\\nL2.sort(key=2)\\nL2',\n",
       "  'L2 = [10, 3., 5,6, 13, 2]\\nL2.sort(key=int)\\nL2',\n",
       "  'L2 = [10, 3., 5,6, 13, 2]\\nL2.sort(key=str)\\nL2',\n",
       "  \"L2 = [10, 'q', 5,6, 13, 2]\\nL2.sort(key=str)\\nL2\",\n",
       "  '# Create a list of 6 integers, remove the 3rd one. Add a list of 2 strings. \\n# Then use L.append(9) and L.extend([17, 24]) and compare the output at each step',\n",
       "  \"L2 = [10, 'q', 5,6, 13, 2]\\nL2.sort(key=str, reverse=True)\\nL2\",\n",
       "  \"# Create a list of 6 integers, remove the 3rd one. Add a list of 2 strings. \\n# Then use L.append(9) and L.extend([17, 24]) and compare the output at each step\\nL = [1,2,3,4,5,6]\\nL[2].pop()\\nL = L.append(['q', 'r'])\",\n",
       "  \"# Create a list of 6 integers, remove the 3rd one. Add a list of 2 strings. \\n# Then use L.append(9) and L.extend([17, 24]) and compare the output at each step\\nL = [1,2,3,4,5,6]\\nL.pop(2)\\nL = L.append(['q', 'r'])\",\n",
       "  \"# Create a list of 6 integers, remove the 3rd one. Add a list of 2 strings. \\n# Then use L.append(9) and L.extend([17, 24]) and compare the output at each step\\nL = [1,2,3,4,5,6]\\nL.pop(2)\\nL = L.append(['q', 'r'])\\nL\",\n",
       "  \"# Create a list of 6 integers, remove the 3rd one. Add a list of 2 strings. \\n# Then use L.append(9) and L.extend([17, 24]) and compare the output at each step\\nL = [1,2,3,4,5,6]\\nL.pop(2)\\nL = L.append(['q', 'r'])\\nprint(L)\",\n",
       "  \"# Create a list of 6 integers, remove the 3rd one. Add a list of 2 strings. \\n# Then use L.append(9) and L.extend([17, 24]) and compare the output at each step\\nL = [1,2,3,4,5,6]\\nL.pop(2)\\nL.append(['q', 'r'])\\nprint(L)\",\n",
       "  'L.append(9)\\nprint(L)',\n",
       "  'L.extend([17, 24])\\nprint(L)',\n",
       "  \"# Use this cell  to play with dictionaries\\nD = {'one': 1, 'two': 2, 'three': 3, 'four': L}  # L is a list as defined above\\nD\",\n",
       "  'L=[2,3]\\nD',\n",
       "  'globals()'],\n",
       " '_oh': {5: (4, 3),\n",
       "  15: 'hello world',\n",
       "  17: ['P', 'y'],\n",
       "  18: (['P', 'y'], ['o', 'n']),\n",
       "  20: (['P', 'y'], ['o', 'n'], ['o']),\n",
       "  22: (['P', 'y'], ['o', 'n'], ['o'], ['n', 'o', 'h', 't', 'y', 'P']),\n",
       "  23: (['P', 'y'],\n",
       "   ['o', 'n'],\n",
       "   ['o'],\n",
       "   ['n', 'o', 'h', 't', 'y', 'P'],\n",
       "   ['o', 'n']),\n",
       "  25: {1, 2, 3, 4, 5},\n",
       "  28: {1, 2, 3, 4, 5, 10, 19},\n",
       "  30: 4,\n",
       "  31: [1, 2, 3, 4],\n",
       "  32: 6,\n",
       "  33: ([0, 9, 2, 3, 4], [0, 9, 2, 3, 4]),\n",
       "  36: [0, 2, 3, 4, 5, 6, 7, 9],\n",
       "  37: [0, 2, 3, 4, 5, 6, 7, 9],\n",
       "  38: [0, 2, 3, 4, 5, 6, 7, 9],\n",
       "  42: [0, 9, 2, 3, 4, 5, 6, 7, 0, 9, 2, 3, 4, 5, 6, 7],\n",
       "  43: [0, 9, 2, 3, 4, 5, 6, 7, 0, 9, 2, 3, 4, 5, 6, 7],\n",
       "  45: [0, 9, 2, 3, 4, 5, 6, 7, 0, 9, 2, 3, 4, 5, 6, 7],\n",
       "  48: [0, 9, 2, 3, 4, 5, 6, 7, 0, 9, 2, 3, 4, 5, 6, 7, 0, 9, 2, 3, 4, 5, 6, 7],\n",
       "  50: [0, 2, 3, 4, 5, 6, 7, 9],\n",
       "  51: [2, 4, 5, 6, 10, 13],\n",
       "  54: [2, 3.0, 5, 6, 10, 13],\n",
       "  56: [2, 3.0, 5, 6, 10, 13],\n",
       "  57: [10, 13, 2, 3.0, 5, 6],\n",
       "  58: [10, 13, 2, 5, 6, 'q'],\n",
       "  60: ['q', 6, 5, 2, 13, 10],\n",
       "  68: {'one': 1,\n",
       "   'two': 2,\n",
       "   'three': 3,\n",
       "   'four': [1, 2, 4, 5, 6, ['q', 'r'], 9, 17, 24]},\n",
       "  69: {'one': 1,\n",
       "   'two': 2,\n",
       "   'three': 3,\n",
       "   'four': [1, 2, 4, 5, 6, ['q', 'r'], 9, 17, 24]}},\n",
       " '_dh': ['/Users/dsluse/work/git_projects/SPAT0002-1/Ongoing/01-Intro_to_python'],\n",
       " '_sh': <module 'IPython.core.shadowns' from '/Users/dsluse/miniconda3/envs/intel-python3/lib/python3.7/site-packages/IPython/core/shadowns.py'>,\n",
       " 'In': ['',\n",
       "  'a = 5 ',\n",
       "  '# Use this cell to experiment typing commands. You can also run a ipython shell in a separate terminal\\nprint(\"Hello Sir\")',\n",
       "  \"get_ipython().magic('history')\",\n",
       "  'a = 3\\nprint(a)',\n",
       "  'b = 3 \\nprint(a) \\nc= 4\\nc, b ',\n",
       "  'A = \"Hello\"\\nprint(a, A)',\n",
       "  'print(\"Type of a = \", type(a))\\nb = 3.\\nprint(\"Type of b is\", type(b))',\n",
       "  'print(\"The value of variable a is\", a)',\n",
       "  \"x = 10.\\ny = 2\\nz = x / y\\nw = 500240.\\nprint('Result %.i' %y)\\nprint('Result %.3f' %z)\\nprint('Result %.3e' %w)\\nprint('Type of z is ', type(z))\",\n",
       "  'print(type(x), type(y), x)\\n# Try it out',\n",
       "  'help(print)',\n",
       "  'print()',\n",
       "  \"get_ipython().system('ls')\",\n",
       "  'get_ipython().magic(\"run \\'test.py\\'\")\\n# Try creating a file using a text editor (e.g. run nano or gedit in a terminal, or search for a an editor in a menu) \\n# and launch the editor from a terminal window or in a cell of a jupyter notebook (Do not forget the `!` in that case)',\n",
       "  \"L=[1,2,3,4]\\nL2 = [1., L, 'hello world']\\nL2[2]\",\n",
       "  \"# use this cell to experiment with lists as described in the above examples, \\n# and experiment with the various ways to slice through a list as described above\\nL = ['P', 'y', 't', 'h', 'o', 'n']\\nfor ll in L:\\n    print(ll)\",\n",
       "  'L[0:2]',\n",
       "  'L[0:2], L[-2::]',\n",
       "  'L[0:2], L[-2::], L[-2,-1]',\n",
       "  'L[0:2], L[-2::], L[-2:-1]',\n",
       "  'L[0:2], L[-2::], L[-2:-1], L[::0]',\n",
       "  'L[0:2], L[-2::], L[-2:-1], L[::-1]',\n",
       "  'L[0:2], L[-2::], L[-2:-1], L[::-1], L[-2:]',\n",
       "  'S = {1,1,2,4,3,5}',\n",
       "  'S = {1,1,2,4,3,5}\\nS',\n",
       "  'S[1:3]',\n",
       "  'S[0]',\n",
       "  'S = {1,2,5,2,1,3,19, 10, 4}\\nS',\n",
       "  'L = [1,2,3,4]  # this is a List\\nT = (1,2,3,4)  # this is a Tuple',\n",
       "  'len(L)',\n",
       "  'L',\n",
       "  \"L = ['P', 'y', 't', 'h', 'o', 'n']\\nlen(L)\",\n",
       "  '# Create a list of length 5, and assign a value to item #2. Do the same with a tuple. What is the difference ? \\nL = [0,1,2,3,4]\\nT = [0,1,2,3,4]\\nL[1] = 9\\nT[1] = 9\\nL, T ',\n",
       "  '# Create a list of length 5, and assign a value to item #2. Do the same with a tuple. What is the difference ? \\nL = [0,1,2,3,4]\\nT = (0,1,2,3,4)\\nL[1] = 9\\nT[1] = 9\\nL, T ',\n",
       "  '# Experiment with list and tuple methods \\nprint(L)\\nL.append(5)\\nprint(L)',\n",
       "  \"L.insert(2, 'l')\\nL\",\n",
       "  'L.pop(2)\\nL',\n",
       "  'L.extend([6,7])\\nL',\n",
       "  'L.extend(3,4)',\n",
       "  'L.extend(3)\\nL',\n",
       "  'T.extend([3])',\n",
       "  'L+L',\n",
       "  '2*L',\n",
       "  'L-L',\n",
       "  'L+L',\n",
       "  '1.3*L',\n",
       "  '3.*L',\n",
       "  '3*L',\n",
       "  'L.sort()',\n",
       "  'L.sort()\\nL',\n",
       "  'L2 = [10, 4, 5,6, 13, 2]\\nL2.sort()\\nL2',\n",
       "  \"L2 = [10, 'q', 5,6, 13, 2]\\nL2.sort()\\nL2\",\n",
       "  '# Create a list of 6 integers, remove the 3rd one. Add a list of 2 strings. \\n# Then use L.append(9) and L.extend([17, 24]) and compare the output at each step',\n",
       "  'L2 = [10, 3., 5,6, 13, 2]\\nL2.sort()\\nL2',\n",
       "  'L2 = [10, 3., 5,6, 13, 2]\\nL2.sort(key=2)\\nL2',\n",
       "  'L2 = [10, 3., 5,6, 13, 2]\\nL2.sort(key=int)\\nL2',\n",
       "  'L2 = [10, 3., 5,6, 13, 2]\\nL2.sort(key=str)\\nL2',\n",
       "  \"L2 = [10, 'q', 5,6, 13, 2]\\nL2.sort(key=str)\\nL2\",\n",
       "  '# Create a list of 6 integers, remove the 3rd one. Add a list of 2 strings. \\n# Then use L.append(9) and L.extend([17, 24]) and compare the output at each step',\n",
       "  \"L2 = [10, 'q', 5,6, 13, 2]\\nL2.sort(key=str, reverse=True)\\nL2\",\n",
       "  \"# Create a list of 6 integers, remove the 3rd one. Add a list of 2 strings. \\n# Then use L.append(9) and L.extend([17, 24]) and compare the output at each step\\nL = [1,2,3,4,5,6]\\nL[2].pop()\\nL = L.append(['q', 'r'])\",\n",
       "  \"# Create a list of 6 integers, remove the 3rd one. Add a list of 2 strings. \\n# Then use L.append(9) and L.extend([17, 24]) and compare the output at each step\\nL = [1,2,3,4,5,6]\\nL.pop(2)\\nL = L.append(['q', 'r'])\",\n",
       "  \"# Create a list of 6 integers, remove the 3rd one. Add a list of 2 strings. \\n# Then use L.append(9) and L.extend([17, 24]) and compare the output at each step\\nL = [1,2,3,4,5,6]\\nL.pop(2)\\nL = L.append(['q', 'r'])\\nL\",\n",
       "  \"# Create a list of 6 integers, remove the 3rd one. Add a list of 2 strings. \\n# Then use L.append(9) and L.extend([17, 24]) and compare the output at each step\\nL = [1,2,3,4,5,6]\\nL.pop(2)\\nL = L.append(['q', 'r'])\\nprint(L)\",\n",
       "  \"# Create a list of 6 integers, remove the 3rd one. Add a list of 2 strings. \\n# Then use L.append(9) and L.extend([17, 24]) and compare the output at each step\\nL = [1,2,3,4,5,6]\\nL.pop(2)\\nL.append(['q', 'r'])\\nprint(L)\",\n",
       "  'L.append(9)\\nprint(L)',\n",
       "  'L.extend([17, 24])\\nprint(L)',\n",
       "  \"# Use this cell  to play with dictionaries\\nD = {'one': 1, 'two': 2, 'three': 3, 'four': L}  # L is a list as defined above\\nD\",\n",
       "  'L=[2,3]\\nD',\n",
       "  'globals()'],\n",
       " 'Out': {5: (4, 3),\n",
       "  15: 'hello world',\n",
       "  17: ['P', 'y'],\n",
       "  18: (['P', 'y'], ['o', 'n']),\n",
       "  20: (['P', 'y'], ['o', 'n'], ['o']),\n",
       "  22: (['P', 'y'], ['o', 'n'], ['o'], ['n', 'o', 'h', 't', 'y', 'P']),\n",
       "  23: (['P', 'y'],\n",
       "   ['o', 'n'],\n",
       "   ['o'],\n",
       "   ['n', 'o', 'h', 't', 'y', 'P'],\n",
       "   ['o', 'n']),\n",
       "  25: {1, 2, 3, 4, 5},\n",
       "  28: {1, 2, 3, 4, 5, 10, 19},\n",
       "  30: 4,\n",
       "  31: [1, 2, 3, 4],\n",
       "  32: 6,\n",
       "  33: ([0, 9, 2, 3, 4], [0, 9, 2, 3, 4]),\n",
       "  36: [0, 2, 3, 4, 5, 6, 7, 9],\n",
       "  37: [0, 2, 3, 4, 5, 6, 7, 9],\n",
       "  38: [0, 2, 3, 4, 5, 6, 7, 9],\n",
       "  42: [0, 9, 2, 3, 4, 5, 6, 7, 0, 9, 2, 3, 4, 5, 6, 7],\n",
       "  43: [0, 9, 2, 3, 4, 5, 6, 7, 0, 9, 2, 3, 4, 5, 6, 7],\n",
       "  45: [0, 9, 2, 3, 4, 5, 6, 7, 0, 9, 2, 3, 4, 5, 6, 7],\n",
       "  48: [0, 9, 2, 3, 4, 5, 6, 7, 0, 9, 2, 3, 4, 5, 6, 7, 0, 9, 2, 3, 4, 5, 6, 7],\n",
       "  50: [0, 2, 3, 4, 5, 6, 7, 9],\n",
       "  51: [2, 4, 5, 6, 10, 13],\n",
       "  54: [2, 3.0, 5, 6, 10, 13],\n",
       "  56: [2, 3.0, 5, 6, 10, 13],\n",
       "  57: [10, 13, 2, 3.0, 5, 6],\n",
       "  58: [10, 13, 2, 5, 6, 'q'],\n",
       "  60: ['q', 6, 5, 2, 13, 10],\n",
       "  68: {'one': 1,\n",
       "   'two': 2,\n",
       "   'three': 3,\n",
       "   'four': [1, 2, 4, 5, 6, ['q', 'r'], 9, 17, 24]},\n",
       "  69: {'one': 1,\n",
       "   'two': 2,\n",
       "   'three': 3,\n",
       "   'four': [1, 2, 4, 5, 6, ['q', 'r'], 9, 17, 24]}},\n",
       " 'get_ipython': <bound method InteractiveShell.get_ipython of <ipykernel.zmqshell.ZMQInteractiveShell object at 0x108906090>>,\n",
       " 'exit': <IPython.core.autocall.ZMQExitAutocall at 0x10a1b4a10>,\n",
       " 'quit': <IPython.core.autocall.ZMQExitAutocall at 0x10a1b4a10>,\n",
       " '_': {'one': 1,\n",
       "  'two': 2,\n",
       "  'three': 3,\n",
       "  'four': [1, 2, 4, 5, 6, ['q', 'r'], 9, 17, 24]},\n",
       " '__': {'one': 1,\n",
       "  'two': 2,\n",
       "  'three': 3,\n",
       "  'four': [1, 2, 4, 5, 6, ['q', 'r'], 9, 17, 24]},\n",
       " '___': ['q', 6, 5, 2, 13, 10],\n",
       " 'sys': <module 'sys' (built-in)>,\n",
       " '_i': 'L=[2,3]\\nD',\n",
       " '_ii': \"# Use this cell  to play with dictionaries\\nD = {'one': 1, 'two': 2, 'three': 3, 'four': L}  # L is a list as defined above\\nD\",\n",
       " '_iii': 'L.extend([17, 24])\\nprint(L)',\n",
       " '_i1': 'a = 5 ',\n",
       " 'a': 3,\n",
       " '_i2': '# Use this cell to experiment typing commands. You can also run a ipython shell in a separate terminal\\nprint(\"Hello Sir\")',\n",
       " '_i3': '%history',\n",
       " '_i4': 'a = 3\\nprint(a)',\n",
       " '_i5': 'b = 3 \\nprint(a) \\nc= 4\\nc, b ',\n",
       " 'b': 3.0,\n",
       " 'c': 4,\n",
       " '_5': (4, 3),\n",
       " '_i6': 'A = \"Hello\"\\nprint(a, A)',\n",
       " 'A': 'Hello',\n",
       " '_i7': 'print(\"Type of a = \", type(a))\\nb = 3.\\nprint(\"Type of b is\", type(b))',\n",
       " '_i8': 'print(\"The value of variable a is\", a)',\n",
       " '_i9': \"x = 10.\\ny = 2\\nz = x / y\\nw = 500240.\\nprint('Result %.i' %y)\\nprint('Result %.3f' %z)\\nprint('Result %.3e' %w)\\nprint('Type of z is ', type(z))\",\n",
       " 'x': 10,\n",
       " 'y': 25,\n",
       " 'z': 5.0,\n",
       " 'w': 500240.0,\n",
       " '_i10': 'print(type(x), type(y), x)\\n# Try it out',\n",
       " '_i11': 'help(print)',\n",
       " '_i12': 'print()',\n",
       " '_i13': '!ls',\n",
       " '_exit_code': 0,\n",
       " '_i14': \"%run 'test.py'\\n# Try creating a file using a text editor (e.g. run nano or gedit in a terminal, or search for a an editor in a menu) \\n# and launch the editor from a terminal window or in a cell of a jupyter notebook (Do not forget the `!` in that case)\",\n",
       " '__nonzero__': <function IPython.core.interactiveshell.InteractiveShell.new_main_mod.<locals>.<lambda>>,\n",
       " '_i15': \"L=[1,2,3,4]\\nL2 = [1., L, 'hello world']\\nL2[2]\",\n",
       " 'L': [2, 3],\n",
       " 'L2': ['q', 6, 5, 2, 13, 10],\n",
       " '_15': 'hello world',\n",
       " '_i16': \"# use this cell to experiment with lists as described in the above examples, \\n# and experiment with the various ways to slice through a list as described above\\nL = ['P', 'y', 't', 'h', 'o', 'n']\\nfor ll in L:\\n    print(ll)\",\n",
       " 'll': 'n',\n",
       " '_i17': 'L[0:2]',\n",
       " '_17': ['P', 'y'],\n",
       " '_i18': 'L[0:2], L[-2::]',\n",
       " '_18': (['P', 'y'], ['o', 'n']),\n",
       " '_i19': 'L[0:2], L[-2::], L[-2,-1]',\n",
       " '_i20': 'L[0:2], L[-2::], L[-2:-1]',\n",
       " '_20': (['P', 'y'], ['o', 'n'], ['o']),\n",
       " '_i21': 'L[0:2], L[-2::], L[-2:-1], L[::0]',\n",
       " '_i22': 'L[0:2], L[-2::], L[-2:-1], L[::-1]',\n",
       " '_22': (['P', 'y'], ['o', 'n'], ['o'], ['n', 'o', 'h', 't', 'y', 'P']),\n",
       " '_i23': 'L[0:2], L[-2::], L[-2:-1], L[::-1], L[-2:]',\n",
       " '_23': (['P', 'y'],\n",
       "  ['o', 'n'],\n",
       "  ['o'],\n",
       "  ['n', 'o', 'h', 't', 'y', 'P'],\n",
       "  ['o', 'n']),\n",
       " '_i24': 'S = {1,1,2,4,3,5}',\n",
       " 'S': {1, 2, 3, 4, 5, 10, 19},\n",
       " '_i25': 'S = {1,1,2,4,3,5}\\nS',\n",
       " '_25': {1, 2, 3, 4, 5},\n",
       " '_i26': 'S[1:3]',\n",
       " '_i27': 'S[0]',\n",
       " '_i28': 'S = {1,2,5,2,1,3,19, 10, 4}\\nS',\n",
       " '_28': {1, 2, 3, 4, 5, 10, 19},\n",
       " '_i29': 'L = [1,2,3,4]  # this is a List\\nT = (1,2,3,4)  # this is a Tuple',\n",
       " 'T': (0, 1, 2, 3, 4),\n",
       " '_i30': 'len(L)',\n",
       " '_30': 4,\n",
       " '_i31': 'L',\n",
       " '_31': [1, 2, 3, 4],\n",
       " '_i32': \"L = ['P', 'y', 't', 'h', 'o', 'n']\\nlen(L)\",\n",
       " '_32': 6,\n",
       " '_i33': '# Create a list of length 5, and assign a value to item #2. Do the same with a tuple. What is the difference ? \\nL = [0,1,2,3,4]\\nT = [0,1,2,3,4]\\nL[1] = 9\\nT[1] = 9\\nL, T ',\n",
       " '_33': ([0, 9, 2, 3, 4], [0, 9, 2, 3, 4]),\n",
       " '_i34': '# Create a list of length 5, and assign a value to item #2. Do the same with a tuple. What is the difference ? \\nL = [0,1,2,3,4]\\nT = (0,1,2,3,4)\\nL[1] = 9\\nT[1] = 9\\nL, T ',\n",
       " '_i35': '# Experiment with list and tuple methods \\nprint(L)\\nL.append(5)\\nprint(L)',\n",
       " '_i36': \"L.insert(2, 'l')\\nL\",\n",
       " '_36': [0, 2, 3, 4, 5, 6, 7, 9],\n",
       " '_i37': 'L.pop(2)\\nL',\n",
       " '_37': [0, 2, 3, 4, 5, 6, 7, 9],\n",
       " '_i38': 'L.extend([6,7])\\nL',\n",
       " '_38': [0, 2, 3, 4, 5, 6, 7, 9],\n",
       " '_i39': 'L.extend(3,4)',\n",
       " '_i40': 'L.extend(3)\\nL',\n",
       " '_i41': 'T.extend([3])',\n",
       " '_i42': 'L+L',\n",
       " '_42': [0, 9, 2, 3, 4, 5, 6, 7, 0, 9, 2, 3, 4, 5, 6, 7],\n",
       " '_i43': '2*L',\n",
       " '_43': [0, 9, 2, 3, 4, 5, 6, 7, 0, 9, 2, 3, 4, 5, 6, 7],\n",
       " '_i44': 'L-L',\n",
       " '_i45': 'L+L',\n",
       " '_45': [0, 9, 2, 3, 4, 5, 6, 7, 0, 9, 2, 3, 4, 5, 6, 7],\n",
       " '_i46': '1.3*L',\n",
       " '_i47': '3.*L',\n",
       " '_i48': '3*L',\n",
       " '_48': [0,\n",
       "  9,\n",
       "  2,\n",
       "  3,\n",
       "  4,\n",
       "  5,\n",
       "  6,\n",
       "  7,\n",
       "  0,\n",
       "  9,\n",
       "  2,\n",
       "  3,\n",
       "  4,\n",
       "  5,\n",
       "  6,\n",
       "  7,\n",
       "  0,\n",
       "  9,\n",
       "  2,\n",
       "  3,\n",
       "  4,\n",
       "  5,\n",
       "  6,\n",
       "  7],\n",
       " '_i49': 'L.sort()',\n",
       " '_i50': 'L.sort()\\nL',\n",
       " '_50': [0, 2, 3, 4, 5, 6, 7, 9],\n",
       " '_i51': 'L2 = [10, 4, 5,6, 13, 2]\\nL2.sort()\\nL2',\n",
       " '_51': [2, 4, 5, 6, 10, 13],\n",
       " '_i52': \"L2 = [10, 'q', 5,6, 13, 2]\\nL2.sort()\\nL2\",\n",
       " '_i53': '# Create a list of 6 integers, remove the 3rd one. Add a list of 2 strings. \\n# Then use L.append(9) and L.extend([17, 24]) and compare the output at each step',\n",
       " '_i54': 'L2 = [10, 3., 5,6, 13, 2]\\nL2.sort()\\nL2',\n",
       " '_54': [2, 3.0, 5, 6, 10, 13],\n",
       " '_i55': 'L2 = [10, 3., 5,6, 13, 2]\\nL2.sort(key=2)\\nL2',\n",
       " '_i56': 'L2 = [10, 3., 5,6, 13, 2]\\nL2.sort(key=int)\\nL2',\n",
       " '_56': [2, 3.0, 5, 6, 10, 13],\n",
       " '_i57': 'L2 = [10, 3., 5,6, 13, 2]\\nL2.sort(key=str)\\nL2',\n",
       " '_57': [10, 13, 2, 3.0, 5, 6],\n",
       " '_i58': \"L2 = [10, 'q', 5,6, 13, 2]\\nL2.sort(key=str)\\nL2\",\n",
       " '_58': [10, 13, 2, 5, 6, 'q'],\n",
       " '_i59': '# Create a list of 6 integers, remove the 3rd one. Add a list of 2 strings. \\n# Then use L.append(9) and L.extend([17, 24]) and compare the output at each step',\n",
       " '_i60': \"L2 = [10, 'q', 5,6, 13, 2]\\nL2.sort(key=str, reverse=True)\\nL2\",\n",
       " '_60': ['q', 6, 5, 2, 13, 10],\n",
       " '_i61': \"# Create a list of 6 integers, remove the 3rd one. Add a list of 2 strings. \\n# Then use L.append(9) and L.extend([17, 24]) and compare the output at each step\\nL = [1,2,3,4,5,6]\\nL[2].pop()\\nL = L.append(['q', 'r'])\",\n",
       " '_i62': \"# Create a list of 6 integers, remove the 3rd one. Add a list of 2 strings. \\n# Then use L.append(9) and L.extend([17, 24]) and compare the output at each step\\nL = [1,2,3,4,5,6]\\nL.pop(2)\\nL = L.append(['q', 'r'])\",\n",
       " '_i63': \"# Create a list of 6 integers, remove the 3rd one. Add a list of 2 strings. \\n# Then use L.append(9) and L.extend([17, 24]) and compare the output at each step\\nL = [1,2,3,4,5,6]\\nL.pop(2)\\nL = L.append(['q', 'r'])\\nL\",\n",
       " '_i64': \"# Create a list of 6 integers, remove the 3rd one. Add a list of 2 strings. \\n# Then use L.append(9) and L.extend([17, 24]) and compare the output at each step\\nL = [1,2,3,4,5,6]\\nL.pop(2)\\nL = L.append(['q', 'r'])\\nprint(L)\",\n",
       " '_i65': \"# Create a list of 6 integers, remove the 3rd one. Add a list of 2 strings. \\n# Then use L.append(9) and L.extend([17, 24]) and compare the output at each step\\nL = [1,2,3,4,5,6]\\nL.pop(2)\\nL.append(['q', 'r'])\\nprint(L)\",\n",
       " '_i66': 'L.append(9)\\nprint(L)',\n",
       " '_i67': 'L.extend([17, 24])\\nprint(L)',\n",
       " '_i68': \"# Use this cell  to play with dictionaries\\nD = {'one': 1, 'two': 2, 'three': 3, 'four': L}  # L is a list as defined above\\nD\",\n",
       " 'D': {'one': 1,\n",
       "  'two': 2,\n",
       "  'three': 3,\n",
       "  'four': [1, 2, 4, 5, 6, ['q', 'r'], 9, 17, 24]},\n",
       " '_68': {'one': 1,\n",
       "  'two': 2,\n",
       "  'three': 3,\n",
       "  'four': [1, 2, 4, 5, 6, ['q', 'r'], 9, 17, 24]},\n",
       " '_i69': 'L=[2,3]\\nD',\n",
       " '_69': {'one': 1,\n",
       "  'two': 2,\n",
       "  'three': 3,\n",
       "  'four': [1, 2, 4, 5, 6, ['q', 'r'], 9, 17, 24]},\n",
       " '_i70': 'globals()'}"
      ]
     },
     "execution_count": 70,
     "metadata": {},
     "output_type": "execute_result"
    }
   ],
   "source": [
    "globals()"
   ]
  },
  {
   "cell_type": "markdown",
   "metadata": {
    "nbpresent": {
     "id": "86236cb9-0fa2-4526-a29c-ce7afaa18f61"
    }
   },
   "source": [
    "#### Exercises on data structure"
   ]
  },
  {
   "cell_type": "code",
   "execution_count": 82,
   "metadata": {
    "nbpresent": {
     "id": "e3bac3e2-e559-4844-a2db-4c1078696a63"
    }
   },
   "outputs": [
    {
     "name": "stdout",
     "output_type": "stream",
     "text": [
      "2.21\n"
     ]
    }
   ],
   "source": [
    "# (1) Define a variable x, give it a value and print its value on screen (How would you do to print it with 2 digits ?)\n",
    "x = 2.214\n",
    "print('%.2f'%x)"
   ]
  },
  {
   "cell_type": "code",
   "execution_count": 83,
   "metadata": {
    "nbpresent": {
     "id": "1d864973-3ba1-4de0-ada0-5a8f4b08f07e"
    }
   },
   "outputs": [
    {
     "data": {
      "text/plain": [
       "[1,\n",
       " 2,\n",
       " 'q',\n",
       " 3.0,\n",
       " {'one': 1,\n",
       "  'two': 2,\n",
       "  'three': 3,\n",
       "  'four': [1, 2, 4, 5, 6, ['q', 'r'], 9, 17, 24]}]"
      ]
     },
     "execution_count": 83,
     "metadata": {},
     "output_type": "execute_result"
    }
   ],
   "source": [
    "# (2) Can a list contain different types of objects / elements of different types ? Illustrate with an example \n",
    "L =[1,2,'q', 3., D]\n",
    "L"
   ]
  },
  {
   "cell_type": "code",
   "execution_count": 85,
   "metadata": {
    "nbpresent": {
     "id": "b8d1ea49-7f75-4cd7-8eef-6e545347953b"
    }
   },
   "outputs": [
    {
     "data": {
      "text/plain": [
       "(int, list)"
      ]
     },
     "execution_count": 85,
     "metadata": {},
     "output_type": "execute_result"
    }
   ],
   "source": [
    "# (3) Can a 'dictionary' contain elements of different types ? Illustrate with an example \n",
    "D = {'one': 1, 'two': 2, 'three': 3, 'four': L} \n",
    "type(D['one']), type(D['four'])"
   ]
  },
  {
   "cell_type": "code",
   "execution_count": 86,
   "metadata": {
    "nbpresent": {
     "id": "baf0f561-2bb8-43e3-8863-c141aeeae3a6"
    }
   },
   "outputs": [
    {
     "data": {
      "text/plain": [
       "[1, 2, 'q']"
      ]
     },
     "execution_count": 86,
     "metadata": {},
     "output_type": "execute_result"
    }
   ],
   "source": [
    "# (4) Can a 'tuple' contain elements of different types ? Illustrate with an example \n",
    "T = [1,2, 'q']\n",
    "T"
   ]
  },
  {
   "cell_type": "code",
   "execution_count": 90,
   "metadata": {
    "nbpresent": {
     "id": "a1ab4411-9563-49ba-8c9a-3b544c6c75d2"
    }
   },
   "outputs": [
    {
     "data": {
      "text/plain": [
       "['blue', 'red', 'green']"
      ]
     },
     "execution_count": 90,
     "metadata": {},
     "output_type": "execute_result"
    }
   ],
   "source": [
    "# (5) create a list of 3 color names and print it at the screen\n",
    "# (5b) insert a new color as 2nd list element\n",
    "Lc = ['blue', 'red', 'green']\n",
    "Lc"
   ]
  },
  {
   "cell_type": "code",
   "execution_count": 91,
   "metadata": {},
   "outputs": [
    {
     "data": {
      "text/plain": [
       "['blue', 'orange', 'red', 'green']"
      ]
     },
     "execution_count": 91,
     "metadata": {},
     "output_type": "execute_result"
    }
   ],
   "source": [
    "Lc.insert(1, 'orange')\n",
    "Lc"
   ]
  },
  {
   "cell_type": "code",
   "execution_count": 94,
   "metadata": {
    "nbpresent": {
     "id": "161294a5-fc64-4d55-aeea-b27ed3b27e6c"
    }
   },
   "outputs": [
    {
     "data": {
      "text/plain": [
       "[1, 2, 3, 4, 5, 6]"
      ]
     },
     "execution_count": 94,
     "metadata": {},
     "output_type": "execute_result"
    }
   ],
   "source": [
    "# (6) Create two lists L1 and L2 containing 3 elements each. \"Append\" L1 to L2 and save the results in a third list L3 of 6 elements (i.e. containing elements of L1 and L2)\n",
    "L1 = [1,2,3]\n",
    "L2 = [4,5,6]\n",
    "L1.extend(L2)\n",
    "L3 = L1.copy()\n",
    "L3"
   ]
  },
  {
   "cell_type": "code",
   "execution_count": 197,
   "metadata": {},
   "outputs": [
    {
     "data": {
      "text/plain": [
       "1"
      ]
     },
     "execution_count": 197,
     "metadata": {},
     "output_type": "execute_result"
    }
   ],
   "source": [
    "D = {'one': 1, 'two': 2, 'three': 3} \n",
    "D['one']"
   ]
  },
  {
   "cell_type": "code",
   "execution_count": 198,
   "metadata": {},
   "outputs": [
    {
     "data": {
      "text/plain": [
       "{'one': 1, 'two': 2, 'three': 3}"
      ]
     },
     "execution_count": 198,
     "metadata": {},
     "output_type": "execute_result"
    }
   ],
   "source": [
    "D"
   ]
  },
  {
   "cell_type": "code",
   "execution_count": 203,
   "metadata": {},
   "outputs": [
    {
     "name": "stdout",
     "output_type": "stream",
     "text": [
      "one 1\n",
      "two 2\n",
      "three 3\n"
     ]
    }
   ],
   "source": [
    "for dd, vals in D.items():\n",
    "    print(dd, vals)"
   ]
  },
  {
   "cell_type": "markdown",
   "metadata": {
    "nbpresent": {
     "id": "274f94a8-afc2-409f-b222-808f2dea8d9e"
    }
   },
   "source": [
    "### 1.6 Functions:    <a class=\"anchor\" id=\"IIIf\"></a>\n",
    "\n",
    "We have seen the first bricks of python coding, but once it is necessary to automate some task, it becomes convenient to define **functions**. A function is a kind of \"mini-script\" that can accept (optionally) one or several parameters. Here is how you define a function:\n",
    "\n",
    "``` python\n",
    "def moffat1D(r, I, alpha, beta):\n",
    "    arg = (r / alpha)**2 + 1\n",
    "    y = I / arg**(beta)\n",
    "    return y\n",
    "```\n",
    "\n",
    "This function returns the value of a Moffat profile/function at position `r`:   \n",
    "$ y = I_0  \\left( \\left ( \\frac{r}{\\alpha} \\right )^2 +1 \\right)^{-\\beta}$\n",
    "\n",
    "This Moffat profile is characterized by the parameters `I`, a normalization factor, `alpha`, the width of the moffat, or rather a scale parameter, and `beta`, a parameter governing the shape of the profile. When $\\beta = 1$, the Moffat profile is identical to a Lorentz \"profile\".    \n",
    "\n",
    "The characteristics of functions are:\n",
    "- They start with the `def` keyword, followed by the function name\n",
    "- The argument of the function is in parentheses \n",
    "- After the parentheses, starts a colon `:` which marks the beginning of the code block corresponding to your operation. \n",
    "- The code block associated with the function is **indentated** w.r.t. the main text. This is a *very important* property the python language: indentation (with tabulation or 4-spaces -4-spaces are officially recommended by many python-friendly editors convert your tab into space within your code.) are part of the code, they help legibility BUT not only. They tell the code that something special is happening. \n",
    "- In the above code, a **local variable** (you won't have access to it outside your function) `arg` has been defined\n",
    "- The function ends when new code is NOT indented or when a `return` statement is encountered.\n",
    "- There are some rules regarding function arguments:\n",
    "    * First argument(s) of a function should be mandatory arguments, with no default value. \n",
    "    * Next argument(s) are optional arguments for which you give default values\n",
    "    * You cannot put an argument without default value *after* one with a default value. \n",
    "    * Arguments without default value are positional ones, so if you define `def f(a):`, you do no have to specify the keyword of the function when giving it a value. i.e. `f(0)` will evaluate the function at 0, but `f(a=0)` will also work. On the other hand `f(0, a=0)` will return an Error !\n",
    "    \n",
    "\n",
    "**Note:**\n",
    "- `Python` has many built-in functions (some are called methods when they are defined in some objects-classes). For example, the function `range(5)` returns a sequential list of integers.\n",
    "- Python 3 disallows mixing the use of tabs and spaces for indentation. Python 2 code indented with a mixture of tabs and spaces should be converted to using spaces exclusively. \n",
    "- When a final formal parameter of the form `**name` (often `**kwargs` is used) is present, it receives a dictionary containing all keyword arguments except for those corresponding to a formal parameter. This may be combined with a formal parameter of the form `*name` (`*args`) which receives a tuple containing the positional arguments beyond the formal parameter list. (`*name` must occur before `**name`.) You may have a look [here](https://pythontips.com/2013/08/04/args-and-kwargs-in-python-explained/) for more detailed explanations "
   ]
  },
  {
   "cell_type": "code",
   "execution_count": 95,
   "metadata": {
    "nbpresent": {
     "id": "8a544fb9-7caf-4a0b-8c03-ee5a99827494"
    }
   },
   "outputs": [
    {
     "name": "stdout",
     "output_type": "stream",
     "text": [
      "Help on function moffat1D in module __main__:\n",
      "\n",
      "moffat1D(r, I, alpha=3, beta=None)\n",
      "    I = Intensity at origin\n",
      "\n"
     ]
    }
   ],
   "source": [
    "def moffat1D(r, I, alpha=3, beta=None):\n",
    "    \"\"\"\n",
    "    I = Intensity at origin \n",
    "    \"\"\"\n",
    "    arg = (r / alpha)**2 + 1\n",
    "    y = I / arg**(beta)\n",
    "    return y\n",
    "help(moffat1D)\n",
    "# moffat1D(2, 2, 3, 1)\n"
   ]
  },
  {
   "cell_type": "code",
   "execution_count": 98,
   "metadata": {},
   "outputs": [
    {
     "data": {
      "text/plain": [
       "0.6406576735413504"
      ]
     },
     "execution_count": 98,
     "metadata": {},
     "output_type": "execute_result"
    }
   ],
   "source": [
    "moffat1D(0.2, 1, alpha=0.5, beta=3.)"
   ]
  },
  {
   "cell_type": "code",
   "execution_count": 110,
   "metadata": {},
   "outputs": [
    {
     "name": "stdout",
     "output_type": "stream",
     "text": [
      "Using matplotlib backend: MacOSX\n"
     ]
    }
   ],
   "source": [
    "%matplotlib\n",
    "from matplotlib import pyplot as plt "
   ]
  },
  {
   "cell_type": "code",
   "execution_count": 115,
   "metadata": {},
   "outputs": [
    {
     "data": {
      "text/plain": [
       "[<matplotlib.lines.Line2D at 0x12206fa110>]"
      ]
     },
     "execution_count": 115,
     "metadata": {},
     "output_type": "execute_result"
    }
   ],
   "source": [
    "mIl = []\n",
    "for i in range(0, 10):\n",
    "    r = i * 0.1\n",
    "    mI = moffat1D(r, 1, alpha=0.5, beta=3.)\n",
    "    mIl.append(mI)\n",
    "r = [i * 0.1 for i in range(0,10) ]\n",
    "plt.plot(r, mIl)"
   ]
  },
  {
   "cell_type": "markdown",
   "metadata": {},
   "source": [
    "#### Exercise on functions"
   ]
  },
  {
   "cell_type": "code",
   "execution_count": 96,
   "metadata": {
    "nbpresent": {
     "id": "9b6d5232-0a9d-41ba-8b8a-9339be5c9c9f"
    }
   },
   "outputs": [],
   "source": [
    "# Define a function that converts an angle given in degrees into radians\n",
    "def deg2radian(theta):\n",
    "    pi = 3.14156\n",
    "    theta_rad = 2. * pi * theta / 360.  \n",
    "    return theta_rad  "
   ]
  },
  {
   "cell_type": "code",
   "execution_count": 97,
   "metadata": {},
   "outputs": [
    {
     "data": {
      "text/plain": [
       "3.14156"
      ]
     },
     "execution_count": 97,
     "metadata": {},
     "output_type": "execute_result"
    }
   ],
   "source": [
    "deg2radian(180)"
   ]
  },
  {
   "cell_type": "markdown",
   "metadata": {
    "nbpresent": {
     "id": "ce10df8b-d67f-4738-86dd-c1ac2b41961f"
    }
   },
   "source": [
    "#### 1.6.1 Functions and docstrings \n",
    "\n",
    "A **very useful** functionality of python is the ability to write, together with your function a simple `help` / basic documentation. For this, you simply have to start the \"help\"-block with triple-quotes (i.e. `\"\"\"`) and end it similarly (This `help()` block needs to be indentated). In python jargon, this help block is effectively called a `Docstring`. This `Docstring` can be called in interactive mode (`help(myfunction)`) will return the information present in that Doctring. *Within Jupyter notebooks*, you can use the combination of keys `Shift + Tab` when your cursor is positioned just after the opening parenthese, to see the help in a small *pop-up window* (repeat `Shift+Tab` for different options). Because `Docstring` are used to design the `help`, it means that it is better to follow some rules when writing them. Unfortunately, those rules are not universal. I like the following structure (that is also compliant with Sphinx Documentation tool): \n",
    "``` python \n",
    "\"\"\"\n",
    "My description of a of very exhautive\n",
    "format docstring.\n",
    "\n",
    "Parameters\n",
    "----------\n",
    "first : array_like\n",
    "    the 1st param name `first`\n",
    "second :\n",
    "    the 2nd param\n",
    "third : {'value', 'other'}, optional\n",
    "    the 3rd param, by default 'value'\n",
    "\n",
    "Returns\n",
    "-------\n",
    "string\n",
    "    a value in a string\n",
    "\n",
    "Raises\n",
    "------\n",
    "KeyError\n",
    "    when a key error\n",
    "OtherError\n",
    "    when an other error\n",
    "\"\"\"\n",
    "```\n",
    "\n",
    "Applied to the `moffat1D()` this would be:\n",
    "\n",
    "``` python\n",
    "def moffat1D(r, I, alpha, beta):\n",
    "    \"\"\"\n",
    "    Calculates the value of a Moffat profile \n",
    "    at position r. \n",
    "    y = I * (1+(r/alpha)^2)^(-beta)\n",
    "    \n",
    "    Parameters:\n",
    "    -----------\n",
    "    r : float\n",
    "        Position at which function is evaluated\n",
    "    I : float\n",
    "        Intensity\n",
    "    alpha: float\n",
    "        alpha param\n",
    "    beta: float\n",
    "        beta param\n",
    "    Returns:\n",
    "    --------\n",
    "    float\n",
    "        The value of the moffat at position r\n",
    "    \"\"\"\n",
    "    arg = (r / alpha)**2 + 1\n",
    "    y = I / arg**(beta)\n",
    "    return y\n",
    "```\n",
    "\n",
    "\n",
    "**Notes:**\n",
    "- You can read the [Docstring convention](https://www.python.org/dev/peps/pep-0257/) that lists recommendations in writing the help of your function. The one described above, the one used by the numpy programmers, is explained on the [numpy git](https://github.com/numpy/numpy/blob/master/doc/HOWTO_DOCUMENT.rst.txt#docstring-standard) \n",
    "- In the \"programming\" section of this class, we *learn to drive* (python) but we won't spend too much time on the *traffic regulation* (i.e. how to drive well and how to drive together with other people -in the same code or not-). Therefore, the [Style guide for Python code](https://www.python.org/dev/peps/pep-0008/) is probably a good way to get recommendations on *good practices* for programming in `Python`. We'll try to get used to some of them, but we cannot afford spending too much time on this topic. As you may be encouraged to release your code with your scientific results, or may want to release a public code in the future, I encourage you to read such a document before doing any serious programming. (See at the end of this notebook for a summary)"
   ]
  },
  {
   "cell_type": "code",
   "execution_count": 116,
   "metadata": {
    "nbpresent": {
     "id": "4fcc907d-ce41-4551-aae6-be444d0adaee"
    }
   },
   "outputs": [],
   "source": [
    "# Add a Docstring to the function you have defined above to create degrees to Radians. \n",
    "# Visualise the help() you have created using help() \n",
    "def deg2radian(theta):\n",
    "    '''\n",
    "    Description: convert Deg to radians\n",
    "    \n",
    "    Parameters:\n",
    "    \n",
    "    theta: float\n",
    "        Input angle in degrees \n",
    "    \n",
    "    Returns: \n",
    "    float\n",
    "        The value of the angle in radians \n",
    "    \n",
    "    '''\n",
    "    pi = 3.14156\n",
    "    theta_rad = 2. * pi * theta / 360.  \n",
    "    return theta_rad  "
   ]
  },
  {
   "cell_type": "code",
   "execution_count": 117,
   "metadata": {},
   "outputs": [
    {
     "name": "stdout",
     "output_type": "stream",
     "text": [
      "Help on function deg2radian in module __main__:\n",
      "\n",
      "deg2radian(theta)\n",
      "    Description: convert Deg to radians\n",
      "    \n",
      "    Parameters:\n",
      "    \n",
      "    theta: float\n",
      "        Input angle in degrees \n",
      "    \n",
      "    Returns: \n",
      "    float\n",
      "        The value of the angle in radians\n",
      "\n"
     ]
    }
   ],
   "source": [
    "help(deg2radian)"
   ]
  },
  {
   "cell_type": "code",
   "execution_count": 138,
   "metadata": {},
   "outputs": [],
   "source": [
    "def test(a, b):\n",
    "    return a, b\n",
    "c = test(2,3)\n",
    "c[0] = 1"
   ]
  },
  {
   "cell_type": "markdown",
   "metadata": {},
   "source": [
    "#### 1.6.2 Args and kwargs\n",
    "\n",
    "Sometimes, when you look at a function definition in Python, you might see that it takes two strange arguments: `*args` and `**kwargs`. What is this ? `*args` and `**kwargs` allow you to pass multiple arguments or keyword arguments to a function. `*args` is a way to accept positional arguments to a function without defining them.     \n",
    "Example: \n",
    "``` python\n",
    "def line(x, a, b):\n",
    "    y = a * x + b \n",
    "    return y\n",
    "```\n",
    "instead, you can do: \n",
    "``` python\n",
    "def line(x, *args):\n",
    "    a, b = args \n",
    "    y = a * x + b \n",
    "    return y\n",
    "```\n",
    "\n",
    "`*` is an unpacking operator. Note that the (iterable) object you build with this operator (i.e.`*args` is a new object) is a tuple, not a list. This also means that you can access arguments of a function using `*args` instead of explicitly listing your parameters but remember that order is crucial !  \n",
    "\n",
    "`**kwargs` works just like `*args`, but instead of accepting *positional arguments* it accepts *keyword* arguments. What is important here is the unpacking operator `**`. You can see it as unpacking twice the entries: first creating a tuple of names, second a tuple of values, and associating them by pairs. This is basically what does a dictionary, and the object created by the `**` operator is effectively a dictionary.\n",
    "\n",
    "``` python\n",
    "def line(**kwargs):\n",
    "    y = a * x + b \n",
    "    return y\n",
    "```\n",
    "\n",
    "Finally, note that it is not necessary to write `*args` or `**kwargs`. Only the `*` (aesteric) is necessary. You could have also written `*var` and `**var`. This also means that if you have, for your function, an explicit definition of parameters, you can also access them using the `*` or `**` operators. \n",
    "\n",
    "``` python\n",
    "def line(x, a, b):\n",
    "    y = a * x + b \n",
    "    return y\n",
    "params=(a, b)\n",
    "y = line(x, *params)\n",
    "```"
   ]
  },
  {
   "cell_type": "code",
   "execution_count": 119,
   "metadata": {},
   "outputs": [],
   "source": [
    "import numpy as np "
   ]
  },
  {
   "cell_type": "code",
   "execution_count": 123,
   "metadata": {},
   "outputs": [
    {
     "data": {
      "text/plain": [
       "1.5"
      ]
     },
     "execution_count": 123,
     "metadata": {},
     "output_type": "execute_result"
    }
   ],
   "source": [
    "def line(x, a, b):\n",
    "    y = a * x + b \n",
    "    return y\n",
    "\n",
    "#x = np.arange(5)\n",
    "#y = line(x, 0.5, 1)\n",
    "#y\n",
    "x = 1 \n",
    "y = line(x, 0.5, 1)\n",
    "y"
   ]
  },
  {
   "cell_type": "code",
   "execution_count": 124,
   "metadata": {},
   "outputs": [
    {
     "data": {
      "text/plain": [
       "1.5"
      ]
     },
     "execution_count": 124,
     "metadata": {},
     "output_type": "execute_result"
    }
   ],
   "source": [
    "def line2(x, *args):\n",
    "    a, b = args \n",
    "    y = a * x + b \n",
    "    return y\n",
    "\n",
    "y = line2(x, 0.5, 1)\n",
    "y"
   ]
  },
  {
   "cell_type": "code",
   "execution_count": 125,
   "metadata": {},
   "outputs": [
    {
     "data": {
      "text/plain": [
       "1.5"
      ]
     },
     "execution_count": 125,
     "metadata": {},
     "output_type": "execute_result"
    }
   ],
   "source": [
    "var = (x, 0.5, 1)\n",
    "y = line(*var)\n",
    "y"
   ]
  },
  {
   "cell_type": "code",
   "execution_count": 126,
   "metadata": {},
   "outputs": [
    {
     "data": {
      "text/plain": [
       "1.5"
      ]
     },
     "execution_count": 126,
     "metadata": {},
     "output_type": "execute_result"
    }
   ],
   "source": [
    "params = [0.5, 1]\n",
    "y = line(x, *params)\n",
    "y"
   ]
  },
  {
   "cell_type": "code",
   "execution_count": 178,
   "metadata": {},
   "outputs": [
    {
     "data": {
      "text/plain": [
       "1.5"
      ]
     },
     "execution_count": 178,
     "metadata": {},
     "output_type": "execute_result"
    }
   ],
   "source": [
    "a,b,c = 1.,2.,3.\n",
    "def line3(**kwargs):\n",
    "    y = kwargs.pop('a') * kwargs.pop('x') + kwargs.pop('b') \n",
    "    return y\n",
    "kw = {'a':0.5, 'b':1, 'x':1}\n",
    "line3(**kw)"
   ]
  },
  {
   "cell_type": "code",
   "execution_count": 149,
   "metadata": {},
   "outputs": [
    {
     "data": {
      "text/plain": [
       "3.0"
      ]
     },
     "execution_count": 149,
     "metadata": {},
     "output_type": "execute_result"
    }
   ],
   "source": [
    "kw2 = {'w':0.5, 'b':1, 'x':x}\n",
    "line3(**kw2)"
   ]
  },
  {
   "cell_type": "code",
   "execution_count": 191,
   "metadata": {},
   "outputs": [
    {
     "data": {
      "text/plain": [
       "5.0"
      ]
     },
     "execution_count": 191,
     "metadata": {},
     "output_type": "execute_result"
    }
   ],
   "source": [
    "def line3(qq, xx, bb):\n",
    "    y = qq * xx + bb \n",
    "    return y\n",
    "kw = {'xx':1, 'bb':4}\n",
    "kw2 = {'qq':0.5, 'bb':4}\n",
    "line3(xx = 2.0, **kw2)"
   ]
  },
  {
   "cell_type": "code",
   "execution_count": 169,
   "metadata": {},
   "outputs": [],
   "source": [
    "def line3(**kwargs):\n",
    "    print('a = , ', kwargs.pop('a'), type(kwargs.pop('a')))\n",
    "    return"
   ]
  },
  {
   "cell_type": "code",
   "execution_count": 170,
   "metadata": {},
   "outputs": [
    {
     "ename": "KeyError",
     "evalue": "'a'",
     "output_type": "error",
     "traceback": [
      "\u001b[0;31m---------------------------------------------------------------------------\u001b[0m",
      "\u001b[0;31mKeyError\u001b[0m                                  Traceback (most recent call last)",
      "\u001b[0;32m<ipython-input-170-ecaf645f11d0>\u001b[0m in \u001b[0;36m<module>\u001b[0;34m()\u001b[0m\n\u001b[0;32m----> 1\u001b[0;31m \u001b[0mline3\u001b[0m\u001b[0;34m(\u001b[0m\u001b[0;34m**\u001b[0m\u001b[0mkw\u001b[0m\u001b[0;34m)\u001b[0m\u001b[0;34m\u001b[0m\u001b[0;34m\u001b[0m\u001b[0m\n\u001b[0m",
      "\u001b[0;32m<ipython-input-169-2a377633b43b>\u001b[0m in \u001b[0;36mline3\u001b[0;34m(**kwargs)\u001b[0m\n\u001b[1;32m      1\u001b[0m \u001b[0;32mdef\u001b[0m \u001b[0mline3\u001b[0m\u001b[0;34m(\u001b[0m\u001b[0;34m**\u001b[0m\u001b[0mkwargs\u001b[0m\u001b[0;34m)\u001b[0m\u001b[0;34m:\u001b[0m\u001b[0;34m\u001b[0m\u001b[0;34m\u001b[0m\u001b[0m\n\u001b[0;32m----> 2\u001b[0;31m     \u001b[0mprint\u001b[0m\u001b[0;34m(\u001b[0m\u001b[0;34m'a = , '\u001b[0m\u001b[0;34m,\u001b[0m \u001b[0mkwargs\u001b[0m\u001b[0;34m.\u001b[0m\u001b[0mpop\u001b[0m\u001b[0;34m(\u001b[0m\u001b[0;34m'a'\u001b[0m\u001b[0;34m)\u001b[0m\u001b[0;34m,\u001b[0m \u001b[0mtype\u001b[0m\u001b[0;34m(\u001b[0m\u001b[0mkwargs\u001b[0m\u001b[0;34m.\u001b[0m\u001b[0mpop\u001b[0m\u001b[0;34m(\u001b[0m\u001b[0;34m'a'\u001b[0m\u001b[0;34m)\u001b[0m\u001b[0;34m)\u001b[0m\u001b[0;34m)\u001b[0m\u001b[0;34m\u001b[0m\u001b[0;34m\u001b[0m\u001b[0m\n\u001b[0m\u001b[1;32m      3\u001b[0m     \u001b[0;32mreturn\u001b[0m\u001b[0;34m\u001b[0m\u001b[0;34m\u001b[0m\u001b[0m\n",
      "\u001b[0;31mKeyError\u001b[0m: 'a'"
     ]
    }
   ],
   "source": [
    "line3(**kw)"
   ]
  },
  {
   "cell_type": "code",
   "execution_count": 175,
   "metadata": {},
   "outputs": [
    {
     "data": {
      "text/plain": [
       "1"
      ]
     },
     "execution_count": 175,
     "metadata": {},
     "output_type": "execute_result"
    }
   ],
   "source": [
    "kw.pop('x')"
   ]
  },
  {
   "cell_type": "markdown",
   "metadata": {
    "nbpresent": {
     "id": "169fb3c0-9b00-4580-b378-6ff95dc3cb24"
    }
   },
   "source": [
    "### 1.7 Control flow statements:     <a class=\"anchor\" id=\"IIIg\"></a>\n",
    "From http://www.ster.kuleuven.be/~pieterd/python/html/pure_python/control_flow.html\n",
    "\n",
    "#### 1.7.1 if statements\n",
    "\n",
    "The basic syntax for an if-statement is the following:\n",
    "``` python \n",
    "if condition:\n",
    "    # do something\n",
    "elif condition:\n",
    "    # do something else\n",
    "else:\n",
    "    # do yet something else\n",
    "```\n",
    "\n",
    "Notice that there is no statement to end the `if` statement. Beware of the presence of a colon (:) after each control flow statement. Python relies on indentation and colons to determine whether it is in a specific block of code. For example, in the following example:\n",
    "\n",
    "``` python \n",
    "if a == 1:\n",
    "    print(\"a is 1, changing to 2\")\n",
    "    a = 2\n",
    "print(\"finished\")\n",
    "```\n",
    "\n",
    "The first print statement, and the `a = 2` statement only get executed if a is 1. On the other hand, `print(\"finished\")` gets executed regardless, once Python exits the if statement.\n",
    "\n",
    "The conditions in the statements can be anything that returns a boolean value. For example, `a == 1`, `b != 4`, and `c <= 5` are valid conditions because they return either `True` or `False` depending on whether the statements are true or not. Standard comparisons can be used (`==` for equal, `!=` for not equal, `<=` for less or equal, `>=` for greater or equal, `<` for less than, and `>` for greater than), as well as logical operators (`and`, `or`, `not`). Parentheses can be used to isolate different parts of conditions, to make clear in what order the comparisons should be executed, for example:\n",
    "\n",
    "``` python\n",
    "if (a == 1 and b <= 3) or c > 3:\n",
    "    # do something\n",
    "```\n",
    "\n",
    "More generally, any function or expression that ultimately returns `True` or `False` can be used.\n",
    "\n",
    "Along with comparisons, another commonly-used operator is `in`. This is used to test whether an item is contained in any collection:\n",
    "\n",
    "``` python\n",
    "b = [1, 2, 3]   \n",
    "2 in b   \n",
    "    Out: True   \n",
    "5 in b   \n",
    "    Out: False\n",
    "```\n",
    "\n",
    "If `b` is a dictionary , this tests that the item is a key of `b`."
   ]
  },
  {
   "cell_type": "code",
   "execution_count": 129,
   "metadata": {},
   "outputs": [
    {
     "name": "stdout",
     "output_type": "stream",
     "text": [
      "finished\n",
      "10\n"
     ]
    }
   ],
   "source": [
    "if a == 1:\n",
    "    print(\"a is 1, changing to 2\")\n",
    "    a = 2\n",
    "print(\"finished\")\n",
    "print(a)"
   ]
  },
  {
   "cell_type": "code",
   "execution_count": 130,
   "metadata": {},
   "outputs": [
    {
     "data": {
      "text/plain": [
       "False"
      ]
     },
     "execution_count": 130,
     "metadata": {},
     "output_type": "execute_result"
    }
   ],
   "source": [
    "a == 1 "
   ]
  },
  {
   "cell_type": "code",
   "execution_count": 133,
   "metadata": {},
   "outputs": [
    {
     "name": "stdout",
     "output_type": "stream",
     "text": [
      "a is 1, changing to 2\n",
      "finished\n",
      "2\n"
     ]
    }
   ],
   "source": [
    "a = 1\n",
    "if a == 1:\n",
    "    print(\"a is 1, changing to 2\")\n",
    "    a = 2\n",
    "print(\"finished\")\n",
    "print(a)"
   ]
  },
  {
   "cell_type": "code",
   "execution_count": 139,
   "metadata": {
    "nbpresent": {
     "id": "501e44b0-1984-40ed-989a-c531f1cba6cd"
    }
   },
   "outputs": [
    {
     "data": {
      "text/plain": [
       "True"
      ]
     },
     "execution_count": 139,
     "metadata": {},
     "output_type": "execute_result"
    }
   ],
   "source": [
    "# Try value in b with different kind of containers (i.e. list, set, tuple, dictionnary)\n",
    "b = [1, 2, 3]\n",
    "2 in b"
   ]
  },
  {
   "cell_type": "code",
   "execution_count": 140,
   "metadata": {},
   "outputs": [
    {
     "data": {
      "text/plain": [
       "True"
      ]
     },
     "execution_count": 140,
     "metadata": {},
     "output_type": "execute_result"
    }
   ],
   "source": [
    "b = {1,2,3}\n",
    "2 in b"
   ]
  },
  {
   "cell_type": "code",
   "execution_count": 141,
   "metadata": {},
   "outputs": [
    {
     "data": {
      "text/plain": [
       "True"
      ]
     },
     "execution_count": 141,
     "metadata": {},
     "output_type": "execute_result"
    }
   ],
   "source": [
    "b = (1,2,3)\n",
    "2 in b"
   ]
  },
  {
   "cell_type": "code",
   "execution_count": 143,
   "metadata": {},
   "outputs": [
    {
     "data": {
      "text/plain": [
       "False"
      ]
     },
     "execution_count": 143,
     "metadata": {},
     "output_type": "execute_result"
    }
   ],
   "source": [
    "b = {'one':1,'two':2, 'three':3}\n",
    "2 in b "
   ]
  },
  {
   "cell_type": "code",
   "execution_count": 144,
   "metadata": {},
   "outputs": [
    {
     "data": {
      "text/plain": [
       "True"
      ]
     },
     "execution_count": 144,
     "metadata": {},
     "output_type": "execute_result"
    }
   ],
   "source": [
    "'two' in b"
   ]
  },
  {
   "cell_type": "markdown",
   "metadata": {
    "nbpresent": {
     "id": "6d2bc1b8-ae18-4014-bc4e-b2cd7c08e74f"
    }
   },
   "source": [
    "#### 1.7.2 `for` loops\n",
    "\n",
    "The most common type of loop is the `for` loop. In its most basic form, its synthax is straightforward:\n",
    "\n",
    "``` python\n",
    "for value in iterable:\n",
    "    # do things\n",
    "```\n",
    "\n",
    "The iterable can be any `Python` object that can be iterated over. This includes `lists`, `tuples`, `dictionaries`, `strings`. ``"
   ]
  },
  {
   "cell_type": "code",
   "execution_count": 211,
   "metadata": {
    "nbpresent": {
     "id": "4066fc04-46eb-44a8-acc2-f4fe92fe5f1b"
    }
   },
   "outputs": [
    {
     "data": {
      "text/plain": [
       "[0, 1, 2, 3, 4, 5, 6, 7, 8, 9]"
      ]
     },
     "execution_count": 211,
     "metadata": {},
     "output_type": "execute_result"
    }
   ],
   "source": [
    "# Try this out\n",
    "list(range(10))"
   ]
  },
  {
   "cell_type": "markdown",
   "metadata": {
    "nbpresent": {
     "id": "0add590a-451e-430f-b226-a0e32781a476"
    }
   },
   "source": [
    "A common type of for loop is one where the value should go between two integers with a specific set size. To do this, we can use the `range` function. If given a single value, it will give a list ranging from 0 to the value minus 1:\n",
    "\n",
    "``` python\n",
    "range(10)\n",
    "    Out: [0, 1, 2, 3, 4, 5, 6, 7, 8, 9]\n",
    "range(3, 12)   # 3 and 12 are the starting and one plus the ending value\n",
    "    Out: [3, 4, 5, 6, 7, 8, 9, 10, 11]\n",
    "range(2, 20, 2)  # the third number, if specified, is taken to be the step size\n",
    "    Out: [2, 4, 6, 8, 10, 12, 14, 16, 18]\n",
    "``` \n",
    "\n",
    "The range function can be used as the iterable in a for loop."
   ]
  },
  {
   "cell_type": "code",
   "execution_count": null,
   "metadata": {
    "nbpresent": {
     "id": "d65f263a-6449-48a5-9177-d3f85095e3f7"
    }
   },
   "outputs": [],
   "source": [
    "# Use for loop to print at the screen the elements of a list that contains both integers and strings. \n",
    "# Try to do it using range and try again without looping over the indices / using range"
   ]
  },
  {
   "cell_type": "markdown",
   "metadata": {
    "nbpresent": {
     "id": "9aac2ba1-8279-4d0c-986b-311a08e1dc2e"
    }
   },
   "source": [
    "To iterate over elements of a list and also get in return the indices of these elements in the list, you may use `enumerate`.\n",
    "``` python\n",
    "for i, item in enumerate(L): \n",
    "    print('i=', i, ' : L = ', item)\n",
    "```"
   ]
  },
  {
   "cell_type": "code",
   "execution_count": null,
   "metadata": {
    "nbpresent": {
     "id": "cbb5f8c2-e6fd-4a3b-8247-3c9cc189d5a3"
    }
   },
   "outputs": [],
   "source": []
  },
  {
   "cell_type": "markdown",
   "metadata": {
    "nbpresent": {
     "id": "4e1b81d2-1d3f-4072-8254-830bcc573fbd"
    }
   },
   "source": [
    "You can also iterate over elements of 2 lists (of the same length) in parallel using `zip()`\n",
    "``` Python\n",
    "L1, L2 = range(4), range(10,14)\n",
    "for l1, l2 in zip(L1, L2): \n",
    "    print 'l1=', l1, 'l2=', l2\n",
    "```"
   ]
  },
  {
   "cell_type": "code",
   "execution_count": 212,
   "metadata": {
    "nbpresent": {
     "id": "88592ec2-76ee-48f5-879a-e1610ceb0e60"
    }
   },
   "outputs": [
    {
     "data": {
      "text/plain": [
       "False"
      ]
     },
     "execution_count": 212,
     "metadata": {},
     "output_type": "execute_result"
    }
   ],
   "source": [
    "bool(0)"
   ]
  },
  {
   "cell_type": "code",
   "execution_count": 213,
   "metadata": {},
   "outputs": [
    {
     "data": {
      "text/plain": [
       "True"
      ]
     },
     "execution_count": 213,
     "metadata": {},
     "output_type": "execute_result"
    }
   ],
   "source": [
    "bool(1)"
   ]
  },
  {
   "cell_type": "code",
   "execution_count": 214,
   "metadata": {},
   "outputs": [
    {
     "data": {
      "text/plain": [
       "True"
      ]
     },
     "execution_count": 214,
     "metadata": {},
     "output_type": "execute_result"
    }
   ],
   "source": [
    "bool(2)"
   ]
  },
  {
   "cell_type": "code",
   "execution_count": 209,
   "metadata": {},
   "outputs": [
    {
     "name": "stdout",
     "output_type": "stream",
     "text": [
      "one 1\n",
      "two 2\n",
      "three 3\n"
     ]
    }
   ],
   "source": [
    "for d, values in D.items(): \n",
    "    print(d, values)"
   ]
  },
  {
   "cell_type": "markdown",
   "metadata": {
    "nbpresent": {
     "id": "03749de4-f072-4976-9d0e-d5118c17adb9"
    }
   },
   "source": [
    "#### 1.7.3 `while` loops\n",
    "\n",
    "Python also provides a `while` loop which is similar to a for loop, but where the number of iterations is defined by a condition rather than an iterator:\n",
    "\n",
    "``` python \n",
    "a = 0\n",
    "while a < 10:   # a < 10 is the condition\n",
    "    print(a)    # This line is the first \"looping block\n",
    "    a += 1      # This line is the second \"looping block\"\n",
    "\n",
    "```"
   ]
  },
  {
   "cell_type": "code",
   "execution_count": 215,
   "metadata": {
    "nbpresent": {
     "id": "883e85c2-a9e4-4bea-a749-4e5fd5eb86be"
    }
   },
   "outputs": [
    {
     "name": "stdout",
     "output_type": "stream",
     "text": [
      "0\n",
      "1\n",
      "2\n",
      "3\n",
      "4\n",
      "5\n",
      "6\n",
      "7\n",
      "8\n",
      "9\n"
     ]
    }
   ],
   "source": [
    "# Visualize the output of the above code\n",
    "a = 0\n",
    "while a < 10:   # a < 10 is the condition\n",
    "    print(a)    # This line is the first \"looping block\n",
    "    a += 1      # This line is the second \"looping block\"\n"
   ]
  },
  {
   "cell_type": "markdown",
   "metadata": {
    "nbpresent": {
     "id": "10e6b494-2b58-4284-874a-f21fde4e846f"
    }
   },
   "source": [
    "#### 1.7.4 List Comprehensions\n",
    "\n",
    "This is very useful and often overlooked by beginners ... this is however very efficient and quite \"pythonic\" to use list comprehension. **When possible try to favor list comprehensions over the use of `for` loops**.\n",
    "A common programming structure when assigning values to a list is the following:\n",
    "\n",
    "```python\n",
    "l = []                      # create the list\n",
    "for i in range(10):\n",
    "    l.append(i**2)\n",
    "```\n",
    "\n",
    "List comprehensions provide a shorter and more readable way of writing the same loop:\n",
    "\n",
    "``` python\n",
    "l = [i**2 for i in range(10)]\n",
    "``` "
   ]
  },
  {
   "cell_type": "code",
   "execution_count": null,
   "metadata": {
    "nbpresent": {
     "id": "cf18081b-cd20-4071-a348-d9cd6cd6cb85"
    }
   },
   "outputs": [],
   "source": [
    "# Write a list comprehension that creates a list of 10 odd numbers"
   ]
  },
  {
   "cell_type": "markdown",
   "metadata": {
    "nbpresent": {
     "id": "bdf05d84-6fc6-41bb-8bd1-f027ae22fd90"
    }
   },
   "source": [
    "**Note:** `and`, `or` are boolean operators. `&`, `|` are the equivalent bitwise operator. The difference is that boolean operators are used on boolean values (i.e. the two expression that are compared should be boolean) while `&` and `|` are generally used on integer values (they just compare the bits and so work at a low level). This means that: boolean operators evaluate the first operand for its truth value, and depending on that value, either evaluate and return the second argument, or don't evaluate the second argument and return the first. In other words, the `and` operator works like: ``` x and y => if x is false, then x, else y ```  \n",
    "For that reason we will have the following behaviour: \n",
    "``` Python\n",
    "mylist1 = [True,  True,  True,  False,  True]\n",
    "mylist2 = [False, True, False,  True, False]  \n",
    "\n",
    "# ---- Example 1 ----  Boolean comparison, each elements of the list are compared pair-wise\n",
    ">>>mylist1 and mylist2 \n",
    "[False, True, False, True, False]\n",
    "# You would have expected [False, True, False, False, False]\n",
    "# However as explained above\n",
    "# something_true and x -> x\n",
    "# something_false and x -> something_false\n",
    "```\n",
    "Another important thing to keep in mind is that empty built-in object is treated as logically `False`. This means that:\n",
    "``` Python\n",
    "if []:\n",
    "    print('True')\n",
    "    >>> # Returns nothing\n",
    "    \n",
    "if [False]:\n",
    "    print('True')\n",
    "    >>> 'True'\n",
    "```\n",
    "Finally, the comparison of 2 lists of booleans, as defined above, with bitwise operator will raise an error because bitwise operations work only on numbers (or conversion of objects to bits, e.g. a string): \n",
    "``` python\n",
    "# ---- Example 2 ----  Comparison of the 2 lists with bitwise operators\n",
    "mylist1 & mylist2 \n",
    "TypeError: unsupported operand type(s) for &: 'list' and 'list'\n",
    "\n",
    "```\n",
    "\n",
    "See [here](https://stackoverflow.com/questions/22646463/difference-between-and-boolean-vs-bitwise-in-python-why-difference-i) for more detailed explanation of those subtelties and use of bitwise operators with numpy arrays (that we will introduce later). \n"
   ]
  },
  {
   "cell_type": "code",
   "execution_count": null,
   "metadata": {
    "nbpresent": {
     "id": "7327b838-1a9e-4bde-a946-d4636883772b"
    }
   },
   "outputs": [],
   "source": [
    "if []:\n",
    "    print('True')\n",
    "\n",
    "if [False]:\n",
    "    print('True')"
   ]
  },
  {
   "cell_type": "code",
   "execution_count": null,
   "metadata": {
    "nbpresent": {
     "id": "7bdd14c5-cd3a-432d-848f-66a52afe2a69"
    }
   },
   "outputs": [],
   "source": [
    "mylist1 = [True,  True,  True,  False,  True]\n",
    "mylist2 = [False, True, False,  True, False]  \n",
    "\n",
    "mylist1 and mylist2"
   ]
  },
  {
   "cell_type": "code",
   "execution_count": null,
   "metadata": {
    "nbpresent": {
     "id": "2876851c-66df-41be-a731-35c4b279a26a"
    }
   },
   "outputs": [],
   "source": [
    "mylist1 & mylist2"
   ]
  },
  {
   "cell_type": "markdown",
   "metadata": {},
   "source": [
    "### 1.8 Arithmetic and comparison operators\n",
    "\n",
    "On top of the 4 classical operations, modulus division is `%`, floor division is `//` and exponent is `**`. The following table summarizes the different operations. \n",
    "\n",
    "In the following examples, `a=10`, `b=20`.\n",
    "\n",
    "|Operator \t| Name | Description |\tExample   |\n",
    "|-----------|-------|------|-----------|\n",
    "| `+` | Addition \t| Adds values on either side of the operator. | \t`a + b = 30`  |\n",
    "| `-` | Subtraction |\tSubtracts right hand operand from left hand operand. |\t`a – b = -10` | \n",
    "| `*` | Multiplication |\tMultiplies values on either side of the operator  |\t`a * b = 200` | \n",
    "| `/` | Division \t| Divides left hand operand by right hand operand |\t`b / a = 2` |\n",
    "| `%` | Modulus \t| Divides left hand operand by right hand operand and returns remainder |\t`b % a = 0` | \n",
    "| `**` | Exponent |\tPerforms exponential (power) calculation on operators |\t`a**b =` $10^{20}$ |\n",
    "| `//` | Floor Division | The division of operands where the result is the quotient in which the digits after the decimal point are removed. But if one of the operands is negative, the result is floored, i.e., rounded away from zero (towards negative infinity) | \t`9//2 = 4` and `9.0//2.0 = 4.0`, `-11//3 = -4`, `-11.0//3 = -4.0` |\n",
    "\n",
    "Comparison operators are like in `C` programming language.    \n",
    "\n",
    "\n",
    "|Operator \t| Description |\tExample |\n",
    "|-----------|-------------|---------|\n",
    "|`==` | \tIf the values of two operands are equal, then the condition becomes true. |\t`(a == b)` is False |\n",
    "| `!=` |\tIf values of two operands are not equal, then condition becomes true. \t| `(a != b)` is True. |\n",
    "| `>` \t| If the value of left operand is greater than the value of right operand, then condition becomes true. | \t`(a > b)` is False. | \n",
    "| `<` \t| If the value of left operand is less than the value of right operand, then condition becomes true. \t| `(a < b)` is True. | \n",
    "| `>=` \t| If the value of left operand is greater than or equal to the value of right operand, then condition becomes true.| \t`(a >= b)` is False. | \n",
    "| `<= `|\tIf the value of left operand is less than or equal to the value of right operand, then condition becomes true. \t| `(a <= b)` is True.| \n"
   ]
  },
  {
   "cell_type": "code",
   "execution_count": null,
   "metadata": {},
   "outputs": [],
   "source": [
    "# Try out the operators "
   ]
  },
  {
   "cell_type": "code",
   "execution_count": null,
   "metadata": {},
   "outputs": [],
   "source": []
  },
  {
   "cell_type": "markdown",
   "metadata": {
    "nbpresent": {
     "id": "e9695481-ee3a-4b05-baa7-7d20491bf7f7"
    }
   },
   "source": [
    "### 1.9 A brief summary of the Python coding recommendations    <a class=\"anchor\" id=\"IIIh\"></a>\n",
    "\n",
    "From Official `Python` doc https://docs.python.org/2/tutorial/controlflow.html\n",
    "The full style guide for python coding: https://www.python.org/dev/peps/pep-0008/\n",
    "\n",
    "- Use 4-space indentation, and no tabs.\n",
    "- 4 spaces are a good compromise between small indentation (allows greater nesting depth) and large indentation (easier to read). Tabs introduce confusion, and are best left out.\n",
    "- Wrap lines so that they don’t exceed 79 characters. This helps users with small displays and makes it possible to have several code files side-by-side on larger displays.\n",
    "- Use blank lines to separate functions and classes, and larger blocks of code inside functions.\n",
    "- When possible, put comments on a line of their own.\n",
    "- Use docstrings.\n",
    "- Use spaces around operators and after commas, but not directly inside bracketing constructs: `a = f(1, 2) + g(3, 4)`.\n",
    "- Don’t use fancy encodings if your code is meant to be used in international environments. Plain ASCII works best in any case."
   ]
  },
  {
   "cell_type": "markdown",
   "metadata": {
    "nbpresent": {
     "id": "9abbe30e-5f03-4178-8587-c33eab2fc3df"
    }
   },
   "source": [
    "### 1.10 Summary\n",
    "\n",
    "\n",
    "We have seen that `python` is a multi-paradigm language, namely both *interpreted* and *compiled*. This is the reason why it is very versatile, portable and powerful.  \n",
    "We have learned about: \n",
    "- the main built-in structures: `list`, `tuple`, `dictionary`, `set`\n",
    "- The importance of indentation in writing code, especially when defining a `function`, create `loops`, set `conditions`. \n",
    "- We have seen that there is in general no need to pre-declare a variable, nor its type. However, one should be careful that *numbers not followed by a .* are interpreted as integers, but are float otherwise. This can generate bugs as the division of 2 integers is an integer (in python 2.7, not for version > 3). \n",
    "- We have started to be familiar with slicing through lists, and realise that the *first index* of a sequence is *zero*. \n",
    "- We have seen that it is very easy to add documentation to a function using triple quotes \"\"\"\n",
    "- We have learned how to write `list comprehensions` ( [ x+1 for x in L] ) to increase speed and improve readability. "
   ]
  },
  {
   "cell_type": "markdown",
   "metadata": {
    "nbpresent": {
     "id": "f13ef757-04a6-4b88-b7f9-9e5dc8d65e8d"
    }
   },
   "source": [
    "## 3 References and Additional material:   <a class=\"anchor\" id=\"V\"></a>\n",
    "\n",
    "**Appendix A** of the book *Statistics, data mining and Machine learning in astronomy* by Z. Ivezic et al. in Princeton Series in Modern Astronomy.  \n",
    "\n",
    "Other useful references to know more about the topics covered in this class: \n",
    "\n",
    "* Jupyter Notebooks: \n",
    "    - General: https://www.datacamp.com/community/tutorials/tutorial-jupyter-notebook#gs.HoI=454\n",
    "    - Syntax: https://guides.github.com/features/mastering-markdown/\n",
    "\n",
    "* About interpreted/compiled language:\n",
    "    - General: https://thesocietea.org/2015/07/programming-concepts-compiled-and-interpreted-languages/ \n",
    "\n",
    "* Introduction to python:  \n",
    "    - An Introduction to Python - The Python Tutorial by Guido van Rossum (python creator) and Fred L. Drake, Jr. https://docs.python.org/2/tutorial/index.html \n",
    "    - Python for astronomers course http://python4esac.github.io/  written by Tom Aldcroft, Tom Robitaille, Brian Refsdal, Gus Muench (Copyright 2011, Smithsonian Astrophysical Observatory; Creative common license), and their version adapted by  Eli Bressert, Neil Creighton and Pieter Degroote : http://www.ster.kuleuven.be/~pieterd/python/html/index.html\n",
    "    - Python 2 web-tutorial written by Bernd Klein: http://www.python-course.eu/course.php \n",
    "    - Visual way to see how a code is running and how objects are called and filled  http://www.pythontutor.com/visualize.html#mode=edit\n",
    "    - Concise overview of python capabilities (containers, variable types, operators, ...): https://www.tutorialspoint.com/python/index.htm\n",
    "    - Style guide for python coding: https://www.python.org/dev/peps/pep-0008/\n",
    "    - args and kwargs: https://realpython.com/python-kwargs-and-args/"
   ]
  },
  {
   "cell_type": "code",
   "execution_count": null,
   "metadata": {
    "nbpresent": {
     "id": "2149cbc3-ad58-4092-8fc3-2b80ba1ca4b5"
    }
   },
   "outputs": [],
   "source": []
  }
 ],
 "metadata": {
  "kernelspec": {
   "display_name": "Python 3",
   "language": "python",
   "name": "python3"
  },
  "language_info": {
   "codemirror_mode": {
    "name": "ipython",
    "version": 3
   },
   "file_extension": ".py",
   "mimetype": "text/x-python",
   "name": "python",
   "nbconvert_exporter": "python",
   "pygments_lexer": "ipython3",
   "version": "3.7.9"
  }
 },
 "nbformat": 4,
 "nbformat_minor": 4
}
