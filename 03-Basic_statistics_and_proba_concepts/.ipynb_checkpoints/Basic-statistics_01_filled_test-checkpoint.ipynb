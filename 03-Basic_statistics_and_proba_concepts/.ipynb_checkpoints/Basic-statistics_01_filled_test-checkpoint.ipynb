{
 "cells": [
  {
   "cell_type": "markdown",
   "metadata": {},
   "source": [
    "# Classical Statistical Inference: Part 1"
   ]
  },
  {
   "cell_type": "markdown",
   "metadata": {},
   "source": [
    "## Table of Content:\n",
    "\n",
    "- I. [Basic probability concepts](#I)    \n",
    "    * I.1 [Probability Axioms](Basic-statistics_01_Expanded.ipynb)\n",
    "    * I.2 [What is a random variable ?](#I.2-What-is-a-random-variable-?)\n",
    "    * I.3 [What is a conditional probability $p(A|B)p(A | B)$ ?](#I.3-What-is-a-conditional-probability-p(A|B)p(A-|-B)-?)\n",
    "    * I.4 [What is a probability density function ?](#pdf)\n",
    "    * I.4b [Bivariate PDF](#bivariate)\n",
    "    * I.5 [What is a cumulative density function ?](#I.4-What-is-a-cumulative-density-function-?)\n",
    "    * I.6 [Working with pdf and CDF](Basic-statistics_02.ipynb)\n",
    "\n",
    "\n",
    "- [Descriptive statistics](#Intermezo:-Descriptive-statistics)\n",
    "    * To review the **properties of probability distribution functions** (mean, standard deviation, variance, skewness, ...), go to the notebook [Descriptive_statistics_01.ipynb](Descriptive_statistics_01.ipynb).    \n",
    "    * To **better understand visually the link between PDF and CDF**, and do an interactive tour of the characteristics and properties of **common distributions** encountered in science, then, run the Notebook [Descriptive_statistics_02.ipynb](Descriptive_statistics_02.ipynb). \n",
    "\n",
    "- X. [References and supplementary material](#X)"
   ]
  },
  {
   "cell_type": "code",
   "execution_count": 1,
   "metadata": {},
   "outputs": [],
   "source": [
    "# Modules to be used in this notebook\n",
    "import numpy as np\n",
    "import scipy.stats\n",
    "import matplotlib.pyplot as plt\n",
    "%matplotlib inline"
   ]
  },
  {
   "cell_type": "markdown",
   "metadata": {},
   "source": [
    "## 0. Why some statistics ? \n",
    "\n",
    "With this lecture, we aim to give you tools to manipulate data (from observations or from simulations). Data, even when being the outcome of some deterministic process, contain a stochastic component, for example due to the observational device. This means that in essence, data are what statisticians call a **random variable**. This is why, when you report measurements you also need to report some uncertainties. These uncertainty calculation look often to student like some kind of black magic. This also means that they are sometimes not adequately used or reported. We'll clarify in the coming lectures, how to make those calculations using python tools. \n",
    "\n",
    "This is a necessary step to enter into the field of machine learning. If you look on Wikipedia at the page dedicated to [Machine learning](https://en.wikipedia.org/wiki/Machine_learning), you'll find the following definition: \"Machine learning is the study of computer algorithms that improve automatically through experience. Machine learning algorithms build a mathematical model based on sample data, known as \"training data\", in order to make predictions or decisions without being explicitly programmed to do so.\" This is not the result of black magic, but of well understood statistic and probability. "
   ]
  },
  {
   "cell_type": "markdown",
   "metadata": {},
   "source": [
    "## I Basic (probability) concepts:  <a class=\"anchor\" id=\"I\"></a>\n",
    "\n",
    "This section aims at reminding us some definitions and notations, so everybody is on the same page. Illustration with python will also be provided. \n",
    "\n",
    "In probability theory, we define the following:\n",
    "- the set of all possible outcomes of an experiment is generally called **sample space** and denoted, $\\Omega$. \n",
    "- Points in $\\Omega$, are called **realisations** $\\omega$. In other words each of your *data point* is a realisation (but there may exist other  realisations that are not in your data). \n",
    "- An **Event** is a subset of $\\Omega$ (i.e. a subsample of the $\\omega$). In other words your *data set* is an event.  \n",
    "- $p(A)$ is the **probability** of an event A. ($p(A)$ can also refer to a probability that a value of $x$ falls in a d$x$ wide interval around $x$. )\n",
    "\n",
    "> The *frequentist (classical) interpretation of statistics*: You make a measurement, you repeat it an infinite number of times, and build a histogram. This histogram gives the relative frequency of getting a measurement compared to another. This relative frequency is what we call a probability. The whole possible outcomes of an experiment is called sample space $\\Omega$. An event is a subsample of $\\omega$ / is an ensemble of realisations (your data set).\n",
    "\n",
    "**Example**: We measure the magnitude $m$ of a variable star. Then $\\Omega = {\\rm I\\!R}$ (or some plausible range such as $]-30, 40 [ $, but this makes little difference in practice and $\\Omega$ can in general be larger than needed). $\\omega$ is a value in $\\Omega$. While an event is the ensemble of magnitude measurements  that are e.g. such that $m_i > 15$ and $m_i <=15.5$, hence this *event* is A = ]15, 15.5]. Note that an event *can* also be a single point (i.e. A = [17.]). \n",
    "\n",
    "If you need some refresh on basic probability concepts, move to the [expanded version](Basic-statistics_01_Expanded.ipynb) of this Notebook. "
   ]
  },
  {
   "cell_type": "markdown",
   "metadata": {},
   "source": [
    "### I.1 Probability axioms\n",
    "\n",
    "Check the [expanded version](Basic-statistics_01_Expanded.ipynb) of this Notebook to refresh your mind about the axioms behind the probability theory. \n",
    "\n",
    "### I.2 What is a random variable ?\n",
    "\n",
    "Definition (informal): \n",
    "\n",
    "> A random variable is a variable whose value results from the measurement of a quantity that is subject to random variations. \n",
    "\n",
    "**Example:** You roll a dice. You can then define $X(\\omega)$ be the *number of times you draw an even number* in a sequence $\\omega$. Imagine you have rolled your dice 10 times, and get  $\\omega = {1, {\\bf 2, 4, 2}, 5, {\\bf 4, 6}, 3, 3, 1 }$. Then $X(\\omega) = 5$ is the value taken by your *random variable* X. \n",
    "\n",
    "Note that you can have either *continuous* or *discrete* random variables. If they form a countable set, they are discrete. They are continuous otherwise. \n",
    "\n",
    "**Warning**, a random variable is *NOT* like typical mathematical variables as it can take *different values* (each with an associated probability). In litterature, you will generaly find random variables written with *CAPITAL* letters, and their particular *realization* with *lowercase*. A realisation of a random variable is also called \"random variate\". \n",
    "\n",
    "**Random variable with numpy**\n",
    "\n",
    "In numpy there is a sub-module called random that contains many functions that involve random selection. In particular there is a function `choice` that allows you to make a choice at random. It picks one item at random from an array, and it is equally likely to pick any of the items. The function call is `np.random.choice(array_name)`, where `array_name` is the name of the array from which to make the choice."
   ]
  },
  {
   "cell_type": "code",
   "execution_count": 2,
   "metadata": {},
   "outputs": [
    {
     "data": {
      "text/plain": [
       "'star'"
      ]
     },
     "execution_count": 2,
     "metadata": {},
     "output_type": "execute_result"
    }
   ],
   "source": [
    "# Let's build a small array with classification of objects on a CCD: \n",
    "class_phot = np.array(['star', 'galaxy', 'galaxy', 'star', 'star'])\n",
    "np.random.choice(class_phot)"
   ]
  },
  {
   "cell_type": "markdown",
   "metadata": {},
   "source": [
    "If you re-rerun the above cell multiple times, you will see that the output changes, because the output is taken at random. If you provide a second argument (`size = n`), it will repeat the process $n$ number of times. In practice, this `method` allows you to *generate a random sample* from a 1-D array. You can add a third argument that specifies if you allow replacements or not as the output: i.e. `replace=False` means that the value stored at a given index of the array will only appear once in the output. "
   ]
  },
  {
   "cell_type": "code",
   "execution_count": 3,
   "metadata": {},
   "outputs": [
    {
     "data": {
      "text/plain": [
       "array(['star', 'galaxy', 'star'], dtype='<U6')"
      ]
     },
     "execution_count": 3,
     "metadata": {},
     "output_type": "execute_result"
    }
   ],
   "source": [
    "np.random.choice(class_phot, size=3)    "
   ]
  },
  {
   "cell_type": "code",
   "execution_count": 10,
   "metadata": {},
   "outputs": [
    {
     "data": {
      "text/plain": [
       "array([2, 3, 2, 2, 2])"
      ]
     },
     "execution_count": 10,
     "metadata": {},
     "output_type": "execute_result"
    }
   ],
   "source": [
    "# Use e.g. np.arange(5) and size=5 to compare the behaviour with replace=True / replace = False\n",
    "np.random.choice(np.arange(5), size=5, replace=True)"
   ]
  },
  {
   "cell_type": "code",
   "execution_count": 11,
   "metadata": {},
   "outputs": [
    {
     "data": {
      "text/plain": [
       "array([2, 3, 4, 1, 0])"
      ]
     },
     "execution_count": 11,
     "metadata": {},
     "output_type": "execute_result"
    }
   ],
   "source": [
    "np.random.choice(np.arange(5), size=5, replace=False)"
   ]
  },
  {
   "cell_type": "code",
   "execution_count": 13,
   "metadata": {},
   "outputs": [
    {
     "data": {
      "text/plain": [
       "array([2, 3, 2, 0, 3, 2])"
      ]
     },
     "execution_count": 13,
     "metadata": {},
     "output_type": "execute_result"
    }
   ],
   "source": [
    "#Try out with an array size > size of the random sample \n",
    "np.random.choice(np.arange(5), size=6, replace=True)"
   ]
  },
  {
   "cell_type": "code",
   "execution_count": 16,
   "metadata": {},
   "outputs": [
    {
     "ename": "ValueError",
     "evalue": "Cannot take a larger sample than population when 'replace=False'",
     "output_type": "error",
     "traceback": [
      "\u001b[0;31m---------------------------------------------------------------------------\u001b[0m",
      "\u001b[0;31mValueError\u001b[0m                                Traceback (most recent call last)",
      "\u001b[0;32m<ipython-input-16-6a82b0c907bf>\u001b[0m in \u001b[0;36m<module>\u001b[0;34m\u001b[0m\n\u001b[1;32m      1\u001b[0m \u001b[0;31m# If size > size(a), you cannot generate a random sample with choice and replace=False (it does not make sense)\u001b[0m\u001b[0;34m\u001b[0m\u001b[0;34m\u001b[0m\u001b[0;34m\u001b[0m\u001b[0m\n\u001b[0;32m----> 2\u001b[0;31m \u001b[0mnp\u001b[0m\u001b[0;34m.\u001b[0m\u001b[0mrandom\u001b[0m\u001b[0;34m.\u001b[0m\u001b[0mchoice\u001b[0m\u001b[0;34m(\u001b[0m\u001b[0mnp\u001b[0m\u001b[0;34m.\u001b[0m\u001b[0marange\u001b[0m\u001b[0;34m(\u001b[0m\u001b[0;36m5\u001b[0m\u001b[0;34m)\u001b[0m\u001b[0;34m,\u001b[0m \u001b[0msize\u001b[0m\u001b[0;34m=\u001b[0m\u001b[0;36m6\u001b[0m\u001b[0;34m,\u001b[0m \u001b[0mreplace\u001b[0m\u001b[0;34m=\u001b[0m\u001b[0;32mFalse\u001b[0m\u001b[0;34m)\u001b[0m\u001b[0;34m,\u001b[0m\u001b[0;34m\u001b[0m\u001b[0;34m\u001b[0m\u001b[0m\n\u001b[0m",
      "\u001b[0;32mmtrand.pyx\u001b[0m in \u001b[0;36mmtrand.RandomState.choice\u001b[0;34m()\u001b[0m\n",
      "\u001b[0;31mValueError\u001b[0m: Cannot take a larger sample than population when 'replace=False'"
     ]
    }
   ],
   "source": [
    "# If size > size(a), you cannot generate a random sample with choice and replace=False (it does not make sense)\n",
    "np.random.choice(np.arange(5), size=6, replace=False),"
   ]
  },
  {
   "cell_type": "markdown",
   "metadata": {},
   "source": [
    "Other important methods of `np.random` are:\n",
    "- `np.random.seed(value)`: Set the seed of the random number generator (allows to get reproductible results)\n",
    "- `np.random.rand(shape)`: generate an array populated with random floats drawn from an uniform distribution. \n",
    "- `np.random.randint(low, high, shape)`: generate an array of random integers between `low` and `high` values. \n",
    "- `np.random.permutation(array_name)`: return a copy of the original array with elements permuted along the first axis of the array. "
   ]
  },
  {
   "cell_type": "markdown",
   "metadata": {},
   "source": [
    "##### Exercise: Coin toss\n",
    "\n",
    "Create a 2D array of 10 rows and 7 columns (with random integer values). \n",
    "- (1) Use `choice` to select at random 5 different rows. \n",
    "- (2) Use `choice` to select at random 3 different columns.\n",
    "- (3) Create an 1-D array representing result of 1000 coin toss (set value `0` for head and `1` for tail using random integers generator). Plot the histogram of their values (using `matplotlib.pyplot.hist`; Note that you can set the number of bins by setting the argument `bins = value`). Set the argument `density` of `hist()` to values True and False. What is the difference of behaviour ?  \n",
    "- (4) Fix the seed of your random generator. Create an array `a` of 10 integers between 0 and 10. Redo this operation and save it into an array `b`. Compare `a` and `b`. How should you proceed to have 2 identical arrays ? "
   ]
  },
  {
   "cell_type": "code",
   "execution_count": 20,
   "metadata": {},
   "outputs": [
    {
     "data": {
      "text/plain": [
       "array([[32, 48,  9, 33, 60, 55, 11],\n",
       "       [10, 68, 44, 44, 19, 16, 39],\n",
       "       [50, 65, 35, 45, 52,  1, 18],\n",
       "       [63,  2, 20, 62, 22,  7, 57],\n",
       "       [43, 32, 60, 16, 27, 53,  8],\n",
       "       [20,  8, 24, 19,  9, 26, 50],\n",
       "       [60,  5,  9, 32, 13, 44, 36],\n",
       "       [42, 26, 24, 20, 62, 44, 30],\n",
       "       [17, 32, 53, 39, 60, 32, 33],\n",
       "       [51, 11, 17, 51, 13, 68, 63]])"
      ]
     },
     "execution_count": 20,
     "metadata": {},
     "output_type": "execute_result"
    }
   ],
   "source": [
    "# Create a 2D array \n",
    "a = np.random.randint(0, 70, (10,7))\n",
    "a"
   ]
  },
  {
   "cell_type": "code",
   "execution_count": 36,
   "metadata": {},
   "outputs": [
    {
     "data": {
      "text/plain": [
       "array([[42, 26, 24, 20, 62, 44, 30],\n",
       "       [51, 11, 17, 51, 13, 68, 63],\n",
       "       [32, 48,  9, 33, 60, 55, 11],\n",
       "       [10, 68, 44, 44, 19, 16, 39],\n",
       "       [63,  2, 20, 62, 22,  7, 57]])"
      ]
     },
     "execution_count": 36,
     "metadata": {},
     "output_type": "execute_result"
    }
   ],
   "source": [
    "# Select at random 5 different rows\n",
    "np.random.seed(3)\n",
    "rand_rows = np.random.choice(np.arange(10), size=5, replace=False)\n",
    "# The following command with rand_int is not a good option because randint allows for repetition \n",
    "#rand_rows = np.random.randint(a.shape[0], size=5) \n",
    "a[rand_rows, :]"
   ]
  },
  {
   "cell_type": "code",
   "execution_count": 37,
   "metadata": {},
   "outputs": [
    {
     "data": {
      "text/plain": [
       "array([[33, 11, 60],\n",
       "       [44, 39, 19],\n",
       "       [45, 18, 52],\n",
       "       [62, 57, 22],\n",
       "       [16,  8, 27],\n",
       "       [19, 50,  9],\n",
       "       [32, 36, 13],\n",
       "       [20, 30, 62],\n",
       "       [39, 33, 60],\n",
       "       [51, 63, 13]])"
      ]
     },
     "execution_count": 37,
     "metadata": {},
     "output_type": "execute_result"
    }
   ],
   "source": [
    "# Select 3 columns ids\n",
    "rand_columns = np.random.choice(np.arange(a.shape[1]), size=3, replace=False)\n",
    "a[:, rand_columns]"
   ]
  },
  {
   "cell_type": "code",
   "execution_count": 44,
   "metadata": {},
   "outputs": [
    {
     "data": {
      "image/png": "[encoded data removed]",
      "text/plain": [
       "<Figure size 432x288 with 1 Axes>"
      ]
     },
     "metadata": {
      "needs_background": "light"
     },
     "output_type": "display_data"
    }
   ],
   "source": [
    "# (3) 1D array representing 1000 coin toss and histogram. \n",
    "random_cointoss = np.random.randint(0, 2, 1000)\n",
    "qq = plt.hist(random_cointoss)"
   ]
  },
  {
   "cell_type": "code",
   "execution_count": 45,
   "metadata": {},
   "outputs": [
    {
     "data": {
      "image/png": "[encoded data removed]",
      "text/plain": [
       "<Figure size 432x288 with 1 Axes>"
      ]
     },
     "metadata": {
      "needs_background": "light"
     },
     "output_type": "display_data"
    }
   ],
   "source": [
    "qq = plt.hist(random_cointoss, density=True, bins=2)"
   ]
  },
  {
   "cell_type": "code",
   "execution_count": 108,
   "metadata": {},
   "outputs": [
    {
     "data": {
      "text/plain": [
       "(array([8, 9, 3, 8, 8, 0, 5, 3, 9, 9]), array([5, 7, 6, 0, 4, 7, 8, 1, 6, 2]))"
      ]
     },
     "execution_count": 108,
     "metadata": {},
     "output_type": "execute_result"
    }
   ],
   "source": [
    "# (4) Fix the seed of your random generator. Create an array `a` of 10 integers between 0 and 10. \n",
    "# Redo this operation and save it into an array `b`. Compare `a` and `b`. \n",
    "np.random.seed(3)\n",
    "a = np.random.randint(0, 10, 10)\n",
    "b = np.random.randint(0, 10, 10)\n",
    "a, b "
   ]
  },
  {
   "cell_type": "code",
   "execution_count": 109,
   "metadata": {},
   "outputs": [
    {
     "data": {
      "text/plain": [
       "(array([8, 9, 3, 8, 8, 0, 5, 3, 9, 9]), array([8, 9, 3, 8, 8, 0, 5, 3, 9, 9]))"
      ]
     },
     "execution_count": 109,
     "metadata": {},
     "output_type": "execute_result"
    }
   ],
   "source": [
    "#How should you proceed to have 2 identical arrays ?  \n",
    "np.random.seed(3)\n",
    "a = np.random.randint(0, 10, 10)\n",
    "np.random.seed(3)\n",
    "b = np.random.randint(0, 10, 10)\n",
    "a, b "
   ]
  },
  {
   "cell_type": "markdown",
   "metadata": {},
   "source": [
    "### I.3 What is a conditional probability $p(A | B)$ and Bayes theorem? \n",
    "\n",
    "The conditional probabiloty expresses the fact that the probability of an event can depend on another one. For example, you may wonder what is the probability to have a flu if you have fever. You would write it $p(\\rm{flu} | \\rm{fever}) $, which reads \"p of flu GIVEN fever\". $p(A \\, | \\, B) = \\frac{p(A \\, \\cap \\, B)}{p(B)}$ is the *fraction of times* $A$ occurs when $B$ occurs.\n",
    "\n",
    "The Bayes theorem expresses formally how to calculate this conditional probability:\n",
    "$$\n",
    "p(A\\,|\\,B) = \\frac{p(B\\,|\\,A) \\, p(A)}{p(B)}\n",
    "$$\n",
    "\n",
    "The main thing you have to recall with conditional probability is that $p(A | B) \\neq p( B | A)$: probability to have a flu given you have fever is different from probability you have fever given you have a flu. \n",
    "\n",
    "**Question:**  Let's consider a rare disease that affects 0.1\\% of the population. On the other hand, let's consider a test that is efficient at 99\\% (i.e. 1 \\% False positive rate). If you have a positive test, what is the probability for you to be affected by this disease ?   "
   ]
  },
  {
   "cell_type": "markdown",
   "metadata": {},
   "source": [
    "Among 1000 persons, 1 has the disease (it touches 0.1 \\% of the population). The test has 99% efficiency. Which means that 1% of the people will be tested positive while not being sick. => 10 people will be positive while healthy. You should add ~1 being positive while being effectively sick.     \n",
    "=> $p(\\rm{disease} | +) \\sim 1/11 = 9\\%$  "
   ]
  },
  {
   "cell_type": "code",
   "execution_count": 112,
   "metadata": {},
   "outputs": [
    {
     "data": {
      "text/plain": [
       "0.09016393442622951"
      ]
     },
     "execution_count": 112,
     "metadata": {},
     "output_type": "execute_result"
    }
   ],
   "source": [
    "# What you are interested in is the p(disease | positive test) \n",
    "# We have p(positive test | disease) = 0.99 \n",
    "p_B_given_A = 0.99\n",
    "# We have probability of disease = 0.001 \n",
    "p_A = 0.001\n",
    "# We have probability of positive test p (true positive) + p(false positive)\n",
    "# p(B) = P(+ | disease) * P(disease) + P(+| no disease) * P(no disease)  \n",
    "p_B = 0.001 * 0.99 + 0.01 * 0.999   \n",
    "p_A_given_B = p_B_given_A * p_A / p_B\n",
    "p_A_given_B"
   ]
  },
  {
   "cell_type": "markdown",
   "metadata": {},
   "source": [
    "=> **Be careful with RARE events !** If you build an algorithm that detects securely 99% of the rare events (e.g. a gravitational lens, a supernova, a planet around a red dwarf, ...), you may still spend a lot of time observing false positives ... "
   ]
  },
  {
   "cell_type": "markdown",
   "metadata": {},
   "source": [
    "### I.4 What is a probability density function ? <a class=\"anchor\" id=\"pdf\"></a>\n",
    "\n",
    "We will generally be dealing with probability *densities*, that is, $p(x)\\,\\rm{d}x$ is the probability of a value falling between $x$ and $x \\,+\\, {\\rm{d}}x$.\n",
    "\n",
    "Remember the histogram, counting your measurements (cf exercise on [coin toss](#Exercise:-Coin-toss)  above), setting the density to `True`. You have $\\sum p(x) \\delta x = 1$ (where $\\delta x$ = bin width). This is a probability density function (effectively a probability mass function because you work with discrete variables).      \n",
    "\n",
    "Probability densities are normalized such that the union of all possible events has a probability of unity; mathematically that criterion looks like this:\n",
    "\n",
    "$$\n",
    "\\int p(x)\\,{\\rm{d}}x = 1\n",
    "$$\n",
    "\n",
    "Among other things, consider the **units** implied by this expression: because probability is dimensionless, the *units of $p(x)$* must be the *inverse of the units of $x$*.\n",
    "This can be very useful to keep in mind as you manipulate probabilistic expressions!\n",
    "\n",
    "If the concept of PDF was not aleady clear to you, check Section I.4 of the [expanded version](Basic-statistics_01_Expanded.ipynb) of this Notebook to look at the more formal definition of the pdf. "
   ]
  },
  {
   "cell_type": "markdown",
   "metadata": {},
   "source": [
    "**Examples:**    \n",
    "You know several pdf, such as the *uniform* and the *normal* (aka gaussian) pdf.  \n",
    "\n",
    "- A *uniform* pdf is such that:\n",
    "\n",
    "$$\n",
    "\\begin{array} \\\\ \n",
    "   h(x)    & = \\frac{1}{b-a} \\,\\, {\\rm{if}}\\,a\\,\\leq\\,x\\,\\leq\\,b \\\\\n",
    "   h(x)    & = 0 \\,\\,\\, {\\rm{otherwise} }  \\\\\n",
    "\\end{array}\n",
    "$$\n",
    "\n",
    "- The gaussian pdf of mean $\\mu$ and standard deviation $\\sigma$ is:\n",
    "\n",
    "$$\n",
    "h(x ; \\mu, \\sigma) = \\frac{1}{\\sqrt{2\\pi}\\,\\sigma} \\exp \\left( -\\frac{1}{2}\\frac{(x-\\mu)^2}{\\sigma^2}\\right)\n",
    "$$\n",
    "\n",
    "It is important to keep in mind that, as a probability can't be larger than 1, the integral of $h(x)$ over that integration domain has to be 1, otherwise we do not have a properly normalised pdf. This explains the  normalisation $1/\\sqrt{2\\pi}\\,\\sigma$ in front of of the gaussian pdf. \n",
    "\n",
    "- In cases where random variables are **discrete**, one rather speaks of **probability mass function** (pmf). In this case, $X$ may take a (finite) number of values ${x_1, x_2, ..., x_n}$ and the mass function is simply:\n",
    "$$\n",
    "h_X(x) = p(X\\,=\\,x)\n",
    "$$\n",
    "\n",
    "The *Poisson* or *Bernouilli* distribution are examples of pmf. \n"
   ]
  },
  {
   "cell_type": "markdown",
   "metadata": {},
   "source": [
    "#### Relevance of pdf for statistical inference:\n",
    "\n",
    "Probability density function is at the heart of data mining, and data analysis in general. A key question is indeed to figure out what is the pdf $h_X(x)$ that is behind a set of random variables (directly observed or predicted by a model fed by some data). I.e. we generally try to answer the question \"From which pdf $h(x)$ are drawn my $x$ ?\". In Bayesian inference, one tries to derive the (posterior) pdf associated to a quantity. Why are we interested by those ? Because they tell us something about the probability of an event/observation to occur or help us to figure out whether a physical model is sensible *given* the observations in hands.  \n",
    "\n",
    "\n",
    "Following the convention of our [reference book](#book), we use $h(x)$ when we refer to the *true* pdf (or **population** pdf), and $f(x)$ when we refer to its *data* derived estimate (**empirical** pdf). Since $x$ are generally measured with errors, it may be that $f(x)$ does not tend to $h(x)$ even for an infinite number of measurements (we end up with a \"blurred\" or \"broadened\" version of the pdf). Because $h(x)$ gives the probability that $x$ falls in an (infinitely) small interval $x, x+{\\rm{d}}x$, the pdf is also sometimes written $p(x)$ (cf Chapter 3 of our [reference book](#book)). \n",
    "\n",
    "As we said, $f(x)$ is a *model* of the *true* distribution $h(x)$. We observe data points that are *samples* of the true distribution $h(x)$. In general, we do not know $h(x)$ and we have to guess its functional form. This function form can either be \"parametric\" (e.g. a gaussian) or \"non parametric\" (e.g. a sum of small gaussians that mimic a more complex pdf). "
   ]
  },
  {
   "cell_type": "markdown",
   "metadata": {},
   "source": [
    "**Examples of pdf in scientific papers:**\n",
    "\n",
    "- Marginalised pdf on H0 in Fig. 4 Bonvin et al. 2017 http://arxiv.org/abs/1607.01790 \n",
    "![ima](../Figures/HOLICOW_pdf.png)\n",
    "- 2D PDF on pairs of gravitational lensing parameters in Fig. 7 of Hartley et al. 2019 http://arxiv.org/abs/1901.05791v1 \n",
    "- Probability Density Function for frequency of Jovian-mass planets around intermediate-mass stars interiorto∼3 AU: Figure 13 of Bowler et al. 2009 https://arxiv.org/abs/0912.0518 "
   ]
  },
  {
   "cell_type": "markdown",
   "metadata": {},
   "source": [
    "#### Python implementation\n",
    "\n",
    "A large number of distribution functions are implemented in `scipy.stats`, such as the binomial distribution, poisson distribution, gaussian distribution, chi2, Cauchy distribution, ... To use them you simply have to:     \n",
    "\n",
    "**Method 1**\n",
    "\n",
    "You work in two steps. It allows you to calculate multiple quantities associated to a distribution. \n",
    "\n",
    "- 1) **Create an instance of an object \"distribution\"** with some fixed parameters:    \n",
    "e.g. \n",
    "\n",
    "``` python\n",
    "# Create a gaussian function with parameters mu=0, sigma=2\n",
    "g = scipy.stats.norm(0, 2)  \n",
    "\n",
    "# Poisson distribution for 10 events\n",
    "pois = scipy.stats.poisson(10)  \n",
    "```\n",
    "\n",
    "**Note:** The help of `scipy` distribution generally refers to the `loc` and `scale` keywords associated to the distribution. The `loc` corresponds to the `mean` (i.e. expectation value of order 1 moment) and the `scale` corresponds to the `standard deviation`. "
   ]
  },
  {
   "cell_type": "code",
   "execution_count": 5,
   "metadata": {},
   "outputs": [],
   "source": [
    "g = scipy.stats.norm(0, 2)   # Equivalently use: g = scipy.stats.norm(loc=0, scale=2.)"
   ]
  },
  {
   "cell_type": "markdown",
   "metadata": {},
   "source": [
    "- 2) Calculate **properties associated to (the instance of) this object** using a set of *specific methods*. For the pdf, use the method pdf: \n",
    "\n",
    "``` python\n",
    "# Evaluate the pdf / pmf associated to our objects g / pois at \"position\" x / k\n",
    "\n",
    "g_pdf = g.pdf(x) # x is either a numpy array or a specific value\n",
    "\n",
    "pois_pmf = pois.pmf(k)  # k is an array of integers or a specific value\n",
    "```\n",
    "\n",
    "**Method 2**\n",
    "\n",
    "You can generate a `pdf` associated to a normal distribtuion with a single command line: \n",
    "\n",
    "``` python \n",
    "x = np.arange(-10,10,0.1) # Create an array over which you want to evaluate the pdf\n",
    "\n",
    "y = scipy.stats.norm.pdf(x, loc=0, scale=2)   # for a gaussian of mean mu=0, sigma=2\n",
    "```\n"
   ]
  },
  {
   "cell_type": "code",
   "execution_count": 6,
   "metadata": {},
   "outputs": [
    {
     "data": {
      "text/plain": [
       "[<matplotlib.lines.Line2D at 0xa5f9be2b0>]"
      ]
     },
     "execution_count": 6,
     "metadata": {},
     "output_type": "execute_result"
    },
    {
     "data": {
      "image/png": "[encoded data removed]",
      "text/plain": [
       "<matplotlib.figure.Figure at 0xa5f91d860>"
      ]
     },
     "metadata": {},
     "output_type": "display_data"
    }
   ],
   "source": [
    "# Use this cell to plot the pdf associated with the gaussian distribution you have generated above\n",
    "x = np.arange(-10,10,0.1)\n",
    "g_pdf = g.pdf(x) \n",
    "plt.plot(x, g_pdf)"
   ]
  },
  {
   "cell_type": "code",
   "execution_count": 7,
   "metadata": {},
   "outputs": [
    {
     "data": {
      "text/plain": [
       "[<matplotlib.lines.Line2D at 0xa5fc36208>]"
      ]
     },
     "execution_count": 7,
     "metadata": {},
     "output_type": "execute_result"
    },
    {
     "data": {
      "image/png": "[encoded data removed]",
      "text/plain": [
       "<matplotlib.figure.Figure at 0xa5f9479e8>"
      ]
     },
     "metadata": {},
     "output_type": "display_data"
    }
   ],
   "source": [
    "# Let's now do it for a probability mass function \n",
    "pois = scipy.stats.poisson(10)\n",
    "k=np.arange(100)\n",
    "pois_pmf = pois.pmf(k)\n",
    "plt.plot(k, pois_pmf)"
   ]
  },
  {
   "cell_type": "markdown",
   "metadata": {},
   "source": [
    "Other properties of the object (mean, std, moments, ...) can be calculated as we will see later. It is also possible to draw a random sample that follows the distribution we want to use using `scipy.stats.distribution.rvs()`:\n",
    "``` python\n",
    "# Generate a sample of 1000 points drawn from a gaussian distrib:\n",
    "g_sample = g.rvs(1000)  \n",
    "\n",
    "# Generate a sample of 10 points drawn from a poisson distrib:\n",
    "pois_sample = pois.rvf(10) \n",
    "```\n",
    "\n",
    "See Sect. 3.2 of our reference [book](#book) for an overview of the main distributions implemented in scipy. "
   ]
  },
  {
   "cell_type": "markdown",
   "metadata": {},
   "source": [
    "**Exercises:** \n",
    "\n",
    "- Generate a random sample of n points drawn from the gaussian distribution you defined above. (compare n=10, 100, 1000)\n",
    "- Plot an histogram with the sample of points you have generated. \n",
    "- Plot a canonical gaussian pdf (width =1) and overplot an horizontal line showing its FWHM. \n",
    "- Print at the screen the value of the FWHM and compare the value you expect for a canonical 1D-gaussian (FWHM $= 2 * \\sqrt{2 * \\ln(2)} * \\sigma $) \n",
    "\n",
    "TIP: Keep the expression of the FWHM of a Gaussian in mind, you may have to use it often. "
   ]
  },
  {
   "cell_type": "code",
   "execution_count": 73,
   "metadata": {},
   "outputs": [],
   "source": [
    "# Use this cell to generate a random sample of points drawn from the gaussian distribution you defined above\n",
    "g_sample_10 = g.rvs(10)\n",
    "g_sample_100 = g.rvs(100)\n",
    "g_sample_1000 = g.rvs(1000)"
   ]
  },
  {
   "cell_type": "code",
   "execution_count": 76,
   "metadata": {},
   "outputs": [
    {
     "data": {
      "image/png": "[encoded data removed]",
      "text/plain": [
       "<Figure size 1080x360 with 3 Axes>"
      ]
     },
     "metadata": {
      "needs_background": "light"
     },
     "output_type": "display_data"
    }
   ],
   "source": [
    "# ploting the histogram \n",
    "f, ax = plt.subplots(ncols=3, figsize=(15,5))\n",
    "for i, samp in enumerate([g_sample_10, g_sample_100, g_sample_1000]):\n",
    "    q = ax[i].hist(samp, bins=20, range=(-3,3))"
   ]
  },
  {
   "cell_type": "code",
   "execution_count": 78,
   "metadata": {},
   "outputs": [
    {
     "data": {
      "text/plain": [
       "<matplotlib.collections.LineCollection at 0x127f4fb10>"
      ]
     },
     "execution_count": 78,
     "metadata": {},
     "output_type": "execute_result"
    },
    {
     "data": {
      "image/png": "[encoded data removed]",
      "text/plain": [
       "<Figure size 432x288 with 1 Axes>"
      ]
     },
     "metadata": {
      "needs_background": "light"
     },
     "output_type": "display_data"
    }
   ],
   "source": [
    "# Illustration of a canonical gaussian pdf and overplot of a line showing its FWHM \n",
    "g_canon = scipy.stats.norm(0, 1)   # Equivalently use: g = scipy.stats.norm(loc=0, scale=1.)\n",
    "plt.plot(x, g_canon.pdf(x))\n",
    "plt.hlines(g_canon.pdf(x).max()/2, -np.sqrt(2.*np.log(2)), np.sqrt(2.*np.log(2)), color='red')"
   ]
  },
  {
   "cell_type": "markdown",
   "metadata": {},
   "source": [
    "### I.4b Bivariate distributions:  <a class=\"anchor\" id=\"bivariate\"></a>\n",
    "\n",
    "If you want to know more about bivariate PDFs and their python implementation, have a look at the [expanded version](Basic-statistics_01_Expanded.ipynb) of this Notebook. "
   ]
  },
  {
   "cell_type": "markdown",
   "metadata": {},
   "source": [
    "### I.5 What is a cumulative density function ? \n",
    "\n",
    "\n",
    "The *integral of a pdf* is called **cumulative density function**. \n",
    "$$\n",
    "p(X \\leq x) = H(x) = \\int_{-\\infty}^{x}\\, h(x') \\, {\\rm d}x'\n",
    "$$\n",
    "\n",
    "Obviously/by definition, we have that the integral of H(x) (i.e. between $-\\infty$ and $+\\infty$) is equal to 1.   \n",
    "\n",
    "Let's visualise the CDF $H(x_0) = p(X \\leq x_0)$, in the case of a gaussian PDF. We see that this is the area below the PDF between $-\\infty$ and $x_0$.    "
   ]
  },
  {
   "cell_type": "code",
   "execution_count": 61,
   "metadata": {},
   "outputs": [
    {
     "data": {
      "text/plain": [
       "Text(-1.6, 0.1, '$H(x_0) = p(X \\\\leq x_0)$')"
      ]
     },
     "execution_count": 61,
     "metadata": {},
     "output_type": "execute_result"
    },
    {
     "data": {
      "image/png": "[encoded data removed]",
      "text/plain": [
       "<Figure size 720x360 with 1 Axes>"
      ]
     },
     "metadata": {
      "needs_background": "light"
     },
     "output_type": "display_data"
    }
   ],
   "source": [
    "x = np.arange(-6,6,0.01)\n",
    "x0 = 1.   # let's take x0 = 1 \n",
    "id_x0 = np.searchsorted(x, x0)\n",
    "g = scipy.stats.norm(loc=0, scale=1)\n",
    "f, ax = plt.subplots(ncols=1, figsize=(10, 5))\n",
    "ax.plot(x, g.pdf(x), color='black', lw=2)\n",
    "ax.vlines(x0, 0, g.pdf(x0), color='red', lw=3)\n",
    "ax.fill_between(x[:id_x0], 0, g.pdf(x[:id_x0]), color='orange', alpha=0.6)\n",
    "ax.set_ylabel('h(x)', size=16)\n",
    "ax.set_xlabel('x', size=16)\n",
    "ax.text(0.7, -0.02, r'$x_0$', size=14, color='red')\n",
    "ax.text(-1.6, 0.1, r'$H(x_0) = p(X \\leq x_0)$', size=13)"
   ]
  },
  {
   "cell_type": "markdown",
   "metadata": {},
   "source": [
    "The CDF provides a direct way to calculate the probability for the value of a random variable $X$ to be between 2 values $x_1$ and $x_2$. If $x_1 < x_2$, then $P(x_1 < X < x_2) = H(x_2) - H(x_1)$. On the above figure, this would be the difference of area up to $x_2$ minus the area up to $x_1$.   \n",
    "\n",
    "Hence, you know how to derive the *p% quantile* of a distribution. $q_p$ defined as:\n",
    "\n",
    "$$\n",
    "\\frac{p}{100} = \\int_{-\\infty}^{q_p} h(x) dx\n",
    "$$\n",
    "\n",
    "$q_{25}$, $q_{50}$ and $q_{75}$ are commonly called the first, second and third *quartile* or 25 / 50 / 75 *percentile* of the distribution. $q_{75} - q_{25}$ is called *interquartile range* and provides a robust estimate of the width of a distribution. By definition, the *interquartile range* contains 50% of the surface behind the CDF / PDF and hence 0.5 of the probability (centered on the median). We will see later how to use percentiles to calculate confidence intervals. \n",
    "\n",
    "Note that *lowercase* letters are used for probability density (differential distribution) functions (pdf), and upper case for their cumulative counterpart (CDF).\n",
    "\n",
    "**Example**:\n",
    "\n",
    "An important CDF is the one of the gaussian distribution:\n",
    "\n",
    "$$\n",
    "H(x\\,|\\,\\mu, \\sigma) = \\frac{1}{\\sqrt{2\\pi}\\,\\sigma} ~ \\int_{-\\infty}^{x} \\exp \\left( -\\frac{1}{2}\\frac{(x'-\\mu)^2}{\\sigma^2}\\right) {\\rm d}x'. \n",
    "$$\n",
    "\n",
    "This function is generally evaluated in terms of what is called the *Gauss error function* :   \n",
    "$$\n",
    "\\rm{erf}(z) = \\frac{2}{\\sqrt{\\pi}}~\\int_0^z \\exp(-t^2)\\,{\\rm{d}}t.\n",
    "$$\n",
    "\n",
    "This function can be evaluated using `scipy.special.erf()`. \n",
    "\n",
    "Using the error function, the CDF of a Gaussian distribution can be re-written:\n",
    "\n",
    "$$\n",
    "H(x\\,|\\,\\mu, \\sigma) = \\frac{1}{2}~\\left( 1 \\pm erf \\left( \\frac{|x-\\mu|}{\\sqrt{2}\\sigma} \\right)  \\right),\n",
    "$$\n",
    "\n",
    "with \"+\" sign if $x > \\mu$, and \"-\" sign if $x<\\mu$. "
   ]
  },
  {
   "cell_type": "code",
   "execution_count": 71,
   "metadata": {},
   "outputs": [
    {
     "data": {
      "text/plain": [
       "Text(0.5, 0, 'x')"
      ]
     },
     "execution_count": 71,
     "metadata": {},
     "output_type": "execute_result"
    },
    {
     "data": {
      "image/png": "[encoded data removed]",
      "text/plain": [
       "<Figure size 720x360 with 1 Axes>"
      ]
     },
     "metadata": {
      "needs_background": "light"
     },
     "output_type": "display_data"
    }
   ],
   "source": [
    "# CDF of a gaussian\n",
    "f, ax = plt.subplots(nrows=1, figsize=(10,5))\n",
    "n = scipy.stats.norm(0, 1)\n",
    "x=np.linspace(-5,5, 100)\n",
    "g_cdf = n.cdf(x)\n",
    "ax.plot(x, g_cdf, color=\"orange\", lw=2)\n",
    "ax.vlines(1, 0,0.82, color='red')\n",
    "ax.set_ylabel('H(x)', size=18)\n",
    "ax.set_xlabel('x', size=18)"
   ]
  },
  {
   "cell_type": "markdown",
   "metadata": {},
   "source": [
    "*How to read up the percentile / probability from the CDF in python ?*\n",
    "\n",
    "If you want to know for which value of $x$ we have a given probability/percentile, you may use the \"percent point function\" or `ppf` (i.e. the inverse of the `cdf`). To know for which $x$ one gets a specific $q$ ($0 < q < 1$), you may use the command: `scipy.stats.distrib.ppf(q)`  (replace `distrib` by the name of the distribution you are interested in). "
   ]
  },
  {
   "cell_type": "markdown",
   "metadata": {},
   "source": [
    "**Exercise:**\n",
    "\n",
    "- Use `ppf` to calculate the interquartile range $q_{75}− q_{25}$ for a Gaussian/Normal distribution   \n",
    "\n",
    "- Bonus: From the above definition, it is clear that:\n",
    "\n",
    "$$\n",
    "p(a < x < b\\,| \\,\\mu, \\sigma) = P(b \\, | \\,\\mu, \\sigma)-P(a \\,| \\, \\mu, \\sigma)\n",
    "$$\n",
    "\n",
    "Derive the probability that $p(\\mu - M\\,\\sigma < x < \\mu + M \\, \\sigma)$ for M = 1, 2, 3 and calculates its values with `scipy`. \n"
   ]
  },
  {
   "cell_type": "code",
   "execution_count": 79,
   "metadata": {},
   "outputs": [
    {
     "data": {
      "text/plain": [
       "array([-0.67448975,  0.67448975])"
      ]
     },
     "execution_count": 79,
     "metadata": {},
     "output_type": "execute_result"
    }
   ],
   "source": [
    "# Answer\n",
    "n.ppf([0.25, 0.75])"
   ]
  },
  {
   "cell_type": "code",
   "execution_count": 81,
   "metadata": {},
   "outputs": [
    {
     "name": "stdout",
     "output_type": "stream",
     "text": [
      "q_75 and q_25 are -0.674 , 0.674\n",
      "The interquartile range is 1.349\n"
     ]
    }
   ],
   "source": [
    "# Interquartile\n",
    "print('q_75 and q_25 are %.3f , %.3f' %(n.ppf(0.25), n.ppf(0.75)) )\n",
    "print('The interquartile range is %.3f' % (n.ppf(0.75)- n.ppf(0.25)) )"
   ]
  },
  {
   "cell_type": "markdown",
   "metadata": {},
   "source": [
    "The interquartile range is a bit larger than 1 $\\sigma$"
   ]
  },
  {
   "cell_type": "markdown",
   "metadata": {},
   "source": [
    "**Answer from BONUS**:    \n",
    "If we write the probability explicitly explicitly, we have:\n",
    "\n",
    "$$\n",
    "p(\\mu - M\\,\\sigma< x < \\mu + M\\,\\sigma \\,| \\,\\mu, \\sigma) = \\frac{1}{2}~\\left( 1 + erf \\left( \\frac{|M|}{\\sqrt{2}} \\right)  \\right) - \\frac{1}{2}~\\left( 1 - erf \\left( \\frac{|M|}{\\sqrt{2}} \\right)  \\right) = erf(M/\\sqrt{2})\n",
    "$$"
   ]
  },
  {
   "cell_type": "code",
   "execution_count": 82,
   "metadata": {},
   "outputs": [
    {
     "name": "stdout",
     "output_type": "stream",
     "text": [
      "p(mu- 1sigma < x < mu+1sigma) = 0.6827 \n",
      "p(mu- 2sigma < x < mu+2sigma) = 0.9545 \n",
      "p(mu- 3sigma < x < mu+3sigma) = 0.9973 \n"
     ]
    }
   ],
   "source": [
    "from scipy.special import erf\n",
    "\n",
    "for M in [1,2,3]:\n",
    "    print(r'p(mu- %.isigma < x < mu+%.isigma) = %.4f ' %(M, M, erf(M/np.sqrt(2))))"
   ]
  },
  {
   "cell_type": "code",
   "execution_count": 88,
   "metadata": {},
   "outputs": [
    {
     "name": "stdout",
     "output_type": "stream",
     "text": [
      "p(mu- 1sigma < x < mu+1sigma) = 0.6827 \n",
      "p(mu- 2sigma < x < mu+2sigma) = 0.9545 \n",
      "p(mu- 3sigma < x < mu+3sigma) = 0.9973 \n"
     ]
    }
   ],
   "source": [
    "# Calculating this using the cdf\n",
    "for M in [1,2,3]:\n",
    "    print(r'p(mu- %.isigma < x < mu+%.isigma) = %.4f ' %(M, M, n.cdf(M) - n.cdf(-M)))"
   ]
  },
  {
   "cell_type": "code",
   "execution_count": null,
   "metadata": {},
   "outputs": [],
   "source": [
    "plt.fill_betweenx()"
   ]
  },
  {
   "cell_type": "code",
   "execution_count": 107,
   "metadata": {},
   "outputs": [
    {
     "data": {
      "image/png": "[encoded data removed]",
      "text/plain": [
       "<Figure size 1080x360 with 3 Axes>"
      ]
     },
     "metadata": {
      "needs_background": "light"
     },
     "output_type": "display_data"
    }
   ],
   "source": [
    "x = np.linspace(-5,5, 100)\n",
    "f, ax = plt.subplots(ncols=3, figsize=(15,5))\n",
    "\n",
    "for i in [1,2,3]:\n",
    "    ax[i-1].plot(x, n.pdf(x), color='black')\n",
    "    ax[i-1].vlines(-i, 0, n.pdf(i))\n",
    "    ax[i-1].vlines(i, 0, n.pdf(i))\n",
    "    ax[i-1].fill_between(x[49-10*i:49+11*i], 0, g.pdf(x[49-10*i:49+11*i]), color='orange', alpha=0.6)\n",
    "    ax[i-1].set_title('$\\pm %i \\sigma$'%i )"
   ]
  },
  {
   "cell_type": "code",
   "execution_count": null,
   "metadata": {},
   "outputs": [],
   "source": []
  },
  {
   "cell_type": "markdown",
   "metadata": {},
   "source": [
    "## Intermezo: Descriptive statistics\n",
    "\n",
    "This section is *not* mandatory if you fulfill the prerequisite for this course. However, if you do not feel confortable with the concepts we have reviewed above, consider runing the following notebooks:     \n",
    "\n",
    "- To review the **properties of probability distribution functions** (mean, standard deviation, variance, skewness, ...), go to the notebook [Descriptive_statistics_01.ipynb](Descriptive_statistics_01.ipynb).    \n",
    "\n",
    "- To **better understand visually the link between PDF and CDF**, and do an interactive tour of the characteristics and properties of **common distributions** encountered in science, then, run the Notebook [Descriptive_statistics_02.ipynb](Descriptive_statistics_02.ipynb). "
   ]
  },
  {
   "cell_type": "markdown",
   "metadata": {},
   "source": [
    "## Summary \n",
    "\n",
    "We have reviewed basic statistical concepts and quantities, and how to use them in python. In particular: \n",
    "- basic probability concepts: a sample, an event, a realisation, a conditional probability (i.e. $p(A|B)$ is probability of $A$ given $B$). \n",
    "- the probability combination rules. \n",
    "- what is a **random variable** (this is a key concept!), and how to generate and manipulate random variable with numpy: `np.random.rand()`, `np.random.seed(value)`, `np.random.randint()`, `np.random.permutation()`\n",
    "- Probability density function (pdf) and Cumulative density function (CDF) (You *need* to understand what are these functions very well !)\n",
    "- How to manipulate distributions with `scipy.stats`. For example, to work with a gaussian, and subsequently calculate pdf, cdf, ... drawn from a gaussian distribution, : `g = scipy.stats.norm()` followed by `g.pdf(x)` to get a pdf sampled for values x (single value or array), `g.cdf(x)` for the cdf(), ...\n",
    "- How to calculate an interquartile range based on the cdf of a function, using the inverse of a cdf, the ppf of percent point function (`scipy.stats.mydistribution.ppf()`). \n",
    "- Use `scipy.special()` to calculate special function, in particular `scipy.special.erf()` which is the Gauss error function.  "
   ]
  },
  {
   "cell_type": "markdown",
   "metadata": {},
   "source": [
    "## X. References and supplementary material: <a class=\"anchor\" id=\"X\"></a>\n",
    "\n",
    "* **Chapter 1** (1.2), **Chapter 3** (3.1, 3.2) and **Chapter 4** (4.1 to 4.3) of the book <a class=\"anchor\" id=\"book\"></a> *Statistics, data mining and Machine learning in astronomy* by Z. Ivezic et al. in Princeton Series in Modern Astronomy. \n",
    "\n",
    "* Youtube video about Random variable and PDF: https://www.youtube.com/watch?v=9KVR1hJ8SxI : First 7 minutes\n",
    "* Youtube video about CDF and its link to PDF: https://www.youtube.com/watch?v=4BswLMKgXzU : First 6 minutes\n",
    "\n",
    "* *All of statistics: a concise course in statistical inference*, Wasserman 2004  <a class=\"anchor\" id=\"WAS04\"></a>(see also errata in http://www.stat.cmu.edu/~larry/all-of-statistics/).  \n",
    "\n",
    "* *Statistics in theory and Practice*, Lupton 1993 <a class=\"anchor\" id=\"LUP93\"></a>: **Chapter 2**\n",
    "\n",
    "* [Numerical recipes](http://www2.units.it/ipl/students_area/imm2/files/Numerical_Recipes.pdf) by Press et al. Cambridge University press: **Chapter 15**, **Chapter 18.7** \n",
    "\n"
   ]
  }
 ],
 "metadata": {
  "anaconda-cloud": {},
  "kernelspec": {
   "display_name": "Python 3",
   "language": "python",
   "name": "python3"
  },
  "language_info": {
   "codemirror_mode": {
    "name": "ipython",
    "version": 3
   },
   "file_extension": ".py",
   "mimetype": "text/x-python",
   "name": "python",
   "nbconvert_exporter": "python",
   "pygments_lexer": "ipython3",
   "version": "3.7.7"
  }
 },
 "nbformat": 4,
 "nbformat_minor": 4
}
