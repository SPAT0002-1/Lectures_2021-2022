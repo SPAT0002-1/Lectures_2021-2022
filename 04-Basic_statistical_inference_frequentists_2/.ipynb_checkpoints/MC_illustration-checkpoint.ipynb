{
 "cells": [
  {
   "cell_type": "markdown",
   "metadata": {},
   "source": [
    "# Illustration of the Monte-Carlo method estimating pdf\n",
    "\n",
    "\n",
    "Let's imaging that you which to study $z = \\phi(x,y)$. If you have a generative model for $x$ and $y$ (i.e. you know / can assume their distribution $h(x)$, $h(y)$), then you can draw a virtually infinite sample of points from $h(x)$ and h(y) to derive the pdf of the combined RV. "
   ]
  },
  {
   "cell_type": "code",
   "execution_count": 1,
   "metadata": {},
   "outputs": [],
   "source": [
    "import numpy as np\n",
    "import scipy.stats\n",
    "import matplotlib.pyplot as plt\n",
    "%matplotlib inline\n",
    "from ipywidgets import interact"
   ]
  },
  {
   "cell_type": "code",
   "execution_count": 45,
   "metadata": {},
   "outputs": [],
   "source": [
    "def MCpdf(N):\n",
    "    '''\n",
    "    Illustrate the case of the sum of 2 RV\n",
    "    N: float; size of the sample\n",
    "    '''\n",
    "    a, siga = 5, 1\n",
    "    b, sigb = 3, 3\n",
    "    n1 = scipy.stats.norm(a, siga)\n",
    "    n2 = scipy.stats.norm(b, sigb)\n",
    "\n",
    "# Same with a Uniform distribution \n",
    "#    width_a = siga * np.sqrt(12)\n",
    "#    width_b = sigb * np.sqrt(12)\n",
    "#    n1 = scipy.stats.uniform(a-width_a/2., a+width_a/2.)\n",
    "#    n2 = scipy.stats.uniform(b-width_b/2., b+width_b/2.)\n",
    "#    x = np.linspace(-10,10, 200)\n",
    "    s1 = n1.rvs(N)\n",
    "    s2 = n2.rvs(N)\n",
    "    z = s1 + s2\n",
    "    f, ax = plt.subplots(figsize=(15,5), ncols=3)\n",
    "    if N > 1000:\n",
    "        nbins = N//100\n",
    "    elif N > 1.e5:\n",
    "        nbins=1000\n",
    "    else:\n",
    "        nbins= N // 10\n",
    "    z_hist = ax[2].hist(z, bins=nbins, density=True, alpha=0.4)\n",
    "    a_hist = ax[0].hist(s1, bins=nbins, alpha=0.3)\n",
    "    b_hist = ax[1].hist(s2, bins=nbins, alpha=0.3)\n",
    "    ax[2].text(8, 0.125, r'$\\bar{c} = $ %.3f'%z.mean(), size=16)\n",
    "    ax[2].set_xlim(-5,20)\n",
    "    [ax[i].set_xlim(-10,10) for i in range(2)]\n",
    "    ax[0].set_title('a: $\\mu_a=%i , \\sigma_a = %i$'%(a, siga), size=16)\n",
    "    ax[1].set_title('b: $\\mu_b=%i , \\sigma_b = %i$'%(b, sigb), size=16)\n",
    "    ax[2].set_title('c = a+b', size=16)\n",
    "    return ax"
   ]
  },
  {
   "cell_type": "code",
   "execution_count": 46,
   "metadata": {},
   "outputs": [
    {
     "data": {
      "application/vnd.jupyter.widget-view+json": {
       "model_id": "f9bd02b2b9ab4854bff4c1cf2fc9c622",
       "version_major": 2,
       "version_minor": 0
      },
      "text/plain": [
       "interactive(children=(IntSlider(value=4910, description='N', max=10000, min=10, step=100), Output()), _dom_cla…"
      ]
     },
     "metadata": {},
     "output_type": "display_data"
    },
    {
     "data": {
      "text/plain": [
       "<function __main__.MCpdf>"
      ]
     },
     "execution_count": 46,
     "metadata": {},
     "output_type": "execute_result"
    }
   ],
   "source": [
    "interact(MCpdf, N=(10,10000,100) )  # Do not pick too large upper bound "
   ]
  },
  {
   "cell_type": "code",
   "execution_count": 71,
   "metadata": {},
   "outputs": [],
   "source": [
    "def MCpdf_uni(N):\n",
    "    '''\n",
    "    Illustrate the case of the sum of 2 RV but considering a uniform distribution in the first place \n",
    "    N: float; size of the sample\n",
    "    '''\n",
    "    a, siga = 5, 1\n",
    "    b, sigb = 3, 3\n",
    "\n",
    "# Same with a Uniform distribution \n",
    "    width_a = siga * np.sqrt(12)\n",
    "    width_b = sigb * np.sqrt(12)\n",
    "    n1 = scipy.stats.uniform(a-width_a/2., width_a)   # loc=lower bound of uni ; scale = width\n",
    "    n2 = scipy.stats.uniform(b-width_b/2., width_b)\n",
    "#    x = np.linspace(-10,10, 200)\n",
    "    s1 = n1.rvs(N)\n",
    "    s2 = n2.rvs(N)\n",
    "    z = s1 + s2\n",
    "    f, ax = plt.subplots(figsize=(15,5), ncols=3)\n",
    "    if N > 1000:\n",
    "        nbins = N//100\n",
    "    elif N > 1.e5:\n",
    "        nbins=1000\n",
    "    else:\n",
    "        nbins= N // 10\n",
    "    z_hist = ax[2].hist(z, bins=nbins, density=True, alpha=0.4)\n",
    "    a_hist = ax[0].hist(s1, bins=nbins, alpha=0.3)\n",
    "    b_hist = ax[1].hist(s2, bins=nbins, alpha=0.3)\n",
    "    ax[2].text(8, 0.1, r'$\\bar{c} = $ %.3f'%z.mean(), size=16)\n",
    "    ax[2].set_xlim(-5,20)\n",
    "    [ax[i].set_xlim(-10,10) for i in range(2)]\n",
    "    ax[0].set_title('a: $\\mu_a=%i , \\sigma_a = %i$'%(a, siga), size=16)\n",
    "    ax[1].set_title('b: $\\mu_b=%i , \\sigma_b = %i$'%(b, sigb), size=16)\n",
    "    ax[2].set_title('c = a+b', size=16)\n",
    "    print((min(s1)+ max(s1)) / 2. )\n",
    "    print(\"sigma_c =%.2f \", np.std(z))\n",
    "    return ax"
   ]
  },
  {
   "cell_type": "code",
   "execution_count": 72,
   "metadata": {},
   "outputs": [
    {
     "data": {
      "application/vnd.jupyter.widget-view+json": {
       "model_id": "cf1ffddfd2fa4a86831a9afe390d8da7",
       "version_major": 2,
       "version_minor": 0
      },
      "text/plain": [
       "interactive(children=(IntSlider(value=4100, description='N', max=10000, min=100, step=1000), Output()), _dom_c…"
      ]
     },
     "metadata": {},
     "output_type": "display_data"
    },
    {
     "data": {
      "text/plain": [
       "<function __main__.MCpdf_uni>"
      ]
     },
     "execution_count": 72,
     "metadata": {},
     "output_type": "execute_result"
    }
   ],
   "source": [
    "interact(MCpdf_uni, N=(100,10000,1000) )"
   ]
  },
  {
   "cell_type": "code",
   "execution_count": 70,
   "metadata": {},
   "outputs": [
    {
     "data": {
      "text/plain": [
       "3.1622776601683795"
      ]
     },
     "execution_count": 70,
     "metadata": {},
     "output_type": "execute_result"
    }
   ],
   "source": [
    "np.sqrt(10)"
   ]
  },
  {
   "cell_type": "code",
   "execution_count": null,
   "metadata": {},
   "outputs": [],
   "source": []
  }
 ],
 "metadata": {
  "kernelspec": {
   "display_name": "Python [conda env:intel-python3]",
   "language": "python",
   "name": "conda-env-intel-python3-py"
  },
  "language_info": {
   "codemirror_mode": {
    "name": "ipython",
    "version": 3
   },
   "file_extension": ".py",
   "mimetype": "text/x-python",
   "name": "python",
   "nbconvert_exporter": "python",
   "pygments_lexer": "ipython3",
   "version": "3.7.7"
  }
 },
 "nbformat": 4,
 "nbformat_minor": 4
}
