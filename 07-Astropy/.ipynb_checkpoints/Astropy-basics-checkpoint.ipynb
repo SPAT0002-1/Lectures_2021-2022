{
 "cells": [
  {
   "cell_type": "markdown",
   "metadata": {},
   "source": [
    "# Introduction to Astropy"
   ]
  },
  {
   "cell_type": "markdown",
   "metadata": {},
   "source": [
    "## Table of Content\n",
    "\n",
    "I. [Viewing and manipulating FITS images](#I.-Viewing-and-manipulating-FITS-images)     \n",
    "- I.1 Opening [FITS files, loading the image data, exploring the header](#I.1-Opening-FITS-files,-loading-the-image-data,-exploring-the-header)\n",
    "- I.2 [Viewing the image and getting basic statistics](#I.2-Viewing-the-image-data-and-getting-basic-statistics)\n",
    "- I.3 [Displaying the image with log scale](#I.3-Displaying-the-image-with-a-logarithmic-scale)\n",
    "- I.4 [Basic image math: image stacking](#I.4-Basic-image-math:-image-stacking)\n",
    "- I.5 [Wrinting image data to a fits file](#I.5-Writing-image-data-to-a-FITS-file)\n",
    "\n",
    "II. [Edit a FITS header](#II.-Edit-a-FITS-header)    \n",
    "- II.1 [Accessing and editing](#II.1-Access-and-edit-the-header)\n",
    "- II.2 [Creating a brand new fits image file](#II.2-Creating-a-brand-new-fits-image-file:)\n",
    "- II.3 [HISTORY-and-COMMENT-cards](#II.3-HISTORY-and-COMMENT-cards:)    \n",
    "\n",
    "III. [Fits Tables](#III.-Fits-Tables)\n",
    "- III.1 [Example](#III.1-Example)\n",
    "- III.2 [What if my table is not fits format?](#III.2-What-if-my-table-is-not-fits-format-?)\n",
    "\n",
    "IV. [Image coordinates](#Image-coordinates)\n",
    "- IV.1 [Overlaying-image-coordinates](#IV.1-Overlaying-image-coordinates)\n",
    "- IV.2 [Basic operations with coordinates](#IV.2-Basic-operations-with-coordinates)\n",
    "- IV.3 [Coordinates and images](#IV.3-Coordinates-and-images)\n",
    "\n",
    "V. [Use of \"Quantities\" for astrophysical calculation](#V.-Use-of-\"Quantities\"-for-astrophysical-calculation)\n",
    "\n",
    "XX. [References](#XX-References)\n"
   ]
  },
  {
   "cell_type": "code",
   "execution_count": null,
   "metadata": {
    "collapsed": true
   },
   "outputs": [],
   "source": [
    "# As usual, we start with some imports\n",
    "%matplotlib inline: \n",
    "import numpy as np\n",
    "import matplotlib.pyplot as plt"
   ]
  },
  {
   "cell_type": "markdown",
   "metadata": {},
   "source": [
    "## I. Viewing and manipulating FITS images"
   ]
  },
  {
   "cell_type": "markdown",
   "metadata": {},
   "source": [
    "Originally, reading and manupulating fits file was included in the package `pyfits` developped by stsci. You may still find that this is the way to do when skimming the internet. This is surely not a bad package to use (most of the early astronomical python development come from stsci ) ... but `astropy` includes that facility as well within a larger growing  astronomical working environment. Hence, we will look here how to do within `astropy.io.fits`. The commands with `pyfits` are essentially the same. \n",
    "\n",
    "``astropy.io.fits`` provides a lot of flexibility for reading FITS  files and headers, but most of the time the convenience functions are the easiest way to access the data. "
   ]
  },
  {
   "cell_type": "code",
   "execution_count": null,
   "metadata": {
    "collapsed": true
   },
   "outputs": [],
   "source": [
    "# The first step is to import fits\n",
    "from astropy.io import fits"
   ]
  },
  {
   "cell_type": "markdown",
   "metadata": {},
   "source": [
    "### I.1 Opening FITS files, loading the image data, exploring the header\n",
    "\n",
    "\n",
    "``fits.getdata()`` reads just the  data from a FITS file, but with the `header=True` keyword argument will also read the header. "
   ]
  },
  {
   "cell_type": "code",
   "execution_count": null,
   "metadata": {
    "collapsed": true
   },
   "outputs": [],
   "source": [
    "image_file = 'HorseHead.fits'\n",
    "get_data, get_header = fits.getdata(image_file, header=True)"
   ]
  },
  {
   "cell_type": "markdown",
   "metadata": {},
   "source": [
    "You can also add an 'ext' parameter which specifies the extension of the fits file you are interested in: \n",
    "i.e. This can be the extension number:\n",
    "```\n",
    "        getdata('in.fits', 0)      # the primary header\n",
    "        getdata('in.fits', 2)      # the second extension\n",
    "        getdata('in.fits', ext=2)  # the second extension\n",
    "```\n",
    "But the can also be the ``EXTNAME`` value (if unique) (e.g. for HST data):\n",
    "```\n",
    "        getdata('in.fits', 'sci')\n",
    "        getdata('in.fits', extname='sci')  # equivalent\n",
    "```"
   ]
  },
  {
   "cell_type": "markdown",
   "metadata": {},
   "source": [
    "For those unfamiliar with FITS headers, they consist of a list of 80 byte `cards`, where a card contains a keyword, a value, and a comment. The keyword and comment must both be strings, whereas the value can be a string or an integer, floating point number, complex number, or True/False. Keywords are usually unique within a header, except in a few special cases."
   ]
  },
  {
   "cell_type": "markdown",
   "metadata": {},
   "source": [
    "We can also open the fits and see what it contains. The function `fits.open()` is a higher level function that allows one to perform more advanced operations on a fits file. \n",
    "You'll see that the real structure can be a bit more complicated than just a header and a data set in binary format. "
   ]
  },
  {
   "cell_type": "code",
   "execution_count": null,
   "metadata": {},
   "outputs": [],
   "source": [
    "hdu_list = fits.open(image_file)\n",
    "hdu_list.info()"
   ]
  },
  {
   "cell_type": "markdown",
   "metadata": {},
   "source": [
    "The fits is made of \"HDU\" or \"Header Data Units\". The function `open()` provides a list of HDU objects.  An HDU (Header Data Unit) is the highest level component of the FITS file structure, consisting of a header and (typically) a data array or table. After the above open call, `hdulist[0]` is the primary HDU, `hdulist[1]` is the first extension HDU, etc (if there are any extensions), and so on.\n",
    "\n",
    "**NOTE:** The open() function will seamlessly open FITS files that have been compressed with gzip, bzip2 or pkzip."
   ]
  },
  {
   "cell_type": "markdown",
   "metadata": {},
   "source": [
    "Generally the image information is located in the `PRIMARY` block. The blocks are numbered and can be accessed by indexing `hdu_list`. The scientific data are *not always* in the primary block. Similarly, all the keywords are not stored in the primary HDU. So, remember that if you do not find a keyword of interest in the header (especially while doing `getdata()`), this could simply be because it is not in the pimary header. "
   ]
  },
  {
   "cell_type": "markdown",
   "metadata": {},
   "source": [
    "Each element of an HDUList is an HDU object with `.header` and `.data` attributes, which can be used to access the header and data portions of the HDU."
   ]
  },
  {
   "cell_type": "code",
   "execution_count": null,
   "metadata": {
    "collapsed": true
   },
   "outputs": [],
   "source": [
    "image_data = hdu_list[0].data"
   ]
  },
  {
   "cell_type": "code",
   "execution_count": null,
   "metadata": {
    "collapsed": true
   },
   "outputs": [],
   "source": [
    "header_data = hdu_list[0].header"
   ]
  },
  {
   "cell_type": "markdown",
   "metadata": {},
   "source": [
    "Your data are now stored as a 2-D numpy array.  Want to know the dimensions of the image?  Just look at the `shape` of the array."
   ]
  },
  {
   "cell_type": "code",
   "execution_count": null,
   "metadata": {},
   "outputs": [],
   "source": [
    "print(type(image_data))\n",
    "print(image_data.shape)"
   ]
  },
  {
   "cell_type": "markdown",
   "metadata": {},
   "source": [
    "While your header is saved in a Header object (that has basically the same structure as a dictionary)"
   ]
  },
  {
   "cell_type": "code",
   "execution_count": null,
   "metadata": {},
   "outputs": [],
   "source": [
    "print type(header_data)"
   ]
  },
  {
   "cell_type": "markdown",
   "metadata": {},
   "source": [
    "**Note**: You can also access the extension by its extension name (specified in the EXTNAME keyword) instead of its ID in the list, i.e. `hdu_list['Primary'].data`\n",
    "If there is more than one extension with the same `EXTNAME`, the `EXTVER` value needs to be specified along with the `EXTNAME` as a tuple; e.g.: `scidata = hdulist['sci',2].data`"
   ]
  },
  {
   "cell_type": "markdown",
   "metadata": {},
   "source": [
    "At this point, we can just close the FITS file.  We have stored everything we wanted to a variable."
   ]
  },
  {
   "cell_type": "code",
   "execution_count": null,
   "metadata": {
    "collapsed": true
   },
   "outputs": [],
   "source": [
    "hdu_list.close()"
   ]
  },
  {
   "cell_type": "markdown",
   "metadata": {},
   "source": [
    "When you close(), the header is still available ... but not always the data. \n",
    "\n"
   ]
  },
  {
   "cell_type": "markdown",
   "metadata": {},
   "source": [
    "**Note:** \n",
    "\n",
    "If you don't need to examine the FITS header, you can call `fits.getdata` to bypass the previous steps."
   ]
  },
  {
   "cell_type": "markdown",
   "metadata": {},
   "source": [
    "### I.2 Viewing the image data and getting basic statistics"
   ]
  },
  {
   "cell_type": "code",
   "execution_count": null,
   "metadata": {},
   "outputs": [],
   "source": [
    "plt.imshow(image_data, cmap='hot')\n",
    "plt.colorbar()\n",
    "\n",
    "# To see more color maps\n",
    "# http://wiki.scipy.org/Cookbook/Matplotlib/Show_colormaps\n",
    "# See also https://jakevdp.github.io/blog/2014/10/16/how-bad-is-your-colormap/"
   ]
  },
  {
   "cell_type": "markdown",
   "metadata": {},
   "source": [
    "This is nice, but we have to be careful as the x-y scale appearing here is a bit misleading. Indeed, remember that an array is indexed `[row, columns]`, hence the first index corresponds to `y` and the second to `x`. Let's slice the above image:"
   ]
  },
  {
   "cell_type": "code",
   "execution_count": null,
   "metadata": {},
   "outputs": [],
   "source": [
    "f, ax = plt.subplots(ncols=2, figsize=(10,5))\n",
    "ax[0].imshow(image_data[:, 0:300], cmap='hot')\n",
    "ax[1].imshow(image_data[300:600, :], cmap='hot')"
   ]
  },
  {
   "cell_type": "markdown",
   "metadata": {},
   "source": [
    "The bright star on bottom of the left panel is apparently located at `(170, 738)`, but to get its value you have to look at `image_data[738, 170]`. To avoid doing this mantal change, one sometimes transpose the array before working with it. "
   ]
  },
  {
   "cell_type": "code",
   "execution_count": null,
   "metadata": {},
   "outputs": [],
   "source": [
    "plt.imshow(image_data, cmap='gray')\n",
    "plt.plot(170, 738, 'd', color='green')\n",
    "plt.plot(738, 170, 'x', color='red')\n",
    "print 'value at at the star position (diamond)', image_data[738, 170]\n",
    "print 'value at at the flipped position (cross)', image_data[170, 738]"
   ]
  },
  {
   "cell_type": "markdown",
   "metadata": {},
   "source": [
    "In summary, to access the values in the array, you have to swap between `x` and `y` positions compared to the x,y you see with `plt.imshow()`, or w.r.t. the position you would measure with another viewer (e.g. `ds9`, `qfitsview`, `aladin`). Note also that the pixel positions given by these viewers start at (1,1) (so you have to subtract 1). WIth those viewers, your image will also appear upside-down compared to what you see with imshow() (unless you work with world coordinates). "
   ]
  },
  {
   "cell_type": "markdown",
   "metadata": {},
   "source": [
    "Now let's come back to manipulating our image. \n",
    "You can e.g. get some basic statistics about your image "
   ]
  },
  {
   "cell_type": "code",
   "execution_count": null,
   "metadata": {
    "collapsed": true
   },
   "outputs": [],
   "source": [
    "print 'Min:', np.min(image_data) \n",
    "print 'Max:', np.max(image_data) \n",
    "print 'Mean:', np.mean(image_data) \n",
    "print 'Stdev:', np.std(image_data) "
   ]
  },
  {
   "cell_type": "markdown",
   "metadata": {},
   "source": [
    "You can also plot hisograms of some regions of the image. \n",
    "To make a histogram with `matplotlib.pyplot.hist()`, you need to cast the data from a 2-D to array to something one dimensional.    \n",
    "\n",
    "For that purpose, you can use e.g. the iterable python object `img_data.flat`."
   ]
  },
  {
   "cell_type": "code",
   "execution_count": null,
   "metadata": {},
   "outputs": [],
   "source": [
    "print(type(image_data.flat))\n",
    "NBINS = 1000\n",
    "histogram = plt.hist(image_data.flat, NBINS)"
   ]
  },
  {
   "cell_type": "markdown",
   "metadata": {},
   "source": [
    "### I.3 Displaying the image with a logarithmic scale\n",
    "\n",
    "Want to use a logarithmic color scale? To do so we need to load the `LogNorm` object from `matplotlib`."
   ]
  },
  {
   "cell_type": "code",
   "execution_count": null,
   "metadata": {},
   "outputs": [],
   "source": [
    "from matplotlib.colors import LogNorm\n",
    "plt.imshow(image_data, cmap='gray', norm=LogNorm())\n",
    "\n",
    "# I chose the tick marks based on the histogram above\n",
    "cbar = plt.colorbar(ticks=[5.e3,1.e4,2.e4])\n",
    "cbar.ax.set_yticklabels(['5,000','10,000','20,000'])"
   ]
  },
  {
   "cell_type": "markdown",
   "metadata": {},
   "source": [
    "### I.4 Basic image math: image stacking\n",
    "\n",
    "You can perform math with the image data like any other numpy array.  In this particular example, we will stack several images of M13 taken with a ~10'' telescope.\n",
    "\n",
    "Here, we'll open a series of FITS files and store the data in a list, which will be named `image_concat`.\n"
   ]
  },
  {
   "cell_type": "code",
   "execution_count": null,
   "metadata": {
    "collapsed": true
   },
   "outputs": [],
   "source": [
    "image_list = ['M13_blue_000'+n+'.fits' for n in ['1','2','3','4','5'] ]\n",
    "# The short way  (remember that it is better to use list comprehension)\n",
    "image_concat = [ fits.getdata(image) for image in image_list]\n",
    "\n",
    "# The long way\n",
    "#image_concat = []\n",
    "#for image in image_list:\n",
    "#    image_concat.append(fits.getdata(image))"
   ]
  },
  {
   "cell_type": "markdown",
   "metadata": {},
   "source": [
    "Now I'll stack the images by summing my concatenated list and then visualize the histogram to decide on the best stretch for vizualisation."
   ]
  },
  {
   "cell_type": "code",
   "execution_count": null,
   "metadata": {},
   "outputs": [],
   "source": [
    "final_image = np.sum(image_concat, axis=0)\n",
    "image_hist = plt.hist(final_image.flat, 1000)"
   ]
  },
  {
   "cell_type": "code",
   "execution_count": null,
   "metadata": {},
   "outputs": [],
   "source": [
    "plt.imshow(final_image, cmap='gray', vmin=2.e3, vmax=3.e3)\n",
    "plt.colorbar()"
   ]
  },
  {
   "cell_type": "markdown",
   "metadata": {},
   "source": [
    "### I.5 Writing image data to a FITS file\n",
    "\n",
    "This is easy to do with the `writeto()` method.\n",
    "You will receive an error if the file you are trying to write already exists. To avoid this/allow for overwritting, you should set the option `clobber=True`."
   ]
  },
  {
   "cell_type": "code",
   "execution_count": null,
   "metadata": {
    "collapsed": true
   },
   "outputs": [],
   "source": [
    "outfile = 'stacked_M13_blue.fits'\n",
    "\n",
    "hdu = fits.PrimaryHDU(final_image)\n",
    "hdu.writeto(outfile, clobber=True)"
   ]
  },
  {
   "cell_type": "markdown",
   "metadata": {},
   "source": [
    "#### Exercise:\n",
    "\n",
    "- Select several regions of the image which are apparently sky regions. \n",
    "- For simplicity, let's assume that the background is constant over the whole image and subtract the background from the image. \n",
    "- Plot the histogram of pixel values for the background subtracted image and display this background subtracted image with adequate cuts.\n",
    "- Optionally, plot a slice of the frame that crosses the highest density peak of stars in M13."
   ]
  },
  {
   "cell_type": "markdown",
   "metadata": {},
   "source": [
    "## II. Edit a FITS header\n",
    "\n",
    "We will now see how to edit a FITS header, and then write it back out to disk. For this example we're going to change the `OBJECT` keyword.\n"
   ]
  },
  {
   "cell_type": "markdown",
   "metadata": {},
   "source": [
    "### II.1 Access and edit the header\n",
    "\n",
    "As we have seen before, there is basically three equivalent ways to access the header: \n",
    "\n",
    "1. Through the hdulist (element 0 if you want the header associated with the first HDU): \n",
    "``` python\n",
    "header = hdulist[0].header\n",
    "```\n",
    "\n",
    "\n",
    "2. Using the convenience function getdata, specifying the option `header=True`, and also `ext=0`. Hence: \n",
    "``` python\n",
    "data, header = fits.getdata('input_file.fits', header=True, ext=0)\n",
    "```\n",
    "\n",
    "3. Using a convenience function `fits.getheader()`, specifying the HDU extension:\n",
    "``` python\n",
    "header = fits.getheader('input_file.fits', 0)\n",
    "```\n",
    "\n",
    "Those functions/attribute return a Header instance, another Astropy object. To get the value associated with a header keyword, you do as you do to access elements of a python dictionary:\n",
    "`header['OBJECT']`. "
   ]
  },
  {
   "cell_type": "code",
   "execution_count": null,
   "metadata": {
    "collapsed": true
   },
   "outputs": [],
   "source": [
    "data, header = fits.getdata('stacked_M13_blue.fits', ext=0, header=True)\n",
    "header"
   ]
  },
  {
   "cell_type": "markdown",
   "metadata": {},
   "source": [
    "Although keyword names are always in upper case inside the FITS file, specifying a keyword name with Astropy is case-insensitive, for the user’s convenience.\n",
    "\n",
    "This header is filled only with default values, we can add some cards and e.g. add the correct object name. \n",
    "\n",
    "You could do:\n",
    "'''\n",
    "header['OBJECT'] = 'M31'\n",
    "'''\n",
    "But as the header does not exist yet, you do not have any description of that keyword. If yo want to also add a description you may need to set a tuple value: "
   ]
  },
  {
   "cell_type": "code",
   "execution_count": null,
   "metadata": {
    "collapsed": true
   },
   "outputs": [],
   "source": [
    "header['OBJECT'] = ('M31', 'Object name')\n",
    "header"
   ]
  },
  {
   "cell_type": "markdown",
   "metadata": {},
   "source": [
    "Finally, we have to write out the FITS file. Again, the convenience  function for this is the most useful command to remember:"
   ]
  },
  {
   "cell_type": "code",
   "execution_count": null,
   "metadata": {
    "collapsed": true
   },
   "outputs": [],
   "source": [
    "fits.writeto('output_file.fits', data, header, clobber=True)"
   ]
  },
  {
   "cell_type": "markdown",
   "metadata": {},
   "source": [
    "The option `clobber = True` is needed to overwrite the file if already existing. "
   ]
  },
  {
   "cell_type": "markdown",
   "metadata": {},
   "source": [
    "If instead of using getdata, you have worked only with hdulist (and modified `data` and/or `header` instances), you can also save your new fits (with all its layers !) using: \n",
    "`hdulist.writeto('newfile.fits')`"
   ]
  },
  {
   "cell_type": "code",
   "execution_count": null,
   "metadata": {
    "collapsed": true
   },
   "outputs": [],
   "source": [
    "hdu_list = fits.open(image_file)\n",
    "hdu_list[0].data = hdu_list[0].data*1.5  # I perform a simple operation on the \"data\" of the first HDU\n",
    "hdu_list.writeto('new_file.fits', clobber=True)\n",
    "hdu_list.close()"
   ]
  },
  {
   "cell_type": "markdown",
   "metadata": {},
   "source": [
    "### II.2 Creating a brand-new fits image file:\n",
    "\n",
    "Imagine you have an array containing your data (e.g. a model PSF, a model sky, ...) that you want to save as a fits file. For simplicity here, we'll consider an arbitrary array:"
   ]
  },
  {
   "cell_type": "code",
   "execution_count": null,
   "metadata": {
    "collapsed": true
   },
   "outputs": [],
   "source": [
    "myarray = np.ones(shape=(20, 10))\n",
    "hdu = fits.PrimaryHDU(myarray)"
   ]
  },
  {
   "cell_type": "markdown",
   "metadata": {},
   "source": [
    "We then create a HDUList to contain the newly created primary HDU, and write to a new file:"
   ]
  },
  {
   "cell_type": "code",
   "execution_count": null,
   "metadata": {
    "collapsed": true
   },
   "outputs": [],
   "source": [
    "hdulist = fits.HDUList([hdu])\n",
    "hdulist.writeto('new.fits')"
   ]
  },
  {
   "cell_type": "markdown",
   "metadata": {},
   "source": [
    "In fact, Astropy even provides a shortcut for the last two lines to accomplish the same behavior: `hdu.writeto('new.fits')`"
   ]
  },
  {
   "cell_type": "markdown",
   "metadata": {},
   "source": [
    "### II.3 `HISTORY` and `COMMENT` cards:\n",
    "\n",
    "Some of the fits CARDS have different properties than the others. Normal cards are unique and should be no larger than 80 characters. \n",
    "For the `HISTORY` and `COMMENT` cards, each new entry will be appended after the previous one (i.e. those keywords can be seen as lists on multiple elements, while other keywords only have one element). "
   ]
  },
  {
   "cell_type": "code",
   "execution_count": null,
   "metadata": {
    "collapsed": true
   },
   "outputs": [],
   "source": [
    "header['COMMENT'] = 'Night was not photometric' \n",
    "\n",
    "# If you have \"datetime\"package installed, you may automatically add the date to the HISTORY card\n",
    "try:\n",
    "    from datetime import datetime\n",
    "    now = datetime.datetime.now()\n",
    "    header['HISTORY'] = 'I updated this file on '+now.strftime('%Y-%m-%d %H:%M:%S')\n",
    "except:\n",
    "    now = '2017-05-15'\n",
    "    header['HISTORY'] = 'I updated this file on '+now\n",
    "header"
   ]
  },
  {
   "cell_type": "code",
   "execution_count": null,
   "metadata": {
    "collapsed": true
   },
   "outputs": [],
   "source": [
    "header['COMMENT'] = 'Combination of 10 images'\n",
    "header['COMMENT'][2] = ''\n",
    "print header['COMMENT']"
   ]
  },
  {
   "cell_type": "code",
   "execution_count": null,
   "metadata": {
    "collapsed": true
   },
   "outputs": [],
   "source": [
    "header['COMMENT'][2] = 'Combination of 5 images'\n",
    "print header['COMMENT']"
   ]
  },
  {
   "cell_type": "markdown",
   "metadata": {},
   "source": [
    "### Exercise: \n",
    "\n",
    "Read in the file `stacked_M13_blue.fits` we wrote above, and add three header keywords/cards:\n",
    "\n",
    "1. 'RA' for the Right Ascension of M13\n",
    "2. 'DEC' for the Declination of M13\n",
    "3. 'COMMENT' where you specify that you added RA,DEC manually and give its source\n",
    "\n",
    "then write the updated header back out to a new file. \n",
    "\n",
    "Right Ascension and Declination of M13:    \n",
    "(RA, DEC) = ('16h41m41.44s', '36d27m36.9s')"
   ]
  },
  {
   "cell_type": "markdown",
   "metadata": {},
   "source": [
    "## III. Fits Tables\n",
    "\n",
    "### III.1 Example\n",
    "\n",
    "We can proceed as for images to see the content of the file.  \n",
    "\n",
    "Here, we will use a big fits table corresponding to a Chandra X-ray observation \"chandra_events.fits\". Since the file is big, we will open with `memmap=True` to prevent RAM storage issues."
   ]
  },
  {
   "cell_type": "code",
   "execution_count": null,
   "metadata": {
    "collapsed": true
   },
   "outputs": [],
   "source": [
    "event_filename = 'chandra_events.fits'\n",
    "hdu_list = fits.open(event_filename, memmap=True)\n",
    "hdu_list.info()"
   ]
  },
  {
   "cell_type": "markdown",
   "metadata": {},
   "source": [
    "We are interested in reading `EVENTS`, which contains information about each X-ray photon that hit the detector. \n",
    "\n",
    "We see in the `Dimensions` columns of the output of `info` that the different HDU (from the second one) contains a certain number of \"rows\" (`R`) and \"columns\" (`C`). You can print the column name simply using the attribute `columns` : "
   ]
  },
  {
   "cell_type": "code",
   "execution_count": null,
   "metadata": {
    "collapsed": true
   },
   "outputs": [],
   "source": [
    "hdu_list[1].columns"
   ]
  },
  {
   "cell_type": "markdown",
   "metadata": {},
   "source": [
    "To access the table data (content of the columns) you can follow the same procedure as for images, with the possibility to select a specific column:"
   ]
  },
  {
   "cell_type": "code",
   "execution_count": null,
   "metadata": {
    "collapsed": true
   },
   "outputs": [],
   "source": [
    "event_data = hdu_list[1].data"
   ]
  },
  {
   "cell_type": "code",
   "execution_count": null,
   "metadata": {
    "collapsed": true
   },
   "outputs": [],
   "source": [
    "type(event_data)"
   ]
  },
  {
   "cell_type": "markdown",
   "metadata": {},
   "source": [
    "I can now for example plot a histogram of the events energy:"
   ]
  },
  {
   "cell_type": "code",
   "execution_count": null,
   "metadata": {
    "collapsed": true
   },
   "outputs": [],
   "source": [
    "he = plt.hist(event_data['energy'], bins=500)\n",
    "plt.show()"
   ]
  },
  {
   "cell_type": "code",
   "execution_count": null,
   "metadata": {
    "collapsed": true
   },
   "outputs": [],
   "source": [
    "# We ca now close the fits file\n",
    "hdu_list.close()"
   ]
  },
  {
   "cell_type": "markdown",
   "metadata": {},
   "source": [
    "### III.2 What if my table is not fits format ? \n",
    "\n",
    "Astropy provides a unified interface for reading and writing data in different formats. For many common cases this will simplify the process of file I/O and reduce the need to master the separate details of all the I/O packages within Astropy. "
   ]
  },
  {
   "cell_type": "code",
   "execution_count": null,
   "metadata": {},
   "outputs": [],
   "source": [
    "# A quick example\n",
    "from astropy.table import Table\n",
    "t = Table.read('SNdata.txt', format='ascii')\n"
   ]
  },
  {
   "cell_type": "code",
   "execution_count": null,
   "metadata": {},
   "outputs": [],
   "source": [
    "t[0:10]"
   ]
  },
  {
   "cell_type": "code",
   "execution_count": null,
   "metadata": {},
   "outputs": [],
   "source": [
    "t[2]['z']"
   ]
  },
  {
   "cell_type": "markdown",
   "metadata": {},
   "source": [
    "Note that this also works with reading/writing `tex` formats ! \n",
    "\n",
    "You should consult those two \"docs\" to know more about `Table` objects in astropy:   \n",
    "\n",
    "http://docs.astropy.org/en/stable/io/unified.html#table-io\n",
    "\n",
    "http://docs.astropy.org/en/stable/table/io.html"
   ]
  },
  {
   "cell_type": "markdown",
   "metadata": {},
   "source": [
    "## IV. Image coordinates\n",
    "\n",
    "### IV.1 Overlaying image coordinates\n",
    "\n",
    "To overlay coordinates on an image, we need to import the `WCS` module of `astropy.wcs`."
   ]
  },
  {
   "cell_type": "code",
   "execution_count": null,
   "metadata": {
    "collapsed": true
   },
   "outputs": [],
   "source": [
    "from astropy.wcs import WCS"
   ]
  },
  {
   "cell_type": "code",
   "execution_count": null,
   "metadata": {
    "collapsed": true
   },
   "outputs": [],
   "source": [
    "image_file = 'HorseHead.fits'\n",
    "data, header = fits.getdata(image_file, header=True)"
   ]
  },
  {
   "cell_type": "markdown",
   "metadata": {},
   "source": [
    "We can check in the header that information regarding coordinates exist in there. We have seen below that the list of keywords can sometimes be very long and that it can be tedious to find the keyword of interest. Fortunately, we can filter a bit using `*` to replace characters. Things related to \"object\" will start with an `O` ... so let's filter this way: "
   ]
  },
  {
   "cell_type": "code",
   "execution_count": null,
   "metadata": {},
   "outputs": [],
   "source": [
    "header['o*']"
   ]
  },
  {
   "cell_type": "markdown",
   "metadata": {},
   "source": [
    "Yeah ! Good guess, we see the object RA, DEC are there. But this is not enough, we need to know the complete coordinate transformation system.  \n",
    "Now, let's check that the coordinate system and transformation (pixels -> physical coordinates) is also defined in the header. \n",
    "\n",
    "This information is generally located in cards starting with \"C\": `CTYPE`, `CRPIX`, `CRVAL`, ... :"
   ]
  },
  {
   "cell_type": "code",
   "execution_count": null,
   "metadata": {},
   "outputs": [],
   "source": [
    "header['c*']"
   ]
  },
  {
   "cell_type": "code",
   "execution_count": null,
   "metadata": {},
   "outputs": [],
   "source": [
    "w = WCS(header)\n",
    "ax = plt.subplot(projection=w)   # This initialises your axes transforming it to WCS \n",
    "ax.imshow(data, origin='lower')\n",
    "ax.grid(color='white', ls='solid')\n",
    "ax.set_xlabel('Right Ascension (J2000)')\n",
    "ax.set_ylabel('Declination (J2000)')"
   ]
  },
  {
   "cell_type": "code",
   "execution_count": null,
   "metadata": {},
   "outputs": [],
   "source": [
    "w.get_axis_types"
   ]
  },
  {
   "cell_type": "markdown",
   "metadata": {},
   "source": [
    "You can overlay a different system of axis coordinates easily"
   ]
  },
  {
   "cell_type": "code",
   "execution_count": null,
   "metadata": {},
   "outputs": [],
   "source": [
    "w = WCS(header)\n",
    "ax = plt.subplot(projection=w)   # This initialises your axes transforming it to WCS \n",
    "ax.imshow(data, origin='lower')\n",
    "ax.grid(color='white', ls='solid')\n",
    "ax.set_xlabel('Right Ascension (J2000)')\n",
    "ax.set_ylabel('Declination (J2000)')\n",
    "overlay = ax.get_coords_overlay('galactic')\n",
    "overlay.grid(color='white', ls='dotted')\n",
    "overlay[0].set_axislabel('Galactic longitude')\n",
    "overlay[1].set_axislabel('Galactic latitude')"
   ]
  },
  {
   "cell_type": "markdown",
   "metadata": {},
   "source": [
    "You may want to refine a bit the labeling of the axis (let's drop here the galactic coordinates for clarity)"
   ]
  },
  {
   "cell_type": "code",
   "execution_count": null,
   "metadata": {},
   "outputs": [],
   "source": [
    "w = WCS(header)\n",
    "ax = plt.subplot(projection=w)\n",
    "ax.imshow(data, origin='lower')\n",
    "ax.grid(color='white', ls='solid')\n",
    "ax.set_xlabel('Right Ascension (J2000)')\n",
    "ax.set_ylabel('Declination (J2000)')\n",
    "\n",
    "cRA = ax.coords[0]\n",
    "cDEC = ax.coords[1]\n",
    "cRA.set_major_formatter('hh:mm:ss')\n",
    "cDEC.set_major_formatter('dd:mm:ss')\n",
    "plt.show()"
   ]
  },
  {
   "cell_type": "markdown",
   "metadata": {},
   "source": [
    "For more options regarding fine tuning of your grid overlay, you may consult: http://docs.astropy.org/en/stable/visualization/wcsaxes/ticks_labels_grid.html . \n",
    "\n",
    "Let's note that there is another powerful (astropy-affiliated) package (developped by Robitaille and Bressert) that allows coordinate overlays with a lot of functionalities, checking for you the coordinate system and equinox, and all that with a somehow more simple syntax (but new objects): `aplpy`.   "
   ]
  },
  {
   "cell_type": "code",
   "execution_count": null,
   "metadata": {},
   "outputs": [],
   "source": [
    "# !pip install aplpy  # If aplpy is not installed\n",
    "# Have a look to https://aplpy.github.io/\n",
    "import aplpy\n",
    "fig = plt.figure()\n",
    "img = aplpy.FITSFigure(image_file, figure=fig)\n",
    "img.show_grayscale(stretch='arcsinh', invert=True)\n",
    "img.tick_labels.set_xformat('hh:mm:ss')\n",
    "img.tick_labels.set_yformat('dd:mm:ss')\n",
    "img.add_grid()\n",
    "img.set_grid_color('black')\n",
    "img.set_grid_alpha(0.5)"
   ]
  },
  {
   "cell_type": "markdown",
   "metadata": {},
   "source": [
    "### IV.2 Basic operations with coordinates\n",
    "\n",
    "To use those coordinates and calculate e.g. separations between objects, we need to import `SkyCoord` module from `astropy.coordinates`. In addition, as \"coordinates\" always have units attached, we need to import `astropy.units` that will allow us to work with \"unit-attached quantities\"."
   ]
  },
  {
   "cell_type": "code",
   "execution_count": null,
   "metadata": {
    "collapsed": true
   },
   "outputs": [],
   "source": [
    "from astropy.coordinates import SkyCoord\n",
    "from astropy import units as u"
   ]
  },
  {
   "cell_type": "code",
   "execution_count": null,
   "metadata": {
    "collapsed": true
   },
   "outputs": [],
   "source": [
    "# Coordinates can be instanciated in various ways\n",
    "# E.g. giving the coordinate in degree\n",
    "c = SkyCoord(10.625, 41.2, frame='icrs', unit='deg')\n",
    "c"
   ]
  },
  {
   "cell_type": "markdown",
   "metadata": {},
   "source": [
    "But you can also explicitly attach the units to your variable using: `u.degree`"
   ]
  },
  {
   "cell_type": "code",
   "execution_count": null,
   "metadata": {
    "collapsed": true
   },
   "outputs": [],
   "source": [
    "RA, DEC = 10.625*u.degree, 41.2*u.degree\n",
    "c = SkyCoord(ra=RA, dec=DEC, frame='icrs')\n",
    "print '(RA, DEC) = ', RA, DEC\n",
    "print 'c', c"
   ]
  },
  {
   "cell_type": "markdown",
   "metadata": {},
   "source": [
    "I always have hard time playing with units in degree ... I prefer `hh:mm:ss` / `dd:mm:ss`. No problem:"
   ]
  },
  {
   "cell_type": "code",
   "execution_count": null,
   "metadata": {
    "collapsed": true
   },
   "outputs": [],
   "source": [
    "c = SkyCoord('00h42.5m', '+41d12m')\n",
    "c"
   ]
  },
  {
   "cell_type": "markdown",
   "metadata": {},
   "source": [
    "You can specify explictly that your coordinates is effectively ICRS ([International Celestial Reference System](https://en.wikipedia.org/wiki/International_Celestial_Reference_System)) -i.e. this is almost Equatorial J2000- using the optional argument `frame`. If not, you can specify the system through the argument `frame` (e.g. galactic, FK5, ...). \n",
    "\n",
    "Note that if you give RA, DEC and specify `frame=galactic`, RA and DEC will be converted and galactic coordinates will be stored. You need to specify arguments `l=my_galactic_longitude, b=my_galactic_latitude` to get the coordinates read as a longitude/latitude. "
   ]
  },
  {
   "cell_type": "code",
   "execution_count": null,
   "metadata": {
    "collapsed": true
   },
   "outputs": [],
   "source": [
    "c = SkyCoord('00h42m30s', '+41d12m00s', frame='icrs')\n",
    "print c"
   ]
  },
  {
   "cell_type": "markdown",
   "metadata": {},
   "source": [
    "Another possibility is to do the following:"
   ]
  },
  {
   "cell_type": "code",
   "execution_count": null,
   "metadata": {
    "collapsed": true
   },
   "outputs": [],
   "source": [
    "c = SkyCoord('00 42 30 +41 12 00', unit=(u.hourangle, u.deg))\n",
    "c = SkyCoord('00:42.5 +41:12', unit=(u.hourangle, u.deg))\n",
    "c"
   ]
  },
  {
   "cell_type": "code",
   "execution_count": null,
   "metadata": {
    "collapsed": true
   },
   "outputs": [],
   "source": [
    "c = SkyCoord('5h40m50s', '-2d27m26s')\n",
    "c"
   ]
  },
  {
   "cell_type": "markdown",
   "metadata": {},
   "source": [
    "Once you have a coordinate object you can now access the components of that coordinate (e.g. RA, Dec) and get a specific string representation of the full coordinate."
   ]
  },
  {
   "cell_type": "code",
   "execution_count": null,
   "metadata": {
    "collapsed": true
   },
   "outputs": [],
   "source": [
    "c.ra "
   ]
  },
  {
   "cell_type": "code",
   "execution_count": null,
   "metadata": {
    "collapsed": true
   },
   "outputs": [],
   "source": [
    "c.ra.hour  "
   ]
  },
  {
   "cell_type": "code",
   "execution_count": null,
   "metadata": {
    "collapsed": true
   },
   "outputs": [],
   "source": [
    "c.ra.hms  "
   ]
  },
  {
   "cell_type": "code",
   "execution_count": null,
   "metadata": {
    "collapsed": true
   },
   "outputs": [],
   "source": [
    "c.dec.radian"
   ]
  },
  {
   "cell_type": "markdown",
   "metadata": {},
   "source": [
    "Coordinates can easily be converted to strings using the `to_string()` method:"
   ]
  },
  {
   "cell_type": "code",
   "execution_count": null,
   "metadata": {
    "collapsed": true
   },
   "outputs": [],
   "source": [
    "print 'c.to_string(\\'decimal\\') ->', c.to_string('decimal')\n",
    "print 'c.to_string(\\'dms\\')     ->', c.to_string('dms')\n",
    "print 'c.to_string(\\'hmsdms\\')  ->', c.to_string('hmsdms')"
   ]
  },
  {
   "cell_type": "markdown",
   "metadata": {},
   "source": [
    "And if you want to know your coordinate in another coordinate system:"
   ]
  },
  {
   "cell_type": "code",
   "execution_count": null,
   "metadata": {
    "collapsed": true
   },
   "outputs": [],
   "source": [
    "print c.galactic \n",
    "print 'A more flexible way is to use transform_to:'\n",
    "print c.transform_to('galactic')"
   ]
  },
  {
   "cell_type": "markdown",
   "metadata": {},
   "source": [
    "Transform to 'FK5' and change to get coordinates for an old J1950 equinox. "
   ]
  },
  {
   "cell_type": "code",
   "execution_count": null,
   "metadata": {
    "collapsed": true
   },
   "outputs": [],
   "source": [
    "from astropy.coordinates import FK5\n",
    "c_fk5 = c.transform_to('fk5')\n",
    "print 'coord J2000:', c_fk5\n",
    "c_J1950 = c_fk5.transform_to(FK5(equinox='J1950'))  # precess to a different equinox \n",
    "print 'coord, J1950', c_J1950"
   ]
  },
  {
   "cell_type": "markdown",
   "metadata": {},
   "source": [
    "### IV.3 Coordinates and images"
   ]
  },
  {
   "cell_type": "markdown",
   "metadata": {},
   "source": [
    "Let's now see how to overlay a symbol on an image at a specific position.    \n",
    "Let's work with the image of the Horse Head nebula again. Remember that we have done:\n",
    "``` python\n",
    "data, header = fits.getdata(image_file, header=True)\n",
    "w = WCS(header)\n",
    "```"
   ]
  },
  {
   "cell_type": "code",
   "execution_count": null,
   "metadata": {},
   "outputs": [],
   "source": [
    "# Let's look to some pixel coordinates of interest\n",
    "pixcrd = np.array([[500, 300], [224, 438]], np.float_)\n",
    "\n",
    "# Convert pixel coordinates to world coordinates\n",
    "# The second argument is \"origin\" -- in this case we're declaring we\n",
    "# have 1-based (Fortran-like) coordinates.\n",
    "world = w.wcs_pix2world(pixcrd, 1)\n",
    "print(world)"
   ]
  },
  {
   "cell_type": "markdown",
   "metadata": {},
   "source": [
    "You can now convert those coordinates into `SkyCoord` instances:"
   ]
  },
  {
   "cell_type": "code",
   "execution_count": null,
   "metadata": {},
   "outputs": [],
   "source": [
    "world_SC = [SkyCoord(wc[0], wc[1], unit='deg') for wc in world]\n",
    "world_SC"
   ]
  },
  {
   "cell_type": "markdown",
   "metadata": {},
   "source": [
    "You can also measure the separation between those two pixels ... "
   ]
  },
  {
   "cell_type": "code",
   "execution_count": null,
   "metadata": {},
   "outputs": [],
   "source": [
    "world_SC[0].separation(world_SC[1])"
   ]
  },
  {
   "cell_type": "markdown",
   "metadata": {},
   "source": [
    "... and convert this into arcseconds. \n",
    "The separation is an angle and you can convert it to other angular units using the method `to(newunits)`:"
   ]
  },
  {
   "cell_type": "code",
   "execution_count": null,
   "metadata": {},
   "outputs": [],
   "source": [
    "world_SC[0].separation(world_SC[1]).to(u.arcsec)"
   ]
  },
  {
   "cell_type": "markdown",
   "metadata": {},
   "source": [
    "Now you can also overlay those to pixels on your image (but you simply have to give their pixel coordinates ... nothing fancy in there !). Conversely, you may want to see to which pixel corresponds a specific coordinate. You therefore need to use a `wcs.WCS` method to convert a coordinate into pixel.  "
   ]
  },
  {
   "cell_type": "code",
   "execution_count": null,
   "metadata": {},
   "outputs": [],
   "source": [
    "w.wcs_world2pix( world_SC[0].ra.value, world_SC[0].dec.value, 1 )  \n",
    "# Again 1 is here to fix the origin of the coordinate system "
   ]
  },
  {
   "cell_type": "markdown",
   "metadata": {},
   "source": [
    "Note that above, we have used taken the \"unitless\" value of the `RA` and `DEC`. For this purpose, we have used the `units` method `value` to extract only the numerical value of `RA`/`DEC` as given by `world_SC[0].ra`/`world_SC[0].dec`.   "
   ]
  },
  {
   "cell_type": "code",
   "execution_count": null,
   "metadata": {},
   "outputs": [],
   "source": [
    "print world_SC[0].ra.value, world_SC[0].dec.value\n",
    "print 85.2598025546, -2.49940926988"
   ]
  },
  {
   "cell_type": "code",
   "execution_count": null,
   "metadata": {},
   "outputs": [],
   "source": [
    "w = WCS(header)\n",
    "ax = plt.subplot(projection=w)\n",
    "ax.imshow(data, origin='lower')\n",
    "ax.grid(color='white', ls='solid')\n",
    "ax.set_xlabel('Right Ascension (J2000)')\n",
    "ax.set_ylabel('Declination (J2000)')\n",
    "\n",
    "mrk = ['x', 'd']\n",
    "[ax.plot(px[0], px[1], marker=mrk[i], color='red') for i, px in enumerate(pixcrd)]\n",
    "\n",
    "\n",
    "newpx = w.wcs_world2pix(85.2296, -2.4434, 1)\n",
    "print newpx\n",
    "ax.plot(newpx[0], newpx[1], marker='o', color='orange')"
   ]
  },
  {
   "cell_type": "markdown",
   "metadata": {},
   "source": [
    "## V. Use of \"Quantities\" for astrophysical calculation"
   ]
  },
  {
   "cell_type": "markdown",
   "metadata": {},
   "source": [
    "Astropy's `Quantity` object can make astrophysics calculations easier. The example include calculating the mass of a galaxy from its velocity dispersion.  \n",
    "\n",
    "Using `Quantity` object could also be a good practice for using quantities in functions you distribute to other people. This may avoid people assuming different units and making big mistakes !\n",
    "\n",
    "As we have seen above, attaching units to variable is done using `astropy.units`. It is conventional to import it as `u`, so your import should look like `import astropy.units as u`. \n",
    "\n",
    "Astropy also has a `constants` module, where typical physical constants are available.  The constants are stored as objects of a subclass of `Quantity`, so they behave just like a `Quantity`. Here, we'll only need the gravitational constant `G`, Planck's constant `h`, and Boltzmann's constant, `k_B`."
   ]
  },
  {
   "cell_type": "code",
   "execution_count": null,
   "metadata": {
    "collapsed": true
   },
   "outputs": [],
   "source": [
    "#import astropy.units as u\n",
    "from astropy.constants import G, h, k_B"
   ]
  },
  {
   "cell_type": "markdown",
   "metadata": {},
   "source": [
    "In this example, we will use `Quantity` objects to estimate a hypothetical galaxy's mass, given its half-light radius and radial velocities of stars in the galaxy.\n",
    "\n",
    "Lets assume that we measured the half light radius of the galaxy  to be 29 pc projected on the sky at the distance of the galaxy.  This radius is often called the \"effective radius\", so we will store it as a `Quantity` object with the name `Reff`. The easiest way to create a `Quantity` object is just by multiplying the value with its unit. Units are accessed as u.\"unit\", in this case u.pc."
   ]
  },
  {
   "cell_type": "code",
   "execution_count": null,
   "metadata": {
    "collapsed": true
   },
   "outputs": [],
   "source": [
    "Reff = 29 * u.pc"
   ]
  },
  {
   "cell_type": "markdown",
   "metadata": {},
   "source": [
    "A completely equivalent (but more verbose) way of doing the same thing is to use the `Quantity` object's initializer, demonstrated below.  In general, the simpler form (above) is preferred, as it is closer to how such a quantity would actually be written in text.  The initalizer form has more options, though, which you can learn about from the [astropy reference documentation on Quantity](http://docs.astropy.org/en/stable/api/astropy.units.quantity.Quantity.html)."
   ]
  },
  {
   "cell_type": "code",
   "execution_count": null,
   "metadata": {
    "collapsed": true
   },
   "outputs": [],
   "source": [
    "Reff = u.Quantity(29, unit=u.pc)"
   ]
  },
  {
   "cell_type": "markdown",
   "metadata": {},
   "source": [
    "We can access the value and unit of a `Quantity` using the `value` and `unit` attributes."
   ]
  },
  {
   "cell_type": "code",
   "execution_count": null,
   "metadata": {
    "collapsed": true
   },
   "outputs": [],
   "source": [
    "print 'Half light radius %.2f %s' %(Reff.value, Reff.unit)"
   ]
  },
  {
   "cell_type": "markdown",
   "metadata": {},
   "source": [
    "Next, we will first create a synthetic dataset of radial velocity measurements, assuming a normal distribution with a mean velocity of 206 km/s and a velocity dispersion of 4.6 km/s."
   ]
  },
  {
   "cell_type": "code",
   "execution_count": null,
   "metadata": {
    "collapsed": true
   },
   "outputs": [],
   "source": [
    "vmean = 206\n",
    "sigin = 4.6\n",
    "v = np.random.normal(vmean, sigin, 500)*u.km/u.s\n",
    "# For the illustration we convert to m/s\n",
    "print 'First 10 radial velocity measurements :' \n",
    "print ['%.2f %s ' %(v.to(u.m/u.s)[i].value, v.to(u.m/u.s)[i].unit) for i in range(10)]\n"
   ]
  },
  {
   "cell_type": "code",
   "execution_count": null,
   "metadata": {
    "collapsed": true
   },
   "outputs": [],
   "source": [
    "plt.figure()\n",
    "plt.hist(v, bins=20, histtype=\"step\")\n",
    "plt.xlabel(\"Velocity (km/s)\")\n",
    "plt.ylabel(\"N\")"
   ]
  },
  {
   "cell_type": "markdown",
   "metadata": {},
   "source": [
    "Next, we calculate the velocity dispersion of the galaxy.  This demonstrates how you can perform basic operations like subtraction and division with `Quantity` objects, and also use them in standard numpy functions such as `mean()` and `size()`. They retain their units through these operations just as you would expect them to."
   ]
  },
  {
   "cell_type": "code",
   "execution_count": null,
   "metadata": {
    "collapsed": true
   },
   "outputs": [],
   "source": [
    "sigma = np.sqrt(np.sum((v - np.mean(v))**2) / np.size(v))\n",
    "print 'Velocity dispersion: %.2f %s' %(sigma.value, sigma.unit)"
   ]
  },
  {
   "cell_type": "markdown",
   "metadata": {},
   "source": [
    "**Note**: In general, you should only use `numpy` functions with `Quantity` objects, *not* the `math` equivalents, unless you are sure you understand the consequences."
   ]
  },
  {
   "cell_type": "markdown",
   "metadata": {},
   "source": [
    "Now for the actual mass calculation.  If a galaxy is pressure-supported (for example, an elliptical or dwarf spheroidal galaxy), its mass within the stellar extent can be estimated using a straightforward formula: \n",
    "\n",
    "$$\n",
    "M_{1/2}=\\frac{4\\sigma^2 R_{eff}}{G}.\n",
    "$$  \n",
    "\n",
    "There are caveats to the use of this formula for science - see Wolf et al. 2010 for details.  For demonstrating `Quantity`, just accept that this is often good enough. For the calculation we can just multiply the quantities together, and `astropy` will keep track of the units."
   ]
  },
  {
   "cell_type": "code",
   "execution_count": null,
   "metadata": {
    "collapsed": true
   },
   "outputs": [],
   "source": [
    "M = 4*sigma**2*Reff/G\n",
    "M"
   ]
  },
  {
   "cell_type": "markdown",
   "metadata": {},
   "source": [
    "The result is in a composite unit, so it's not really obvious it's a mass. However, it can be decomposed to cancel all of the length units ($\\rm{km}^2 \\rm{pc}/\\rm{m}^3$) using the `decompose()` method."
   ]
  },
  {
   "cell_type": "code",
   "execution_count": null,
   "metadata": {
    "collapsed": true
   },
   "outputs": [],
   "source": [
    "M.decompose()"
   ]
  },
  {
   "cell_type": "markdown",
   "metadata": {},
   "source": [
    "We can also easily express the mass in whatever form you like - solar masses are common in astronomy, or maybe you want the default SI and CGS units."
   ]
  },
  {
   "cell_type": "code",
   "execution_count": null,
   "metadata": {
    "collapsed": true
   },
   "outputs": [],
   "source": [
    "print 'Galaxy mass'\n",
    "print 'in solar units: %.3e %s' %(M.to(u.Msun).value, M.to(u.Msun).unit) \n",
    "print 'SI units: %.3e %s' %(M.si.value, M.si.unit)\n",
    "print 'CGS units: %.3e %s' %(M.cgs.value, M.cgs.unit)"
   ]
  },
  {
   "cell_type": "markdown",
   "metadata": {},
   "source": [
    "Or, if you want the log of the mass, you can just use ``np.log10`` as long as the logarithm's argument is dimensionless."
   ]
  },
  {
   "cell_type": "code",
   "execution_count": null,
   "metadata": {
    "collapsed": true
   },
   "outputs": [],
   "source": [
    "np.log10(M / u.Msun)"
   ]
  },
  {
   "cell_type": "markdown",
   "metadata": {},
   "source": [
    "However, you can't take the log of something with units, as that is not mathematically sensible."
   ]
  },
  {
   "cell_type": "code",
   "execution_count": null,
   "metadata": {
    "collapsed": true
   },
   "outputs": [],
   "source": [
    "np.log10(M)"
   ]
  },
  {
   "cell_type": "markdown",
   "metadata": {},
   "source": [
    "#### Exercise:\n",
    "\n",
    "Use `Quantity` and Kepler's law in the form given below to determine the (circular) orbital speed of the Earth around the sun in km/s. You should not have to look up an constants or conversion factors to do this calculation - it's all in `astropy.units` and `astropy.constants`.\n",
    "\n",
    "$$v = \\sqrt{\\frac{G M_{\\odot}}{r}}$$"
   ]
  },
  {
   "cell_type": "code",
   "execution_count": null,
   "metadata": {
    "collapsed": true
   },
   "outputs": [],
   "source": []
  },
  {
   "cell_type": "markdown",
   "metadata": {},
   "source": [
    "(Completely optional, but a good way to convince yourself of the value of Quantity:) Do the above calculations by hand - you can use a calculator (or python just for its arithmatic) but look up all the appropriate conversion factors and use paper-and-pencil approaches for keeping track of them all.  Which one took longer?"
   ]
  },
  {
   "cell_type": "markdown",
   "metadata": {},
   "source": [
    "Another tutorial of interest using quantities applied to cosmology is available here http://www.astropy.org/astropy-tutorials/edshift_plot.html  (but see [references](#XX-References) for the github link)"
   ]
  },
  {
   "cell_type": "markdown",
   "metadata": {},
   "source": [
    "## Credits:\n",
    "\n",
    "If you use Astropy directly—or as a dependency to another package—for your work, please remember to include the following acknowledgment at the end of papers:\n",
    "\n",
    "*This research made use of Astropy, a community-developed core Python package for Astronomy (Astropy Collaboration, 2013).*\n",
    "\n",
    "Where the astropy paper is 2013, A&A, 558, 33 http://adsabs.harvard.edu//abs/2013A%26A...558A..33A"
   ]
  },
  {
   "cell_type": "markdown",
   "metadata": {},
   "source": [
    "## XX References\n",
    "\n",
    "This notebook is mostly based on the astropy tutorials available here: http://www.astropy.org/astropy-tutorials/\n",
    "\n",
    "- Your reference for using astropy should be the online documentation http://docs.astropy.org/en/latest\n",
    "\n",
    "- Documentation regarding the wcs module: http://docs.astropy.org/en/stable/visualization/wcsaxes/\n",
    "\n",
    "- Documentation regarding the use of coordinates: http://docs.astropy.org/en/stable/coordinates/index.html\n",
    "\n",
    "- The doc of astropy.io.fits also provides relevant information: http://docs.astropy.org/en/stable/io/fits/#f1\n",
    "\n",
    "- Calabreta and Greisen 2002, A&A 395, 1077, Representations of celestial coordinates in FITS http://adsabs.harvard.edu/abs/2002A%26A...395.1077C\n",
    "\n",
    "- Regarding `Table` objects and dealing with various i/o within astropy, you should consult those chapters of the doc: http://docs.astropy.org/en/stable/io/unified.html#table-io  and http://docs.astropy.org/en/stable/table/io.html \n",
    "\n",
    "- For an in-depth discussion of `Quantity` objects, see the [astropy documentation section](http://docs.astropy.org/en/stable/units/quantity.html). See also http://docs.astropy.org/en/stable/units/ for various informations of interest regarding the use of units in general !\n",
    "\n",
    "- How bad is your color map ? (aka how not to be fooled by a poor choice of color map): https://jakevdp.github.io/blog/2014/10/16/how-bad-is-your-colormap/\n",
    "\n",
    "- Github link to astropy tutorial notebooks: https://github.com/astropy/astropy-tutorials/tree/master/tutorials/"
   ]
  },
  {
   "cell_type": "markdown",
   "metadata": {},
   "source": []
  }
 ],
 "metadata": {
  "kernelspec": {
   "display_name": "Python [default]",
   "language": "python",
   "name": "python2"
  },
  "language_info": {
   "codemirror_mode": {
    "name": "ipython",
    "version": 2
   },
   "file_extension": ".py",
   "mimetype": "text/x-python",
   "name": "python",
   "nbconvert_exporter": "python",
   "pygments_lexer": "ipython2",
   "version": "2.7.12"
  }
 },
 "nbformat": 4,
 "nbformat_minor": 2
}
