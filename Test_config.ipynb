{
 "cells": [
  {
   "cell_type": "markdown",
   "metadata": {},
   "source": [
    "This notebook aims at checking that all the packages used in this lecture are installed on your machine"
   ]
  },
  {
   "cell_type": "code",
   "execution_count": 1,
   "metadata": {},
   "outputs": [
    {
     "name": "stdout",
     "output_type": "stream",
     "text": [
      "3.7.4 (default, Nov 22 2019, 15:36:53) \n",
      "[Clang 7.3.0 (clang-703.0.31)]\n"
     ]
    }
   ],
   "source": [
    "# Check python version\n",
    "import sys\n",
    "print(sys.version)"
   ]
  },
  {
   "cell_type": "code",
   "execution_count": 2,
   "metadata": {},
   "outputs": [
    {
     "name": "stdout",
     "output_type": "stream",
     "text": [
      "numpy: \n",
      "1.17.4\n",
      "scipy: \n",
      "1.3.2\n",
      "matplotlib: \n",
      "3.1.1\n",
      "sklearn: \n",
      "0.21.3\n",
      "astropy: \n",
      "4.0\n",
      "emcee: \n",
      "3.0.2\n",
      "os Installed\n",
      "subprocess Installed\n",
      "sys Installed\n",
      "random Installed\n",
      "************Optional modules************\n",
      "astroML: \n",
      "0.4.1\n",
      "corner: \n",
      "2.0.1\n",
      "ipywidgets: \n",
      "7.5.1\n"
     ]
    }
   ],
   "source": [
    "module_list = ['numpy', 'scipy','matplotlib', 'sklearn', 'astropy', 'emcee', 'os', 'subprocess', 'sys', 'random']\n",
    "optional_list = ['astroML', 'corner', 'ipywidgets']\n",
    "for module in module_list:\n",
    "    try:\n",
    "        exec('import ' + module)\n",
    "        if (module != 'os') & (module != 'subprocess') & (module != 'sys') & (module != 'random'):\n",
    "            print(module+': ')\n",
    "            exec('print(%s.__version__)'%module)\n",
    "        else:\n",
    "            print(module + ' Installed')\n",
    "    except:\n",
    "        print(module + ' not available')\n",
    "        \n",
    "print('{0:*^40}'.format('Optional modules'))\n",
    "for module in optional_list:\n",
    "    try:\n",
    "        exec('import ' + module)\n",
    "        print(module+': ')\n",
    "        exec('print(%s.__version__)'%module)\n",
    "    except:\n",
    "        print(module + ' not available')\n",
    "        "
   ]
  },
  {
   "cell_type": "code",
   "execution_count": null,
   "metadata": {},
   "outputs": [],
   "source": []
  }
 ],
 "metadata": {
  "kernelspec": {
   "display_name": "Python [conda env:intel-python3]",
   "language": "python",
   "name": "conda-env-intel-python3-py"
  },
  "language_info": {
   "codemirror_mode": {
    "name": "ipython",
    "version": 3
   },
   "file_extension": ".py",
   "mimetype": "text/x-python",
   "name": "python",
   "nbconvert_exporter": "python",
   "pygments_lexer": "ipython3",
   "version": "3.7.4"
  }
 },
 "nbformat": 4,
 "nbformat_minor": 2
}
