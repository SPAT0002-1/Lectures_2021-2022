{
 "cells": [
  {
   "cell_type": "markdown",
   "metadata": {},
   "source": [
    "# Classical statistical inference: Regression and model fitting"
   ]
  },
  {
   "cell_type": "markdown",
   "metadata": {},
   "source": [
    "## Table of Content\n",
    "\n",
    "- III. [Maximum Likelihood Estimation:](#III-Maximum-Likelihood-Estimation-(MLE)): A brief overview\n",
    "    - III.1 [Likelihood](#III.1-Likelihood)\n",
    "    - III.2 [Maximizing the likelihood](#III.2-Maximum-likelihood)\n",
    "- IV. [Regression and Model fitting](#IV-Regression-and-model-fitting)\n",
    "    - IV.1 [Regression for linear models](#IV.1-Regression-for-linear-models:)\n",
    "        * [IV.1.1 Fitting a straight line](#IV.1.1-Fitting-a-straight-line)\n",
    "        * [IV.1.2 General least square fit](#IV.1.2-General-least-square-fit)\n",
    "        * [IV.1.3 Basis function regression](#IV.1.3-Basis-function-regression): *Topic not covered in 2020-2021.*\n",
    "\n",
    "        * [IV.1.4 Multi Linear regression](#IV.1.4-Multi-Linear-regression): *Topic not covered in 2020-2021.*\n",
    "\n",
    "    - IV.2 [Regularization and penalization of the likelihood](#IV.2-Regularization-and-penalization-of-the-likelihood): *Topic not covered in 2020-2021.*\n",
    "\n",
    "        * [IV.2.1 Ridge regression:](#IV.2.1-Ridge-regression:): *Topic not covered in 2020-2021.*\n",
    "        * [IV.2.2 LASSO regression:](#IV.2.2-LASSO-regression:): *Topic not covered in 2020-2021.*\n",
    "        * [IV.2.3 How to fix $\\lambda$ ?:](#IV.2.3-How-to-fix-$\\lambda$-?:): *Topic not covered in 2020-2021.*\n",
    "    - IV.3 [Regression for non linear models](#IV.3-Regression-for-non-linear-models:)\n",
    "    - IV.4 [What to do if I have outliers, or errors in $x$ and $y$, or more parameters than data ?](#IV.4-What-if-we-have-outliers,-errors-in-$x$-and-$y$,-models-with-more-parameters-than-data-?)\n",
    "    - IV.5 [Summary of some python tools available for regression](#IV.5-Summary-of-python-tools-for-regression)\n",
    "- XX. [References and supplementary material](#X)"
   ]
  },
  {
   "cell_type": "code",
   "execution_count": 1,
   "metadata": {},
   "outputs": [],
   "source": [
    "import scipy.stats\n",
    "import numpy as np\n",
    "from matplotlib import pyplot as plt\n",
    "%matplotlib inline"
   ]
  },
  {
   "cell_type": "markdown",
   "metadata": {},
   "source": [
    "## III Maximum Likelihood Estimation (MLE)\n",
    "\n",
    "We've seen that in frequentist inference, deriving information about a parameter $\\theta$ consists in finding a point estimate $\\hat{\\theta}$ of this parameter and possibly drawing confidence intervals for $\\theta$. To ensure that those estimators are the *best* possible estimator, frequentists generally follow a method called Maximum Likelihood analysis. We'll summarize the main ideas behind this approach hereafter. The interested reader may consult the notebook [MLE.ipynb](MLE.ipynb) (and ref. therein) for a more in-depth understanding. \n",
    "\n",
    "The first thing to do in that approach is to choose a model $M(\\theta)$ that is supposed to describe the underlying population from which the data are drawn. This allows one to calculate a likelihood and find which values of the parameters maximize it, as explained below. "
   ]
  },
  {
   "cell_type": "markdown",
   "metadata": {},
   "source": [
    "### III.1 Likelihood\n",
    "\n",
    "\n",
    "The Likelihood $L$ of a model and of its parameters is defined as $L~=~p(D \\,|\\,M(\\boldsymbol{\\theta}))$. Hence, this is the probability of Data given a model (in fact, given a model and its associated set of parameters). \n",
    "When we talk about the likelihoods of different models we are in general talking about the likelihoods of different sets of parameter values. \n",
    "\n",
    "It is important to note that a likelihood is not strictly speaking a probability as the sum of all the possible outcomes of a model must sum up to one, while the sum of the likelihood of the models (parameters) needed to explain the data do not have to add up to 1. \n",
    "\n",
    "Let's calculate the likelihood for specific case. Let's imagine that we have an ensemble of $N$ *independent* random variable {$x_i$} drawn from a normal (i.e. gaussian) distribution $N(\\mu, \\sigma)$, i.e. gaussian of mean $\\mu$ and width $\\sigma$ (i.e. errors on all the measurements $x_i$ are the same, namely the errors are \"homoscedastic\"). \n",
    "\n",
    "We know that the probability of a given measurement $x_k$ is:\n",
    "\n",
    "$$\n",
    "p(x_k \\, | \\, \\mu, \\sigma ) = \\frac{1}{\\sigma \\sqrt{2\\,\\pi}} \\, \\exp\\left[-0.5 \\left (\\frac{x_k - \\mu}{\\sigma} \\right)^2\\right] \n",
    "$$\n",
    "\n",
    "If each measurement is independent of the other, the probability of having a given set of measurements will be proportional to the product of the individual probabilities. The likelihood can then be calculated as:\n",
    "\n",
    "$$\n",
    "L \\equiv p(\\{x_i\\} | \\mu, \\sigma ) = \\prod_{i=1}^{N} \\frac{1}{\\sigma \\sqrt{2\\,\\pi}} \\, \\exp\\left[-0.5 \\left (\\frac{x_i - \\mu}{\\sigma} \\right)^2\\right] = \\frac{1}{\\sigma^n (2\\,\\pi)^{n/2}} \\prod_{i=1}^{N} \\exp \\left (\\frac{-(x_i - \\mu)^2}{2\\, \\sigma^2} \\right)\n",
    "$$\n",
    "\n",
    "Note that this can be re-written:\n",
    "\n",
    "$$\n",
    "L \\equiv p(\\{x_i\\} | \\mu, \\sigma ) = \\frac{1}{\\sigma^n (2\\,\\pi)^{n/2}} \\exp \\left ( \\sum_{i=1}^N \\frac{-(x_i - \\mu)^2}{2\\, \\sigma^2} \\right)\n",
    "$$\n",
    "\n",
    "If the errors are different for each random variable, then the likelihood becomes (see [MLE.ipynb](MLE.ipynb)):\n",
    "\n",
    "$$\n",
    "L =  \\frac{1}{(2\\,\\pi)^{n/2}} \\prod_{i=1}^{N} \\frac{1}{\\sigma_i} \\exp \\left (\\frac{(x_i - \\mu)^2}{2\\, \\sigma_i^2} \\right)\n",
    "$$\n",
    "\n",
    "Because the likelihood becomes quickly small, one generally considers its logarithm. Taking the $\\log$, we therefore have :\n",
    "\n",
    "$$\n",
    "\\ln(L) =  -\\frac{N}{2}\\,\\ln(2\\pi) - \\sum_i \\ln(\\sigma_i)  - \\sum_{i=1}^N \\frac{(x_i \\,- \\, \\mu)^2}{2\\,\\sigma_i^2}, \n",
    "$$"
   ]
  },
  {
   "cell_type": "markdown",
   "metadata": {},
   "source": [
    "### III.2 Maximum likelihood \n",
    "\n",
    "The maximum likelihood approach consists in reading the likelihood in a different way than usual.    \n",
    "\n",
    "Let's first realise that, at first sight, you may consider the likelihood as being a function of your data. Indeed, if you make a measurement of a random variable and obtain a value $x$, the associated likelihood $L$ can be considered as a function of the data because the value of the likelihood you calculate depends on the data you have obtained. One may however turn this around. You have a set of data in hand, and may wonder: what should be the values of the parameters entering into the likelihood (i.e. in the gaussian case above, $\\mu$ and $\\sigma$) such that the likelihood is maximum (it is natural to think that your data have nothing peculiar). This means that you effectively reads the likelihood as a function of the model parameters. \n",
    "\n",
    "To summarize, the idea behind the **maximum likelihood estimation (MLE)** is two fold: i) the probability of any given set of parameters $\\boldsymbol{\\theta}$ is proportional to the probability of observing the data (i.e. the likelihood defined above); ii) the most probable set of values of the parameters (of our model) should also be the one that maximizes the probability of obtaining the data. \n",
    "\n",
    "You know how to find the extrema of a function: by searching for which values of their variables (here the parameters of the model), its derivative is equal to 0. Because the likelihood can quickly become very small, one calculates its logarithm and search the maximum of $\\ln{L}$.  The maximum of $\\ln{L}$ (varying the \"parameters\" $\\theta$) is obtained by searching the parameters $\\theta$ that yield:\n",
    "\n",
    "$$\n",
    "\\left. \\frac{{\\rm d}\\ln(L(\\theta_i))}{\\rm{d}\\theta_i}\\right\\vert_{\\hat {\\theta_i}} \\equiv 0\n",
    "$$\n",
    "\n",
    "One can show, e.g. for the gaussian case, that the estimator of the mean $\\hat{\\mu} = \\sum{x_i}/n$ is effectively a maximum likelihood estimator of the mean. The interested reader will find the proof in [Sect. III.2 of MLE.ipynb](MLE.ipynb#III.2--Maximum-Likelihood-Estimation-(MLE)). "
   ]
  },
  {
   "cell_type": "markdown",
   "metadata": {},
   "source": [
    "## IV Regression and model fitting\n",
    "\n",
    "Having in hands a set of mutidimensional data, let's say an independent variable $x$, and dependent variable $y$. Then the problem of regression consists in finding the expectation value (another word to say the arithmetic *mean*) of $y$ given x, i.e. $E(y|x)$ (i.e. this is a conditional expectation value). This is bread and butter of scientific research. If we have a model for the conditional distribution, we can write $y \\, = \\, f(x\\,|\\,{\\boldsymbol{\\theta}})$ where ${{\\boldsymbol{\\theta}}}$ are the parameters of the model. Regression will then consists in finding the parameters $\\boldsymbol{\\theta}$ that yields $E(f(x\\,|\\,\\boldsymbol{\\theta}))$. Note here that $x$, the independent variable, does not have to be a random variable, it could be a deterministic variable, such as a deterministic sampling of a time series. \n",
    "\n",
    "\n",
    "The way you will deal with regression depends of the chacteristics of your problem:\n",
    "- *Linearity*: Is the model linear *in its parameters*, i.e. $f(x\\,|\\,{\\boldsymbol{\\theta}}) = \\sum_{p=1}^{k} \\, \\theta_p g_p(x)$, where $g_p(x)$ can be a non linear function of $x$ BUT does not depend on any of the free parameters. \n",
    "- *Complexity*: A large number of independent variables increases the complexity of the error covariance matrix and of the problem solving. For linear models with small/negligible errors on the independent variable, problem complexity is not a severe issue. \n",
    "- *Error behaviour*: The uncertainties on the dependent and independent variables, and their correlation, generally govern the choice of the regression method. Several situation can occur:\n",
    "    1. Dependent and independent variable have negligible errors\n",
    "    2. Dependent variable $y$ has significant homoscedastic Gaussian error, $x$ has negligible errors. \n",
    "    3. Dependent variable $y$ has significant heteroscedastic Gaussian error, $x$ has negligible errors. \n",
    "    4. Dependent variable $y$ has non Gaussian errors, but their behaviour is known. \n",
    "    5. Dependent variable $y$ has non Gaussian errors, but their behaviour is unknown\n",
    "    6. Errors on the independent variable $x$ are unknown, but the full covariance matrix can be treated as Gaussian. \n",
    "    7. All variables have non gaussian errors. \n",
    "    \n",
    "        - Case 1, 2, 3, 4 ->  easily solvable with frequentist or Bayesian techniques.\n",
    "        - Case 5 -> 7 are more easily solvable with Bayesian techniques. "
   ]
  },
  {
   "cell_type": "markdown",
   "metadata": {},
   "source": [
    "### IV.1 Regression for linear models:\n",
    "\n",
    "The problem is the following: we have n data points $y_i$ with associated errors $\\sigma_i$, and a model $f(x_i \\, | \\, \\boldsymbol{\\theta})$ that makes prediction for the values of our data points, i.e. $ f(x_i \\, | \\, \\boldsymbol{\\theta}) = y_{i, \\rm{mod}}$. Then, the standard frequentist approach consists in defining a *merit function*:\n",
    "\n",
    "$$\n",
    "\\chi^2 \\equiv \\sum_{i=1}^{n} \\frac{(y_i - y_{i, mod})^2}{\\sigma_i^2}\n",
    "$$\n",
    "\n",
    "and finding the parameters $\\boldsymbol{\\theta}$ that minimize that function. Minimizing this function means that we modify the parameter to minimize the square of the vertical (weighted) distance between the data point and the model (numerator of the above expression). This minimization however accounts for the uncertainty on each data point through a weighting factor inversely proportional to the uncertainty on that point (i.e. $1/\\sigma^2_i$). This ensures that the points with the largest uncertainty contribute less to the process than those that are known more precisely. When there is no weight, one speaks of *least square* regression. When the uncertainty on the individual data points is considered (as above), one speaks of *chi square* ($\\chi^2$) regression."
   ]
  },
  {
   "cell_type": "markdown",
   "metadata": {},
   "source": [
    "![least square](../Figures/fig_least_square.png)"
   ]
  },
  {
   "cell_type": "markdown",
   "metadata": {},
   "source": [
    "Minimizing the $\\chi^2$ is equivalent to find the line that go through all the blue points and which is such that the red vertical line is the shortest for each of the point. "
   ]
  },
  {
   "cell_type": "markdown",
   "metadata": {},
   "source": [
    "If the errors between data points are correlated, we need to introduce a covariance matrix, $[C]$ and its inverse, ($[F] \\equiv [C]^{-1}$ , or Fisher matrix) is defined as :\n",
    "\n",
    "$$\n",
    "C_{i,l} \\equiv cov(y_i, y_l). \n",
    "$$\n",
    "\n",
    "I.e., for two data points $y_k, y_l$ we have: \n",
    "\n",
    "$$\n",
    "[F]^{-1} \\, = \\, [C] \\, = \\, \\left[ \\begin{array}{ccc}\n",
    "\\sigma^2_k & \\sigma_{kl} \\\\\n",
    "\\sigma_{kl} & \\sigma^2_l \\\\\n",
    " \\end{array} \\right]   \n",
    "$$\n",
    "\n",
    "Since $[C]$ and $[F]$ are symmetric, the $\\chi^2$ can be written:\n",
    "\n",
    "$$\n",
    "\\chi^2 = \\sum_{i=1}^{n} \\sum_{l=1}^{n}  (y_i - y_{i, mod}) F_{i,l} \\, (y_l - y_{l, mod}). \n",
    "$$\n",
    "\n",
    "You can easily verify that this expressions resumes to the original definition when errors are uncorrelated. \n",
    "\n",
    "Now that we have drawn the general picture, let's study in more details some of the specific classes of problems outlined above. "
   ]
  },
  {
   "cell_type": "markdown",
   "metadata": {},
   "source": [
    "#### IV.1.1 Fitting a straight line\n",
    "\n",
    "*Minimizing the value* of the $\\chi^2$(through a change of the parameters $\\theta$ of the model) is effectively equivalent to a *maximization of the likelihood*. Let's see it in the context of the fit of a straight line. \n",
    "\n",
    "If $x$ is our independent variable, and $y$ the dependent variable, we have:\n",
    "\n",
    "$$\n",
    "y_i = \\theta_0 + \\theta_1 \\, x_i + \\epsilon_i,\n",
    "$$\n",
    "\n",
    "where $\\theta_0$ and $\\theta_1$ are the parameters we want to estimate (i.e. intercept and slope of the line), and $\\epsilon_i$ is an additive noise term (namely the uncertainty on $y_i$), that we assume to follow a normal distribution, i.e. $\\epsilon_i \\sim  N(0, \\sigma_i)$. By the way, we should take the habit to speak of uncertainties rather of errors as the uncertainty on the data points simply results from a random process, hence there is no single value you can access to by making your measurement, while error suggests that you are doing a mistake in making your measurements.\n",
    "\n",
    "As we have seen [in Sect. III.1](#III.1-Likelihood), if the errors $\\sigma_i$ on $y_i$ are Gaussian, the likelihood can be written: \n",
    "\n",
    "$$\n",
    "L \\, \\equiv \\, p(\\{y_i\\} \\, | \\, \\{x_i\\}, {\\boldsymbol{\\theta}} ) =  \\prod_{i=1}^{N} \\frac{1}{\\sigma_i \\sqrt{2\\,\\pi}} \\, \\exp\\left[\\left (\\frac{ -(y_i - (\\theta_0+\\theta_1\\,x_i))^2}{2\\,\\sigma_i^2} \\right)\\right]\n",
    "$$\n",
    "\n",
    "Or, written in terms of log-likelihood:\n",
    "\n",
    "$$\n",
    "\\ln(L) \\, \\propto \\sum_{i=1}^{N} \\left (\\frac{ -(y_i - (\\theta_0+\\theta_1\\,x_i))^2}{2\\,\\sigma_i^2} \\right) \n",
    "$$\n",
    "\n",
    "Hence, maximizing the log-likelihood as a function of the model parameters $\\boldsymbol{\\theta}$ in this case, is equivalent to minimizing the (weighted) sum of the square errors $\\epsilon_i$. \n",
    "\n",
    "We also see that the likelihood can be written as $L \\propto \\exp(-\\chi^2/2)$ (**THIS IS IMPORTANT TO KEEP IN MIND**).   \n",
    "\n",
    "**Note**: We will see that Bayesians reach the same conclusion when assuming a flat/uninformative prior on $\\boldsymbol{\\theta}$.  "
   ]
  },
  {
   "cell_type": "markdown",
   "metadata": {},
   "source": [
    "In case of Gaussian homoscedastic uncertainties, you can explicitly derive the values of $\\theta_0, \\theta_1$ and the standard error on the parameters $\\sigma^2_{\\theta_1} , \\sigma^2_{\\theta_2}$. \n",
    "For this purpose, you need to solve two equations with two unknowns:\n",
    "$$\n",
    "\\frac{\\partial \\ln(L)}{\\partial \\theta_0} = 0 \\\\\n",
    "\\frac{\\partial \\ln(L)}{\\partial \\theta_1} = 0\n",
    "$$\n",
    "\n",
    "while the errors on the *parameters* can be derived from the error propagation formula. \n",
    "\n",
    "You end up finding that: \n",
    "\n",
    "$$\n",
    "\\theta_1 = \\frac{\\sum_{i=1}^N x_i y_i - \\bar{x} \\bar{y}} {\\sum_{i=1}^N (x_i - \\bar{x})^2 } \\\\\n",
    "\\theta_0 = \\bar{y} - \\theta_1{\\bar{x}}\n",
    "$$"
   ]
  },
  {
   "cell_type": "markdown",
   "metadata": {},
   "source": [
    "#### Heteroscedastic error and matrix formalism\n",
    "\n",
    "For heteroscedastic errors, and even more general regression function, one rather uses a more compact matrix notation.\n",
    "\n",
    "Our problem consists in finding a solution for: \n",
    "$$\n",
    "y_0 = \\theta_0 + \\theta_1 \\, x_0 + \\epsilon_0 \\\\\n",
    "y_1 = \\theta_0 + \\theta_1 \\, x_1 + \\epsilon_1 \\\\\n",
    "... \\\\\n",
    "y_{N-1} = \\theta_0 + \\theta_1 \\, x_{N-1} + \\epsilon_{N-1}\n",
    "$$\n",
    "\n",
    "We can therefore define $M$ (called design matrix) such that $Y = M\\,\\boldsymbol{\\theta} + E$, where $Y$ is a $N$ dimensional vector containing our $y_i$ (i.e. our $N$ points $y_i$):\n",
    "\n",
    "$$\n",
    "Y =  \\left[ \\begin{array}{c}\n",
    "y_0 \\\\ y_1  \\\\ ... \\\\ y_{N-1} \n",
    " \\end{array} \\right]   \n",
    "$$\n",
    "\n",
    "For our straight line regression, $\\boldsymbol{\\theta}$ is a vector containing our 2 parameters:\n",
    "\n",
    "$$\n",
    "\\boldsymbol{\\theta} =  \\left[ \\begin{array}{c}\n",
    "\\theta_0 \\\\ \\theta_1  \n",
    " \\end{array} \\right] ,\n",
    "$$\n",
    "\n",
    "$M$ is a $2 \\times N$ matrix:\n",
    "\n",
    "$$\n",
    "M =  \\left[ \\begin{array}{cc}\n",
    "1 & x_0 \\\\ 1 & x_1  \\\\ ... \\\\ 1 & x_{N-1} \n",
    " \\end{array} \\right], \n",
    "$$\n",
    "\n",
    "where the constant values in the first columns correspond to the constant value $\\theta_0$ in our regression. \n",
    "\n",
    "And finally, $E$ is \n",
    "$$\n",
    "E =  \\left[ \\begin{array}{c}\n",
    "\\epsilon_0 \\\\ \\epsilon_1  \\\\ ... \\\\ \\epsilon_{N-1}  \n",
    " \\end{array} \\right]   \n",
    "$$\n",
    "\n",
    "The $\\epsilon_i$ are distributed as $N(0, \\sigma_i)$, such that the associated $N\\times N$ covariance matrix $C$ is:\n",
    "\n",
    "$$\n",
    "C =  \n",
    " \\left[ \\begin{array}{cccc}\n",
    "\\sigma_0^2 & 0 & ... & 0 \\\\ \n",
    "0 & \\sigma_1^1 & ... & 0 \\\\ \n",
    "... & ... & ... & ... \\\\\n",
    "0 & 0 & ... & \\sigma_{N-1}^2   \n",
    " \\end{array} \\right] \n",
    "$$\n",
    "\n",
    "Then the $\\chi^2$, i.e. the weighted sum of the square errors \n",
    "$$\n",
    "\\chi^2 \\equiv \\sum_i \\frac{(y_i - (\\theta_0+\\theta_1\\,x_i))^2}{\\sigma_i^2}, \n",
    "$$\n",
    "gets written with matrix representation: \n",
    "$$\n",
    "S = (Y - \\boldsymbol{\\theta} M)^T C^{-1} (Y-\\boldsymbol{\\theta} M).\n",
    "$$ \n",
    "\n",
    "Similarly to the homoscedastic case, the maximum likelihood solution for this regression is:\n",
    "\n",
    "$$\n",
    "\\boldsymbol{\\theta} = (M^T C^{-1} M)^{-1} \\, (M^T C^{-1} Y),\n",
    "$$\n",
    "\n",
    "The uncertainties on the regression coefficients $\\boldsymbol{\\theta}$ are then expressed as the symmetric (covariance) matrix:\n",
    "\n",
    "$$\n",
    "\\Sigma_\\theta = \\left[ \\begin{array}{cc}\n",
    "\\sigma_{\\theta_0}^2 & \\sigma_{\\theta_0 \\theta_1}  \\\\ \n",
    "\\sigma_{\\theta_0 \\theta_1} & \\sigma_{\\theta_1}^2 \\\\ \n",
    " \\end{array} \\right] = [M^T C^{-1} M]^{-1}\n",
    "$$\n"
   ]
  },
  {
   "cell_type": "markdown",
   "metadata": {},
   "source": [
    "=> **Finding the best parameters of the model is done through simple algebra and implies simply matrix multiplications and inversion**"
   ]
  },
  {
   "cell_type": "markdown",
   "metadata": {},
   "source": [
    "#### Python implementation:\n",
    "\n",
    "If you simply want to make a linear regression for a data set $y(x)$, you can use in `scipy.stats` the method `linregress` (i.e. `from scipy.stats import linregress`) but this routine is a simple least-square (the errors are assumed to be identical for all the data points).    \n",
    "The alternative is to use `numpy.polyfit(x, y, deg=1, w=1/sigma)`, where $x,y$ are your data, $w$ is the weight associated to the data and `deg=1` is there to fit a model of degree =1. "
   ]
  },
  {
   "cell_type": "markdown",
   "metadata": {},
   "source": [
    "#### Example: \n",
    "\n",
    "The file `SNdata.txt` contains distance modulus generated for a simulated sample of supernovae (derived following Sect. 8.1.1 of our [book](#book)). The distance modulus is given by:\n",
    "\n",
    "$$\n",
    "\\mu(z) = -5 \\, \\log \\left( (1+z) \\frac{c}{H_0} \\int \\frac{{\\rm d} z}{(\\Omega_m (1+z)^3 + \\Omega_\\Lambda)^{1/2} }  \\right)\n",
    "$$\n",
    "\n",
    "This model is clearly non linear, and the error bars are heteroscedastic Gaussian noise that increases with the supernova redshift. Clearly this won't be well represented with a linear model, but we will keep this example all along (in this lecture and in the upcoming ones) to see how various regression techniques help in fitting those data sets.\n",
    "\n",
    "The file contains 3 columns: 1- The Supernova redshift ; 2- Its distance modulus $\\mu(z)$ (calculated based on some cosmological parameters), and 3- The uncertainty $\\sigma_\\mu$ on the distance modulus.\n",
    "We will now read that file and perform a linear regression on the data. We know that this will not work well, but this does not preclude trying this linear model to see how it performs. \n"
   ]
  },
  {
   "cell_type": "code",
   "execution_count": 2,
   "metadata": {},
   "outputs": [],
   "source": [
    "# Reading the data and filling data arrays\n",
    "data = np.loadtxt('SNdata.txt')\n",
    "x_data, y_data, sigma = data[:,0], data[:,1], data[:,2]\n",
    "x_data = x_data \n",
    "wght = 1./sigma"
   ]
  },
  {
   "cell_type": "code",
   "execution_count": 3,
   "metadata": {},
   "outputs": [
    {
     "name": "stdout",
     "output_type": "stream",
     "text": [
      "Fitted coefficients: slope = 4.623, intercept= 39.687\n"
     ]
    }
   ],
   "source": [
    "# MLE regression of a linear model (deg=1)\n",
    "p_model, cov = np.polyfit(x_data, y_data, deg=1, w=wght, cov=True)\n",
    "xarr = np.linspace(x_data.min(), x_data.max()+0.1, 100)\n",
    "y_model = p_model[1] + p_model[0]*xarr    \n",
    "y_predict = p_model[1] + p_model[0]*x_data   \n",
    "\n",
    "print('Fitted coefficients: slope = %.3f, intercept= %.3f' %(p_model[0], p_model[1]))"
   ]
  },
  {
   "cell_type": "code",
   "execution_count": 4,
   "metadata": {},
   "outputs": [
    {
     "data": {
      "text/plain": [
       "Text(0,0.5,'$\\\\mu(z)$')"
      ]
     },
     "execution_count": 4,
     "metadata": {},
     "output_type": "execute_result"
    },
    {
     "data": {
      "image/png": "[encoded data removed]",
      "text/plain": [
       "<matplotlib.figure.Figure at 0x13a518ba8>"
      ]
     },
     "metadata": {},
     "output_type": "display_data"
    }
   ],
   "source": [
    "# Showing the results\n",
    "plt.errorbar(x_data, y_data, yerr=sigma, ls='', marker='d')\n",
    "plt.plot(xarr, y_model)         # Calculate y for the sorted x array\n",
    "plt.xlabel('redshift (z)')\n",
    "plt.ylabel(r'$\\mu(z)$')"
   ]
  },
  {
   "cell_type": "code",
   "execution_count": 5,
   "metadata": {},
   "outputs": [
    {
     "name": "stdout",
     "output_type": "stream",
     "text": [
      "chi^2 = 153.57 , for 98 dof, namely a reduced chi2= 1.57\n",
      "Covariance matrix : \n",
      " [[ 0.13192809 -0.07208123]\n",
      " [-0.07208123  0.05355465]]\n"
     ]
    }
   ],
   "source": [
    "# Calculating the chi^2\n",
    "chi2 = np.sum(( (y_data-y_predict)/sigma)**2) \n",
    "print('chi^2 = %.2f , for %i dof, namely a reduced chi2= %.2f' %(chi2, len(x_data)-2, chi2/(len(x_data)-2)) )\n",
    "print('Covariance matrix : \\n', cov )"
   ]
  },
  {
   "cell_type": "markdown",
   "metadata": {},
   "source": [
    "#### Quality of the linear regression:\n",
    "\n",
    "We know that if we repeat the observations a large number of times, the $\\chi^2$ should get distributed following a $\\chi^2$ distribution. If $Q = \\sum_{i=1}^{N} z_i^2$ is the sum of the squared residuals, the $\\chi^2$ distribution, with $k = N$ degrees of freedom can be written:      \n",
    "$$\n",
    "p(Q/k) = \\frac{1} {(2\\,\\Gamma(k/2))}  (Q/2)^{k/2-1}  \\exp(-Q/2)\n",
    "$$\n",
    "\n",
    "We know that the expectation value in that case is $k$ and the standard deviation $\\sigma = \\sqrt{2k}$. Hence, $E(\\chi^2) = N-n_{\\rm {param}}$. For the linear fit above, we have 98 dof and hence we expect our $\\chi^2$ to be within some fraction of $\\sigma = \\sqrt{2*98} \\sim 14 $ from 98. \n"
   ]
  },
  {
   "cell_type": "markdown",
   "metadata": {},
   "source": [
    "Because we know that the $\\chi^2$ follows a chi-2 distribution, we can use the CDF of the chi2 distribution to make a statistical statement about the value of the $\\chi^2$ that we have obtained, i.e. what is the probability of getting a  value of $\\chi^2$ larger or equal to the one we have obtained. If we write $x$ the value we obtain and $X$ the random variable for which we now the distribution, it means we search to find $p(X \\leq x)$. Remember that from the CDF, we have  can $p(x \\leq X)$, so this p-value is simply 1-CDF. This p-value is not only used in the context of $\\chi^2$ but in the general context of hypothesis testing. \n",
    "\n",
    "If the p-value is small (typically < 0.05), it means that it is unlikely to get such a large value of the $\\chi^2$. On the contrary, if it is too close to 1, it is also suspicious. It means that the derived $\\chi^2$ is very low and probably much lower than what you would have obtained for a random sample. In both cases, the interpretation strongly relies on the uncertainty $\\sigma$ on your data point. If $\\sigma$ is **over-estimated**, your $\\chi^2$ will be too small (and p-value close to 1). COnversely, if the uncertainties are **under-estimated**, your $\\chi^2$ will be too large (and p-value $< 0.05$). "
   ]
  },
  {
   "cell_type": "code",
   "execution_count": 6,
   "metadata": {},
   "outputs": [
    {
     "data": {
      "text/plain": [
       "0.0002864513207404551"
      ]
     },
     "execution_count": 6,
     "metadata": {},
     "output_type": "execute_result"
    }
   ],
   "source": [
    "1-scipy.stats.chi2.cdf(chi2, df= len(x_data)-2) # Using the cdf (1-p(x < x_i))"
   ]
  },
  {
   "cell_type": "code",
   "execution_count": 7,
   "metadata": {},
   "outputs": [
    {
     "data": {
      "text/plain": [
       "Text(0.5,1,'CDF (chi2 distribution)')"
      ]
     },
     "execution_count": 7,
     "metadata": {},
     "output_type": "execute_result"
    },
    {
     "data": {
      "image/png": "[encoded data removed]",
      "text/plain": [
       "<matplotlib.figure.Figure at 0xa743bc8d0>"
      ]
     },
     "metadata": {},
     "output_type": "display_data"
    }
   ],
   "source": [
    "# Illustration of the p-value for a chi2 = 140\n",
    "chi2 = 130.  # FOR THE SAKE of illustration \n",
    "X = np.arange(len(x_data)-60, len(x_data)+60, 0.1)\n",
    "pdf_chi = scipy.stats.chi2.pdf(X, df= len(x_data)-2)\n",
    "cdf_chi = scipy.stats.chi2.cdf(X, df= len(x_data)-2)\n",
    "f, ax = plt.subplots(ncols=2, figsize=(20, 7))\n",
    "ax[0].plot(X, pdf_chi)\n",
    "ax[0].set_xlabel(r'$\\chi^2$')\n",
    "ax[1].plot(X, cdf_chi)\n",
    "ax[1].set_xlabel(r'$\\chi^2$')\n",
    "idchi2 = np.searchsorted(X, chi2)   # Search the id of our chi2 in X\n",
    "ax[0].vlines(chi2, 0, pdf_chi[idchi2]) \n",
    "ax[1].vlines(chi2, 0, cdf_chi[idchi2]) \n",
    "ax[0].fill_between(X[idchi2::], 0, pdf_chi[idchi2::], color='red', alpha=0.2)\n",
    "pval = 1-scipy.stats.chi2.cdf(chi2, df= len(x_data)-2)\n",
    "ax[1].hlines(cdf_chi[idchi2], 40, chi2) \n",
    "ax[1].set_xlim(40, 160)\n",
    "#ax[1].annotate(r'$1-p$', (40, 0.9), fontsize=18.)\n",
    "ax[1].text(30, 0.95, r'$1-p$', fontsize=18., color='red')\n",
    "ax[0].set_title('PDF (chi2 distribution)')\n",
    "ax[1].set_title('CDF (chi2 distribution)')"
   ]
  },
  {
   "cell_type": "markdown",
   "metadata": {},
   "source": [
    "For illustration, we have changed the $\\chi^2$ value of the fit to 130. The p-value correspond to the probability to have a $\\chi^2$ at least as large as 140, this is therefore the red area of the left figure. The CDF for $\\chi^2 = 130$ corresponds to $1-p$.  "
   ]
  },
  {
   "cell_type": "code",
   "execution_count": 8,
   "metadata": {},
   "outputs": [
    {
     "data": {
      "text/plain": [
       "0.016912939591529397"
      ]
     },
     "execution_count": 8,
     "metadata": {},
     "output_type": "execute_result"
    }
   ],
   "source": [
    "# p value of the fit for chi2= 130\n",
    "pval = 1-scipy.stats.chi2.cdf(130, df= len(x_data)-2)\n",
    "pval"
   ]
  },
  {
   "cell_type": "markdown",
   "metadata": {},
   "source": [
    "##### Exercise: \n",
    "\n",
    "Let's assume the following fake data set:\n",
    "``` python \n",
    "a, b = 0.3, 0\n",
    "xdata = np.arange(0., 6., 0.05)\n",
    "sigma = np.zeros_like(xdata)+0.1  # homoscedastic errors\n",
    "ydata = b + a * xdata + sigma * np.random.randn(len(xdata))\n",
    "```\n",
    "- Fit a straight line to those data\n",
    "- Estimate the quality of the fit. Is it reasonable ? \n",
    "- Re-do the fit using wrong error bars (you can simply give an over/underestimated $\\sigma$ when calculating the goodness of of fit). Try e.g. overestimate of the error bars by a factor 0.75, 0.9, 1.2, 1.5. Is the new $\\chi^2$ plausible ? What can you say regarding the P-value associated to the $\\chi^2$ found ?  "
   ]
  },
  {
   "cell_type": "code",
   "execution_count": null,
   "metadata": {},
   "outputs": [],
   "source": [
    "# Creating a fake data set \n"
   ]
  },
  {
   "cell_type": "code",
   "execution_count": null,
   "metadata": {},
   "outputs": [],
   "source": [
    "  # Regression \n",
    "\n",
    "   # Array with Model prediction on a regular grid\n",
    "  # Array with Model prediction at for the same x as the data\n",
    "\n",
    "  # Print results of the fit "
   ]
  },
  {
   "cell_type": "code",
   "execution_count": null,
   "metadata": {},
   "outputs": [],
   "source": [
    "# Plot the results \n",
    "\n",
    "# Calculate the chi2 and p-value and print the result on the screen \n"
   ]
  },
  {
   "cell_type": "code",
   "execution_count": null,
   "metadata": {},
   "outputs": [],
   "source": [
    "# What if we had overestimated the error bar sigma by a factor 0.75, 0.9, 1.2, 1.5\n",
    "# Print chi2 "
   ]
  },
  {
   "cell_type": "code",
   "execution_count": null,
   "metadata": {},
   "outputs": [],
   "source": []
  },
  {
   "cell_type": "markdown",
   "metadata": {},
   "source": [
    "#### IV.1.2 General least-square fit\n",
    "\n",
    "A generalisation of the case discussed in IV.1.1 is by considering that we have linear combination of any $K$ function of $x$. This could for example be a polynomial of order $K$: \n",
    "\n",
    "$$\n",
    "y_i = \\theta_0 + \\theta_1\\,x_i + \\theta_2\\, x_i^2 + ... + \\theta_K \\, x_i^K + \\epsilon_i\n",
    "$$\n",
    "\n",
    "Either our model is truely polynomial, or is the result of the Taylor expansion of a non linear model. \n",
    "\n",
    "The formula derived for the linear model are still valid but we now need to replace the design matrix M by:\n",
    "$$\n",
    "M =  \\left[ \\begin{array}{cccc}\n",
    "1 & x_0 & x_0^2 & ... & x_0^K\\\\ \n",
    "1 & x_1 & x_1^2 & ... & x_1^K \\\\ \n",
    "... \\\\ \n",
    "1 & x_{N-1} & x_{N-1}^2 & ... & x_{N-1}^K\n",
    " \\end{array} \\right], \n",
    "$$\n",
    "\n",
    "If we fit a polynomial of order $p$ to data sets of $k$ dimensions, the number of parameters is given by:\n",
    "$$\n",
    "m = \\frac{(p+k)!}{p!k!},\n",
    "$$\n",
    "\n",
    "and the number of degrees of freedom $\\nu = N-m$. For our typical 1D case, we have $m = p+1$, where p is the order of the polynomial, but if you increase the number of dimensions, the number of parameters increases exponentially with the order p (as seen in the above expression of $m$).\n",
    "\n",
    "For the fit we can make use of `np.polyfit()`:"
   ]
  },
  {
   "cell_type": "code",
   "execution_count": 10,
   "metadata": {},
   "outputs": [
    {
     "name": "stdout",
     "output_type": "stream",
     "text": [
      "Fitted coefficients:  [ -7.10642177  28.05365322 -40.36861874  27.70828185  35.79938077]\n"
     ]
    }
   ],
   "source": [
    "# Using np.polyfit()\n",
    "\n",
    "data = np.loadtxt('SNdata.txt')\n",
    "x_data, y_data, sigma = data[:,0], data[:,1], data[:,2]\n",
    "x_data = x_data \n",
    "wght = 1./sigma\n",
    "deg=4\n",
    "p_model, cov = np.polyfit(x_data, y_data, deg=deg, w=wght, cov=True)\n",
    "\n",
    "xarr = np.linspace(x_data.min(), x_data.max()+0.1, 100)\n",
    "\n",
    "p = np.poly1d(p_model)              # This is a convenience function to build 1d polynomial ! Let's use it ! \n",
    "y_model = p(xarr)\n",
    "y_predict = p(x_data)\n",
    "\n",
    "print('Fitted coefficients: ', p_model)"
   ]
  },
  {
   "cell_type": "code",
   "execution_count": 11,
   "metadata": {},
   "outputs": [
    {
     "data": {
      "text/plain": [
       "Text(0,0.5,'$\\\\mu(z)$')"
      ]
     },
     "execution_count": 11,
     "metadata": {},
     "output_type": "execute_result"
    },
    {
     "data": {
      "image/png": "[encoded data removed]",
      "text/plain": [
       "<matplotlib.figure.Figure at 0xa74535ef0>"
      ]
     },
     "metadata": {},
     "output_type": "display_data"
    }
   ],
   "source": [
    "plt.errorbar(x_data, y_data, yerr=sigma, ls='', marker='d')\n",
    "plt.plot(xarr, y_model)         \n",
    "plt.xlabel('redshift (z)')\n",
    "plt.ylabel(r'$\\mu(z)$')"
   ]
  },
  {
   "cell_type": "code",
   "execution_count": 12,
   "metadata": {},
   "outputs": [
    {
     "name": "stdout",
     "output_type": "stream",
     "text": [
      "chi^2 = 96.94 , for 95 dof, namely a reduced chi2= 1.02\n",
      "p_value 4.254e-01\n",
      "Covariance matrix : \n",
      " [[  15.48973905  -49.84437726   52.39566332  -20.39654589    2.30053446]\n",
      " [ -49.84437726  163.33570862 -175.50232032   69.97803277   -8.08844771]\n",
      " [  52.39566332 -175.50232032  193.82605035  -79.78423477    9.55098348]\n",
      " [ -20.39654589   69.97803277  -79.78423477   34.2373496    -4.32372705]\n",
      " [   2.30053446   -8.08844771    9.55098348   -4.32372705    0.59923397]]\n"
     ]
    }
   ],
   "source": [
    "chi2 = np.sum(( (y_data-y_predict)/sigma)**2) \n",
    "p_value = 1-scipy.stats.chi2.cdf(chi2, df= len(x_data)-(deg+1)) \n",
    "print('chi^2 = %.2f , for %i dof, namely a reduced chi2= %.2f' %(chi2, len(x_data)-(deg+1), chi2/(len(x_data)-(deg+1))) )\n",
    "print('p_value %.3e' % p_value )\n",
    "print('Covariance matrix : \\n', cov )"
   ]
  },
  {
   "cell_type": "markdown",
   "metadata": {},
   "source": [
    "#### IV.1.3 Basis function regression\n",
    "\n",
    "*This section is provided only for completeness. Topic not covered in 2020-2021.*\n",
    "\n",
    "The polynomial fit can be generalized to a fit of linear combination of basis functions, i.e. one can replace any row of the design matrix with any series of linear or non-linear functions of $x_i$. In other words, we replace:\n",
    "$$\n",
    "y_i = \\theta_0 + \\theta_1\\,x_i + \\theta_2\\, x_i^2 + ... + \\theta_K \\, x_i^K + \\epsilon_i\n",
    "$$\n",
    "by \n",
    "$$\n",
    "y_i = \\theta_0 + \\theta_1\\,B_1(x_i) + \\theta_2\\, B_2(x_i) + ... + \\theta_K \\, B_k(x_i) + \\epsilon_i\n",
    "$$\n",
    "\n",
    "where $B_k(x_i)$ is an arbitrary basis function of our independent variable. \n",
    "\n",
    "As we are fitting only for coefficients multiplying these rows, the problem remains linear. Examples of such basis functions are \"splines\" and \"Gaussian\" basis function. \n",
    "\n",
    "Fitting basis functions can be done with the routine `BasisFunctionRegression` in `astroML.linear_model`. "
   ]
  },
  {
   "cell_type": "markdown",
   "metadata": {},
   "source": [
    "#### IV.1.4 Multi-Linear regression\n",
    "\n",
    "*This section is provided only for completeness. Topic not covered in 2020-2021.*\n",
    "\n",
    "The linear regression scheme introduced in [IV.1.1](IV.1.1) can be generalized to multivariate data. In that case insead of minimizing a line in 2 dimensions, we minimize an hyperplane in $k-$ dimensions: \n",
    "\n",
    "$$\n",
    "y_i = \\theta_0+\\theta_1\\,x_{i1} + \\theta_2\\,x_{i2} +  ...+ \\theta_k \\, x_{ik} + \\epsilon_i\n",
    "$$\n",
    "\n",
    "The design matrix M is: \n",
    "\n",
    "$$\n",
    "M =  \\left[ \\begin{array}{cccc}\n",
    "1 & x_{00} & x_{01} & ... & x_{0k}\\\\ \n",
    "1 & x_{10} & x_{11} & ... & x_{1k} \\\\ \n",
    "... \\\\ \n",
    "1 & x_{N0} & x_{N1} & ... & x_{Nk}\n",
    " \\end{array} \\right], \n",
    "$$\n",
    "\n",
    "**Python implementation** The multilinear regression is implemented in the function `LinearRegression` which is part of `sklearn.linear_model`. \n",
    "\n",
    "For making your regression, you do the following:\n",
    "\n",
    "``` python\n",
    "from sklearn.linear_model import LinearRegression\n",
    "\n",
    "model = LinearRegression()\n",
    "model.fit(x, y, weights)  # x need to be of shape [N,k],  while y and weight are of shape [N]\n",
    "# Weights are 1/sigma_i where sigma_i is the uncertainty on y_i\n",
    "\n",
    "y_predict = model.predict(x)  # Predicted values\n",
    "\n",
    "a_mod = model.coef_       # Get the slope(s)\n",
    "b_mod = model.intercept_  # Get the intercept\n",
    "\n",
    "```\n",
    " "
   ]
  },
  {
   "cell_type": "code",
   "execution_count": 13,
   "metadata": {},
   "outputs": [
    {
     "name": "stdout",
     "output_type": "stream",
     "text": [
      "Fitted coefficients: slope = 4.536, intercept= 39.744\n",
      "chi^2 = 153.67 , for 98 dof, namely a reduced chi2= 1.57\n"
     ]
    }
   ],
   "source": [
    "# Implementation of the linear fit with sklearn \n",
    "from sklearn.linear_model import LinearRegression\n",
    "\n",
    "data = np.loadtxt('SNdata.txt')\n",
    "x_data, y_data, sigma = data[:,0], data[:,1], data[:,2]\n",
    "x_data = x_data[:, np.newaxis]    # x should be [N,1] vector, because only 1 dependant variable !\n",
    "wght = 1./sigma\n",
    "\n",
    "model = LinearRegression()\n",
    "model.fit(x_data, y_data, wght)\n",
    "y_predict = model.predict(x_data)\n",
    "\n",
    "# Results of the fit\n",
    "slope = model.coef_       # Get the slope\n",
    "intercept = model.intercept_  # Get the intercept\n",
    "print('Fitted coefficients: slope = %.3f, intercept= %.3f' %(slope, intercept))\n",
    "\n",
    "chi2 = np.sum(( (y_data-y_predict)/sigma)**2) \n",
    "print('chi^2 = %.2f , for %i dof, namely a reduced chi2= %.2f' %(chi2, len(x_data)-2, chi2/(len(x_data)-2)))"
   ]
  },
  {
   "cell_type": "markdown",
   "metadata": {},
   "source": [
    "### IV.2 Regularization and penalization of the likelihood\n",
    "\n",
    "*This section is provided only for completeness. Topic not covered in 2020-2021.*\n",
    "\n",
    "It is sometimes desirable to reduce the complexity of the regression model, for example when the likelihood has a complex structure, or when the data are highly correlated such that the matrices become ill conditioned and inversion impossible, or simply when some regions of the parameter space need to be avoided. In such cases, one apply a penalty to the likelihood function. \n",
    "\n",
    "Penalizing the regression is equivalent to minimizing \n",
    "$$\n",
    "\\chi^2 \\equiv \\sum_{i=1}^{n} \\frac{\\left(y_i - \\theta_0 - \\sum_{k=1}^p \\theta_p B_p(x_{i}) \\right)^2}{\\sigma^2_i},\n",
    "$$\n",
    "\n",
    "BUT adding a constraint on the parameters $\\theta_p$, such that e.g. $\\sum |\\theta_p | < s$ (LASSO regularisation) or $\\sum \\theta^2_p < s$ (Ridge regularization). \n",
    "\n",
    "\n",
    "Using the matrix formalism, this can be expressed in the following way:    \n",
    "We have seen that the ML minimization consists in minimizing:\n",
    "$$\n",
    "(Y - M \\boldsymbol{\\theta})^T (Y - M\\boldsymbol{\\theta})\n",
    "$$\n",
    "\n",
    "The idea is to impose a penalty to this minimization term, namely:\n",
    "$$\n",
    "(Y - M \\boldsymbol{\\theta})^T (Y - M\\boldsymbol{\\theta}) + \\lambda\\,\\left |\\boldsymbol{\\theta}^T\\boldsymbol{\\theta} \\right|,\n",
    "$$\n",
    "\n",
    "where $\\lambda$ is the regularisation coefficient, and $\\left |\\boldsymbol{\\theta}^T\\boldsymbol{\\theta} \\right|$ is an example of penalty function. \n",
    "\n",
    "Solving for $\\boldsymbol{\\theta}$ ($\\partial / \\partial\\,\\theta_j = 0$), we end up:\n",
    "\n",
    "$$\n",
    "\\boldsymbol{\\theta} = (M^T C^{-1} M + \\lambda \\,I)^{-1} \\, (M^T C^{-1} Y),\n",
    "$$\n",
    "where $I$ is the identity matrix. \n",
    "\n",
    "Interestingly, if $M^T C^{-1} M$ was singular (precluding derivation of any solution) this won't be the case for $(M^T C^{-1} M + \\lambda \\,I)$, such that regularization can yield more robustly to a solution. \n",
    "\n",
    "#### IV.2.1 Ridge regression:\n",
    "\n",
    "The use of $\\left|\\boldsymbol{\\theta}^T\\boldsymbol{\\theta} \\right|$ for the regularisation is called \"ridge regression\" or \"Tikhonov regularisation\". It penalizes the sum of the square of the regression coefficients such that $|\\theta|^2 < s$. By precluding the sum of the squares of the coefficients to be too large. The smaller is the value of $s$ (which correspond to large $\\lambda$) the more the regression coefficients will be driven towards 0. \n",
    "\n",
    "Ridge regression is implemented in `sklearn.linear_model.Ridge`\n",
    "\n",
    "#### IV.2.2 LASSO regression:\n",
    "\n",
    "The LASSO (Least Absolute Schrinkage and Selection) penalization uses the absolute values of the coefficients $\\boldsymbol{\\theta}$ instead of their square (cf. `Ridge` regression) to penalize the likelihood as:\n",
    "\n",
    "$$\n",
    "(Y - M \\boldsymbol{\\theta})^T (Y - M\\boldsymbol{\\theta}) + \\lambda\\,\\left |\\boldsymbol{\\theta} \\right|,\n",
    "$$\n",
    "\n",
    "which is equivalent in least square regression to a penalty on the absolute value of the regression coefficients $|\\theta| < s$.  \n",
    "\n",
    "\n",
    "The disadvantage of LASSO regression is that there is no closed-form solution and numerical techniques need to be developed to find a solution. \n",
    "\n",
    "#### IV.2.3 How to fix $\\lambda$ ?:\n",
    "\n",
    "One can evaluate the impact the amplitude of $\\lambda$ on the regression by dividing the data set in subsets (typically, a *training set*, a *cross validation* set, and a *test set*) and evaluate how it modifies the fit. The value of $\\lambda$ that introduces the minimum error is probably the best one. \n",
    "\n",
    "This method, called *k-fold cross validation* can be summarized as follow:\n",
    "You split your data set in three parts: \n",
    "- A *training* set is used to evaluate the optimal values of $\\theta_i$ and the associated errors. \n",
    "- A *cross validation* set, that allows you to evaluate cross-validation errors. Because the cross validation was not used to evaluate the parameters, the errors may be larger in case of high bias in the fit. Therefore, the model representing the cross validation is likely to be in practice a better model. \n",
    "- The same procedure is then applied to the *test set*, giving an idea of the error we would make with a new data set. \n",
    "\n",
    "This approach, called \"k-fold cross validation\" is very common in machine learning studies, but can also be used to evaluate $\\lambda$ more objectively (provided that your data set is large enough to make it possible). Sect. 8.3.3 and 8.11.1 of our [book](#book) address those questions in slightly more details. "
   ]
  },
  {
   "cell_type": "markdown",
   "metadata": {},
   "source": [
    "\n",
    "### IV.3 Regression for non linear models:\n",
    "    \n",
    "When the model is **not** anymore linear *in its parameters*, then there is no direct solution through matrix inversion, and it becomes necessary to use purely numerical method. For frequentists, the strategy generally remains to optimize the maximum likelihood estimation, or equivalently minimizing the *weighted sum of the squared residuals* $\\chi^2 \\equiv\\sum_{i=1}^{N} \\left( \\frac{y_i - f(x_i)}{\\sigma_i} \\right)^2$.   \n",
    "Note that other merit function can be implemented (e.g. maximum entropy). \n",
    "\n",
    "A popular and efficient algorithm to find the parameters that minimize your $\\chi^2$ merit function is the so-called Levenberg-Marquardt algorithm. Conceptually, that method switches between the \"Gradient Descent Method\" (you perturb the parameters by some amount \"h\" in the direction of steepest descent in your $\\chi^2$ function), and the \"Gauss-Newton Method\" that assumes that locally your function is quadratic in the parameters to determine \"h\", through a \"lagrange parameter\" lambda that is modified depending of the observed change in merit function. \n",
    "\n",
    "#### Python implementation\n",
    "\n",
    "In python, you can use the `curve_fit()` function from the `scipy.optimize` to apply levenberg Marquardt to the fit of your function. \n",
    "\n",
    "The `curve_fit()` function works like this:\n",
    "``` python\n",
    "# first create a function that defines your model\n",
    "# It must take the independent variable as the first argument and the parameters to fit as separate remaining arguments.\n",
    "def func(x, p1, p2, p3):\n",
    "    y = f(x, p1, p2, p3)  # replace f(x, p1, p2, p3) by a function of vector x with parameters p1, p2, p3\n",
    "    return y\n",
    "# Second we call curve_fit(), first three arguments being func, xdata, ydata. Next two are optional initial guess and errors on y. \n",
    "pfit, pcov = scipy.optimize.curve_fit(func, xdata, ydata, p0=x0, sigma=sigma, absolute_sigma=True) \n",
    "# there is the possibility to constrain the parameters to certain ranges using method = 'trf'\n",
    "```\n",
    "Note that the argument `absolute_sigma=True` is **mandatory** if you want a correct covariance matrix. By default, `curve_fit` considers relative sigma and rescale the sigma by a multicative factor based on the variance of the residuals (see help of `curve_fit` for details). \n",
    "\n",
    "**Important Note:** There is currently important development of model fitting within the astropy package. Several of the algorithm used are wrapper on algorithms from other packages (such as `numpy` and `scipy.optimize`), so think also \n",
    "of having a look to `astropy.modeling` (http://docs.astropy.org/en/stable/modeling/) when you search for implementations of classical fitting algorithm in python. \n",
    "\n",
    "#### Example: \n",
    "\n",
    "Again, let's use our supernova data and try to fit a logarithmic function to it ... "
   ]
  },
  {
   "cell_type": "code",
   "execution_count": 14,
   "metadata": {},
   "outputs": [
    {
     "name": "stdout",
     "output_type": "stream",
     "text": [
      "Fitted coefficients:  [44.26756374  5.97177442]\n"
     ]
    }
   ],
   "source": [
    "from scipy.optimize import curve_fit \n",
    "\n",
    "data = np.loadtxt('SNdata.txt')\n",
    "x_data, y_data, sigma = data[:,0], data[:,1], data[:,2]\n",
    "x_data = x_data \n",
    "wght = 1./sigma\n",
    "\n",
    "def logmodel(x, p1, p2):\n",
    "    return p1 + p2*np.log10(x)\n",
    "\n",
    "p_model, cov = curve_fit(logmodel, x_data, y_data, sigma=sigma, absolute_sigma=True)\n",
    "\n",
    "xarr = np.linspace(x_data.min(), x_data.max()+0.1, 100)\n",
    "\n",
    "y_model = logmodel(xarr, p_model[0], p_model[1])\n",
    "y_predict = logmodel(x_data,  p_model[0], p_model[1])\n",
    "\n",
    "print('Fitted coefficients: ', p_model)"
   ]
  },
  {
   "cell_type": "code",
   "execution_count": 15,
   "metadata": {},
   "outputs": [
    {
     "data": {
      "text/plain": [
       "Text(0,0.5,'$\\\\mu(z)$')"
      ]
     },
     "execution_count": 15,
     "metadata": {},
     "output_type": "execute_result"
    },
    {
     "data": {
      "image/png": "[encoded data removed]",
      "text/plain": [
       "<matplotlib.figure.Figure at 0xa7466fb00>"
      ]
     },
     "metadata": {},
     "output_type": "display_data"
    }
   ],
   "source": [
    "plt.errorbar(x_data, y_data, yerr=sigma, ls='', marker='d')\n",
    "plt.plot(xarr, y_model)         \n",
    "plt.xlabel('redshift (z)')\n",
    "plt.ylabel(r'$\\mu(z)$')"
   ]
  },
  {
   "cell_type": "code",
   "execution_count": 16,
   "metadata": {},
   "outputs": [
    {
     "name": "stdout",
     "output_type": "stream",
     "text": [
      "chi^2 = 98.24 , for 98 dof, namely a reduced chi2= 1.00\n",
      "p_value 4.742e-01\n",
      "Covariance matrix : \n",
      " [[0.02227959 0.03901021]\n",
      " [0.03901021 0.11339396]]\n"
     ]
    }
   ],
   "source": [
    "chi2 = np.sum(( (y_data-y_predict)/sigma)**2) \n",
    "p_value = scipy.stats.chi2.sf(chi2, df= len(x_data)-2) \n",
    "print('chi^2 = %.2f , for %i dof, namely a reduced chi2= %.2f' %(chi2, len(x_data)-(2), chi2/(len(x_data)-(2))))\n",
    "print('p_value %.3e' % p_value)\n",
    "print('Covariance matrix : \\n', cov)"
   ]
  },
  {
   "cell_type": "markdown",
   "metadata": {},
   "source": [
    "#### Exercise\n",
    "\n",
    "- Read the file \"sinus_data.txt\" and save its column into one (or multiple) arrays. The file contains 3 columns: theta, y, err_theta. Where theta is an angle (in radians). \n",
    "- Fit a model of the form $sin(a * \\theta + b)$. \n",
    "- Print the model parameters and their uncertainties. \n",
    "- Estimate the quality of the fit\n",
    "- Overplot the fitted model on the data \n",
    "\n",
    "TIP: If you do not reach a satistfactory fit, use the argument `p0` to set initial conditions of the parameters for the fit "
   ]
  },
  {
   "cell_type": "code",
   "execution_count": null,
   "metadata": {},
   "outputs": [],
   "source": []
  },
  {
   "cell_type": "code",
   "execution_count": null,
   "metadata": {},
   "outputs": [],
   "source": []
  },
  {
   "cell_type": "markdown",
   "metadata": {},
   "source": [
    "**Exercise: Covariance matrix error vs bootstrap**   \n",
    "\n",
    "- Fit the logarithmic model used above to the supernova data and use the bootstrap technique to estimate the error bars on the fitted parameters.    \n",
    "- Compare the bootstrap error to the one you derive using the covariance matrix.   \n",
    "- Redo the procedure by artificially boosting the uncertainty of the supernovae data points: How do the covariance-matrix and bootstrap error change ? "
   ]
  },
  {
   "cell_type": "code",
   "execution_count": null,
   "metadata": {},
   "outputs": [],
   "source": [
    "# Define function \n",
    "\n",
    "# Make the regression"
   ]
  },
  {
   "cell_type": "code",
   "execution_count": null,
   "metadata": {},
   "outputs": [],
   "source": [
    "# Print results\n",
    "# Overplot the result of the fit on the data "
   ]
  },
  {
   "cell_type": "code",
   "execution_count": null,
   "metadata": {},
   "outputs": [],
   "source": [
    "# Bootstraping\n",
    "\n",
    "\n",
    "# Plot histogram with the resuls \n",
    "\n",
    "# P1 - left panel - Parameter 1 \n",
    "# Calculate Bootstrap estimate of p1\n",
    "\n",
    "# p2 - right pannel - Parameter 2 \n",
    "# Calculate Bootstrap estimate of p2\n",
    "\n",
    "\n",
    "# Print the values of the results and compare with the fitted parameters and associated uncertainties"
   ]
  },
  {
   "cell_type": "code",
   "execution_count": null,
   "metadata": {},
   "outputs": [],
   "source": [
    "# Let's artificially increase the sigma and redo the fit \n"
   ]
  },
  {
   "cell_type": "code",
   "execution_count": null,
   "metadata": {},
   "outputs": [],
   "source": []
  },
  {
   "cell_type": "markdown",
   "metadata": {},
   "source": [
    "Because it is based on intrinsic scatter / noise in data, bootstrap will provide errors that are less sensitive to the good knowledge of the noise (the noise is encoded into the scatter between the data). My bootstrap estimate of the stde does not change while the results I get from the covariance matrix do change."
   ]
  },
  {
   "cell_type": "code",
   "execution_count": null,
   "metadata": {},
   "outputs": [],
   "source": []
  },
  {
   "cell_type": "markdown",
   "metadata": {},
   "source": [
    "### IV.4 What if we have outliers, errors in $x$ and $y$, models with more parameters than data ?\n",
    "\n",
    "There are \"receipes\" in the frequentist cookbook (see e.g. Numerical receipes) to address those problems, but Bayesian approaches provide sound and well motivated methodologies to deal with those situations. \n",
    "Hence, you'll have to wait that we approach Bayesian statistical inference to have answer to those questions. "
   ]
  },
  {
   "cell_type": "markdown",
   "metadata": {},
   "source": [
    "### IV.5 Summary of python tools for regression\n",
    "\n",
    "This summary is not exhaustive and only includes those regression techniques we have discussed above. \n",
    "\n",
    "\n",
    "| Model | Package | Comments  | \n",
    "|-------|---------|--------|\n",
    "|Linear  | `np.polyfit()` | $y=f(x)$ but can fit same model on multiple (k) data sets; weights = $1/\\sigma$ |\n",
    "|Linear  | `sklearn.linear_model.LinearRegression()` | $y = f(x_1, ..., x_n)$; weights = $1/\\sigma$ |\n",
    "|Linear + regularization | `sklearn.linear_model.Ridge()` | $\\sum \\theta_p^2 < s$; `RidgeCV()` implements cross validation for getting best $\\lambda$|\n",
    "|Linear + regularization | `sklearn.linear_model.Lasso()` | $\\sum |\\theta_p| < s$; `LassoCV()` implements cross validation for getting best $\\lambda$|\n",
    "|Non Linear | `scipy.optimize.curve_fit()` | Uses Levenberg marquardt for optimization; sigma = $\\sigma$, do not forget arg. `absolute_sigma = True`|\n",
    "|Non Linear | `astropy.modeling()` | Under active development ; Well suited to fit variety of 2D models (e.g. $z=f(x,y)$ - PSF/galaxy model on an image)| \n",
    "|Non Linear | [`lmfit`](http://cars9.uchicago.edu/software/python/lmfit/index.html) | High level interface to Levenberg Marquardt optimization; allows bounds on parameters| \n",
    "\n",
    "The module `statsmodels` (see https://www.statsmodels.org/stable/index.html ) provides classes and functions for the estimation of many different statistical models, as well as for conducting statistical tests and performing regressions. Once regression is perfomed on data, it also systematically calculates various quantities or performs various tests allowing to quantify the quality of your model(ing). Researchers familiar with `R` will recognise features available when performing statistical analyses with that language. `Pandas dataframes` are the prefered data format but `numpy arrays` can also be used. See also the following webpage http://scipy-lectures.org/packages/statistics/index.html#formulas-to-specify-statistical-models-in-python to understand how data, models, and variables (the `y` variable in `statsmodels` is called *endogenous* while the `x` variable is called *exogenous*) are defined with `statsmodels`. "
   ]
  },
  {
   "cell_type": "markdown",
   "metadata": {},
   "source": [
    "## Summary \n",
    "\n",
    "- The likelihood of data, given model parameters, is defined as $L \\equiv P(D \\,|\\, M(\\theta))$. \n",
    "- The point-estimators used in classical (frequentists) are in general estimators that maximize the likelihood, and are therefore called \"Maximum Likelihood Estimators\". \n",
    "- For random variables that follow a normal distribution $N(\\mu, \\sigma)$, the likelihood is given as: \n",
    "\n",
    "$$\n",
    "L \\equiv p(\\{x_i\\} | \\mu, \\sigma ) = \\frac{1}{\\sigma^n (2\\,\\pi)^{n/2}} \\exp \\left ( \\sum_{i=1}^N \\frac{-(x_i - \\mu)^2}{2\\, \\sigma^2} \\right)\n",
    "$$\n",
    "- Regression of a model $y(x)$ through data points $D={(x_i, y_i)}$ is generally performed by minimizing a merit function of the form: \n",
    "\n",
    "$$\n",
    "\\chi^2 \\equiv \\sum \\frac{(y_i - y^{\\rm{mod}}_i)^2}{\\sigma^2_i}\n",
    "$$\n",
    "\n",
    "- In addition we have the following: \n",
    "  - Minimizing the above merit function is called a $\\chi^2$ regression. The $\\chi^2$ merit function follows a $\\chi^2$ distribution with $\\nu$ degrees of freedom, where the number of degrees of freedom is given by the difference between the number of data points and the number of parameters of the model. \n",
    "  - When the uncertainties $\\sigma_i = 1$ for all the data points, one speaks of a \"least-square\" regression. \n",
    "  - One defines the reduced $\\chi^2_{\\rm red} = \\chi^2 / \\nu$. In the case where the model represents well the data , a $\\chi^2_{\\rm red} \\sim 1$ is expected (as $\\nu$ is the expectation value of the chi-2 distribution). \n",
    "  - The quality of the regression can be evaluated based on the comparison of the obtained $\\chi^2$ and its expectation value (from the chi-2 distribution). This can be summarized by calculating a p-value which is $p \\equiv 1-\\rm{CDF}(\\rm{chi2}(\\nu))$, where $\\nu$ is the number of degrees of freedom of the chi-2 distribution.  \n",
    "  - The model parameters inferred through a regression, are parameters that maximize the likelihood. \n",
    " \n",
    "- The likelihood for gaussian uncertainties is proportional to $\\exp(-\\chi^2/2)$ \n",
    "- A regression model is said *linear* if it is linear in its model parameters. In this case, there is an exact solution resulting from matrix inversion and multiplications, involving the data and their uncertainties (through a covariance matrix). \n",
    "- A regression model is *not linear* if it is **not** linear in its parameters. In that case, a numerical algorithm is needed to find the best model parameters. \n",
    "- A non exhaustive list of python tools usable for regression is provided in Sect. [IV.5](#IV.5-Summary-of-python-tools-for-regression)"
   ]
  },
  {
   "cell_type": "markdown",
   "metadata": {},
   "source": [
    "## XX. References and supplementary material: <a class=\"anchor\" id=\"X\"></a>\n",
    "\n",
    "**Chapter** (4.5, 4.7), **Chapter 8** (8.1, 8.2, 8.7) of the book <a class=\"anchor\" id=\"book\"></a> *Statistics, data mining and Machine learning in astronomy* by Z. Ivezic et al. in Princeton Series in Modern Astronomy. \n",
    "\n",
    "* $\\chi^2$ and linear fits, Andy Gould, https://arxiv.org/abs/astro-ph/0310577\n",
    "\n",
    "* Optimization in python (a rather complete reference): http://people.duke.edu/~ccc14/sta-663-2018/notebooks/S09D_Optimization_Examples.html\n",
    "\n",
    "* *All of statistics: a concise course in statistical inference*, Wasserman 2004  <a class=\"anchor\" id=\"WAS04\"></a> (see also errata in http://www.stat.cmu.edu/~larry/all-of-statistics/ ): **Chapter 8, 9**\n",
    "\n",
    "* *Statistics in theory and Practice*, Lupton 1993 <a class=\"anchor\" id=\"LUP93\"></a>: **Chapter 6, 7, 8, 9**\n",
    "\n",
    "* [Numerical recipes](http://www2.units.it/ipl/students_area/imm2/files/Numerical_Recipes.pdf) by Press et al. Cambridge University press: **Chapter 15**\n",
    "\n",
    "Other useful references to know more about the topics covered in this class: \n",
    "\n",
    "- Sklearn help: http://scikit-learn.org/stable/modules/linear_model.html\n",
    "\n",
    "- Guide on General Least Square regression by Paul Johnson: http://pj.freefaculty.org/guides/stat/Regression/GLS/GLS-1-guide.pdf\n",
    "\n",
    "- Contribution of Fisher to MLE: J.A. Aldrich R. A. Fisher and the Making of Maximum Likelihood 1912– 1922 About Fisher's invention of Maximum Likelihood: Statistical science, 1997, 12, 3, 162 https://projecteuclid.org/download/pdf_1/euclid.ss/1030037906 \n",
    "\n"
   ]
  },
  {
   "cell_type": "code",
   "execution_count": null,
   "metadata": {},
   "outputs": [],
   "source": []
  }
 ],
 "metadata": {
  "kernelspec": {
   "display_name": "Python [conda env:intel-python3]",
   "language": "python",
   "name": "conda-env-intel-python3-py"
  },
  "language_info": {
   "codemirror_mode": {
    "name": "ipython",
    "version": 3
   },
   "file_extension": ".py",
   "mimetype": "text/x-python",
   "name": "python",
   "nbconvert_exporter": "python",
   "pygments_lexer": "ipython3",
   "version": "3.7.9"
  }
 },
 "nbformat": 4,
 "nbformat_minor": 4
}
